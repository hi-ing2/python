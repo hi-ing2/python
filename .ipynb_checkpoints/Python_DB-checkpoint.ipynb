{
 "cells": [
  {
   "cell_type": "code",
   "execution_count": 19,
   "metadata": {},
   "outputs": [
    {
     "name": "stdout",
     "output_type": "stream",
     "text": [
      "123\n",
      "456\n",
      "738\n",
      "615\n",
      "492\n",
      "56088\n",
      "None\n"
     ]
    }
   ],
   "source": [
    "# a, b = map(int, input().split(' '))\n",
    "a = int(input())\n",
    "b = int(input())\n",
    "\n",
    "# b % 10 == 5\n",
    "# (b // 10) % 10 == 8\n",
    "# ((b // 10) // 10) % 10 == 3 \n",
    "class aaa:\n",
    "    \n",
    "\n",
    "    def double(self, a, b):\n",
    "        self.bv = b\n",
    "        for i in range(1, len(str(b))+1):\n",
    "            self.br = self.bv % 10\n",
    "            print(a*self.br)\n",
    "            self.bv = self.bv //10\n",
    "        print(a*b)\n",
    "\n",
    "A = aaa()\n",
    "print(A.double(a, b))\n",
    "\n",
    "\n",
    "    \n",
    "\n",
    "\n",
    "\n",
    "\n",
    "\n"
   ]
  },
  {
   "cell_type": "code",
   "execution_count": 26,
   "metadata": {},
   "outputs": [
    {
     "name": "stdout",
     "output_type": "stream",
     "text": [
      "(1, '제목수정됨', '내용Z')\n",
      "1\n"
     ]
    }
   ],
   "source": [
    "#SELECT\n",
    "import pymysql\n",
    "\n",
    "conn = None\n",
    "\n",
    "try:\n",
    "    conn = pymysql.connect(\n",
    "    host='localhost', user='root', password='3318', db='python', charset='utf8')\n",
    "    \n",
    "    cursor = conn.cursor()\n",
    "    sql = '''SELECT * FROM mysql'''\n",
    "    cursor.execute(sql)\n",
    "    result = cursor.fetchone() #한줄만 나옴\n",
    "    print(result) #튜플 한개\n",
    "    print(result[0]) #튜플의 첫번째 요소\n",
    "    \n",
    "    conn.commit()\n",
    "    cursor.close()\n",
    "    conn.close()\n",
    "    \n",
    "except pymysql.InternalError as e :\n",
    "    print('예외 발생',e)"
   ]
  },
  {
   "cell_type": "code",
   "execution_count": 22,
   "metadata": {},
   "outputs": [
    {
     "name": "stdout",
     "output_type": "stream",
     "text": [
      "((1, '제목수정됨', '내용Z'), (3, '제목A', '내용Z'))\n",
      "(1, '제목수정됨', '내용Z')\n",
      "제목수정됨\n"
     ]
    }
   ],
   "source": [
    "#SELECT\n",
    "import pymysql\n",
    "\n",
    "conn = None\n",
    "\n",
    "try:\n",
    "    conn = pymysql.connect(\n",
    "    host='localhost', user='root', password='3318', db='python', charset='utf8')\n",
    "    \n",
    "    cursor = conn.cursor()\n",
    "    sql = '''SELECT * FROM mysql'''\n",
    "    cursor.execute(sql)\n",
    "    result = cursor.fetchmany(2) #두줄까지만 나옴\n",
    "    print(result) #튜플안에 튜플형태\n",
    "    print(result[0]) #튜플형태\n",
    "    print(result[0][1]) #튜플의 두번째 요소\n",
    "    \n",
    "    conn.commit()\n",
    "    cursor.close()\n",
    "    conn.close()\n",
    "    \n",
    "except pymysql.InternalError as e :\n",
    "    print('예외 발생',e)"
   ]
  },
  {
   "cell_type": "code",
   "execution_count": 21,
   "metadata": {},
   "outputs": [
    {
     "name": "stdout",
     "output_type": "stream",
     "text": [
      "((1, '제목수정됨', '내용Z'), (3, '제목A', '내용Z'), (4, '제목A', '내용Z'), (5, '제목A', '내용Z'))\n",
      "(1, '제목수정됨', '내용Z')\n",
      "제목수정됨\n"
     ]
    }
   ],
   "source": [
    "#SELECT\n",
    "import pymysql\n",
    "\n",
    "conn = None\n",
    "\n",
    "try:\n",
    "    conn = pymysql.connect(\n",
    "    host='localhost', user='root', password='3318', db='python', charset='utf8')\n",
    "    \n",
    "    cursor = conn.cursor()\n",
    "    sql = '''SELECT * FROM mysql'''\n",
    "    cursor.execute(sql)\n",
    "    result = cursor.fetchall()\n",
    "    print(result) #튜플안에 튜플형태\n",
    "    print(result[0]) #튜플형태\n",
    "    print(result[0][1]) #튜플의 두번째 요소\n",
    "    \n",
    "    conn.commit()\n",
    "    cursor.close()\n",
    "    conn.close()\n",
    "    \n",
    "except pymysql.InternalError as e :\n",
    "    print('예외 발생',e)"
   ]
  },
  {
   "cell_type": "code",
   "execution_count": 16,
   "metadata": {},
   "outputs": [],
   "source": [
    "#delete\n",
    "import pymysql\n",
    "\n",
    "conn = None\n",
    "\n",
    "try:\n",
    "    conn = pymysql.connect(\n",
    "    host='localhost', user='root', password='3318', db='python', charset='utf8')\n",
    "    \n",
    "    cursor = conn.cursor()\n",
    "    sql = '''DELETE FROM mysql\n",
    "             WHERE ID = %s'''\n",
    "    cursor.execute(sql, (2)) #ID 2번 삭제\n",
    "    conn.commit()\n",
    "    cursor.close()\n",
    "    conn.close()\n",
    "    \n",
    "except pymysql.InternalError as e :\n",
    "    print('예외 발생',e)"
   ]
  },
  {
   "cell_type": "code",
   "execution_count": 15,
   "metadata": {},
   "outputs": [],
   "source": [
    "#update\n",
    "import pymysql\n",
    "\n",
    "conn = None\n",
    "\n",
    "try:\n",
    "    conn = pymysql.connect(\n",
    "    host='localhost', user='root', password='3318', db='python', charset='utf8')\n",
    "    \n",
    "    cursor = conn.cursor()\n",
    "    sql = '''UPDATE mysql SET TITLE = %s\n",
    "             WHERE ID = %s'''\n",
    "    cursor.execute(sql, ('제목수정됨', 1)) #ID 1번\n",
    "    conn.commit()\n",
    "    cursor.close()\n",
    "    conn.close()\n",
    "    \n",
    "except pymysql.InternalError as e :\n",
    "    print('예외 발생',e)"
   ]
  },
  {
   "cell_type": "code",
   "execution_count": 19,
   "metadata": {},
   "outputs": [],
   "source": [
    "#insert\n",
    "import pymysql\n",
    "\n",
    "conn = None\n",
    "\n",
    "try:\n",
    "    conn = pymysql.connect(\n",
    "    host='localhost', user='root', password='3318', db='python', charset='utf8')\n",
    "    \n",
    "    cursor = conn.cursor()\n",
    "    sql = '''INSERT INTO mysql(ID, TITLE, CONTENT)\n",
    "             VALUES(NULL, %s, %s)'''\n",
    "    cursor.execute(sql, ('제목A', '내용Z'))\n",
    "    conn.commit()\n",
    "    cursor.close()\n",
    "    conn.close()\n",
    "    \n",
    "except pymysql.InternalError as e :\n",
    "    print('예외 발생',e)"
   ]
  },
  {
   "cell_type": "code",
   "execution_count": 12,
   "metadata": {},
   "outputs": [],
   "source": [
    "#create\n",
    "import pymysql\n",
    "\n",
    "conn = None\n",
    "\n",
    "try:\n",
    "    conn = pymysql.connect(\n",
    "    host='localhost', user='root', password='3318', db='python', charset='utf8')\n",
    "    \n",
    "    with conn.cursor() as cursor:\n",
    "        sql = '''CREATE TABLE mysql(id INTEGER PRIMARY KEY AUTO_INCREMENT, title VARCHAR(100), content VARCHAR(100))'''\n",
    "        cursor.execute(sql)\n",
    "        conn.commit()\n",
    "       \n",
    "    \n",
    "except pymysql.InternalError as e :\n",
    "    print('예외 발생',e)\n",
    "finally:\n",
    "    if conn: #conn의 값이 있다면~\n",
    "        conn.close() #try 내에만 있어도 전역변수처럼 쓸 수 있지만, try 밖에서 정확히 conn을 선언하여 전역변수로 명시해주는게 좋음"
   ]
  },
  {
   "cell_type": "code",
   "execution_count": null,
   "metadata": {},
   "outputs": [],
   "source": []
  }
 ],
 "metadata": {
  "kernelspec": {
   "display_name": "Python 3",
   "language": "python",
   "name": "python3"
  },
  "language_info": {
   "codemirror_mode": {
    "name": "ipython",
    "version": 3
   },
   "file_extension": ".py",
   "mimetype": "text/x-python",
   "name": "python",
   "nbconvert_exporter": "python",
   "pygments_lexer": "ipython3",
   "version": "3.7.4"
  }
 },
 "nbformat": 4,
 "nbformat_minor": 2
}
