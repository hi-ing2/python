{
 "cells": [
  {
   "cell_type": "code",
   "execution_count": null,
   "metadata": {},
   "outputs": [],
   "source": [
    "from bs4 import BeautifulSoup\n",
    "import urllib.parse\n",
    "from urllib.request import Request, urlopen\n",
    "from selenium import webdriver as wd\n",
    "from selenium.webdriver.common.by import By\n",
    "from selenium.webdriver.support.ui import WebDriverWait\n",
    "from selenium.webdriver.support import expected_conditions as EC\n",
    "from selenium.webdriver.common.keys import Keys\n",
    "from selenium.webdriver.common.action_chains import ActionChains\n",
    "import time\n",
    "\n",
    "\n",
    "\n",
    "\n",
    "driver = wd.Chrome(executable_path='chromedriver.exe')\n",
    "#driver = wd.PhantomJS(executable_path='/Users/DaeHyeon/PythonStudy/lecture/phantomjs') #동작들이 눈에 안보임 & 용량이 적음, 네이버가 헤더값막음\n",
    "driver.get('https://www.glowpick.com/search/result?query=%EC%9D%B4%EB%8B%88%EC%8A%A4%ED%94%84%EB%A6%AC')\n",
    "time.sleep(2)\n",
    "emp = driver.find_element_by_css_selector('#gp-search > div > section.section-result.product > h3')\n",
    "emp.click()\n",
    "actions=ActionChains(driver)\n",
    "last_height=driver.execute_script(\"return document.body.scrollHeight\")\n",
    "print(last_height)"
   ]
  },
  {
   "cell_type": "code",
   "execution_count": null,
   "metadata": {},
   "outputs": [],
   "source": [
    "while(True):\n",
    "    actions.send_keys(Keys.END).perform()\n",
    "    time.sleep(1)\n",
    "    driver.execute_script(\"window.scrollTo(0, document.body.scrollHeight);\")\n",
    "# pNum=driver.find_element_by_css_selector('#gp-search > div > section.section-result.product > h3').text\n",
    "# pNum=int(pNum[4:-1])\n",
    "# for i in range(pNum):"
   ]
  },
  {
   "cell_type": "code",
   "execution_count": 1,
   "metadata": {},
   "outputs": [],
   "source": [
    "from pymongo import MongoClient"
   ]
  },
  {
   "cell_type": "code",
   "execution_count": 2,
   "metadata": {},
   "outputs": [],
   "source": [
    "client = MongoClient(host='localhost', port=27017)"
   ]
  },
  {
   "cell_type": "code",
   "execution_count": 3,
   "metadata": {},
   "outputs": [],
   "source": [
    "db = client['test']"
   ]
  },
  {
   "cell_type": "code",
   "execution_count": 6,
   "metadata": {},
   "outputs": [],
   "source": [
    "cursor = db.score.find()"
   ]
  },
  {
   "cell_type": "code",
   "execution_count": 7,
   "metadata": {},
   "outputs": [
    {
     "name": "stdout",
     "output_type": "stream",
     "text": [
      "0.0\n",
      "1.0\n",
      "2.0\n",
      "3.0\n",
      "4.0\n",
      "99.0\n"
     ]
    }
   ],
   "source": [
    "for data in list(cursor):\n",
    "    print(data['a'])"
   ]
  },
  {
   "cell_type": "code",
   "execution_count": 9,
   "metadata": {},
   "outputs": [
    {
     "name": "stderr",
     "output_type": "stream",
     "text": [
      "C:\\Users\\mhs34\\Anaconda3\\lib\\site-packages\\ipykernel_launcher.py:1: DeprecationWarning: save is deprecated. Use insert_one or replace_one instead\n",
      "  \"\"\"Entry point for launching an IPython kernel.\n"
     ]
    },
    {
     "data": {
      "text/plain": [
       "ObjectId('5e2ff4319d00e50bfd306457')"
      ]
     },
     "execution_count": 9,
     "metadata": {},
     "output_type": "execute_result"
    }
   ],
   "source": [
    "db.score.save( { 'a' : 5, 'exam' : 6 } )"
   ]
  },
  {
   "cell_type": "code",
   "execution_count": 10,
   "metadata": {},
   "outputs": [
    {
     "name": "stdout",
     "output_type": "stream",
     "text": [
      "0.0\n",
      "1.0\n",
      "2.0\n",
      "3.0\n",
      "4.0\n",
      "99.0\n",
      "5\n"
     ]
    }
   ],
   "source": [
    "cursor.rewind() #다시 감기\n",
    "for data in list(cursor):\n",
    "    print(data['a'])"
   ]
  },
  {
   "cell_type": "code",
   "execution_count": 11,
   "metadata": {},
   "outputs": [
    {
     "name": "stderr",
     "output_type": "stream",
     "text": [
      "C:\\Users\\mhs34\\Anaconda3\\lib\\site-packages\\ipykernel_launcher.py:1: DeprecationWarning: update is deprecated. Use replace_one, update_one or update_many instead.\n",
      "  \"\"\"Entry point for launching an IPython kernel.\n"
     ]
    },
    {
     "data": {
      "text/plain": [
       "{'n': 1, 'nModified': 1, 'ok': 1.0, 'updatedExisting': True}"
      ]
     },
     "execution_count": 11,
     "metadata": {},
     "output_type": "execute_result"
    }
   ],
   "source": [
    "db.score.update( { 'a' : 5 }, { '$set' : { 'exam' : 10 } } )"
   ]
  },
  {
   "cell_type": "code",
   "execution_count": 12,
   "metadata": {},
   "outputs": [
    {
     "name": "stdout",
     "output_type": "stream",
     "text": [
      "{'_id': ObjectId('5e2fd5cc7abb9b518384cfb3'), 'a': 0.0, 'exam': 5.0}\n",
      "{'_id': ObjectId('5e2fd5cc7abb9b518384cfb4'), 'a': 1.0, 'exam': 5.0}\n",
      "{'_id': ObjectId('5e2fd5cc7abb9b518384cfb5'), 'a': 2.0, 'exam': 5.0}\n",
      "{'_id': ObjectId('5e2fd5cc7abb9b518384cfb6'), 'a': 3.0, 'exam': 5.0}\n",
      "{'_id': ObjectId('5e2fd5cc7abb9b518384cfb7'), 'a': 4.0, 'exam': 5.0}\n",
      "{'_id': ObjectId('5e2fd6e37abb9b518384cfb8'), 'a': 99.0}\n",
      "{'_id': ObjectId('5e2ff4319d00e50bfd306457'), 'a': 5, 'exam': 10}\n"
     ]
    }
   ],
   "source": [
    "cursor.rewind()\n",
    "for data in list(cursor):\n",
    "    print(data)"
   ]
  },
  {
   "cell_type": "code",
   "execution_count": 14,
   "metadata": {},
   "outputs": [
    {
     "data": {
      "text/plain": [
       "<pymongo.results.DeleteResult at 0x1e2f2ce2e88>"
      ]
     },
     "execution_count": 14,
     "metadata": {},
     "output_type": "execute_result"
    }
   ],
   "source": [
    "db.score.delete_one( { 'a' : 5 } )"
   ]
  },
  {
   "cell_type": "code",
   "execution_count": 15,
   "metadata": {},
   "outputs": [
    {
     "name": "stdout",
     "output_type": "stream",
     "text": [
      "{'_id': ObjectId('5e2fd5cc7abb9b518384cfb3'), 'a': 0.0, 'exam': 5.0}\n",
      "{'_id': ObjectId('5e2fd5cc7abb9b518384cfb4'), 'a': 1.0, 'exam': 5.0}\n",
      "{'_id': ObjectId('5e2fd5cc7abb9b518384cfb5'), 'a': 2.0, 'exam': 5.0}\n",
      "{'_id': ObjectId('5e2fd5cc7abb9b518384cfb6'), 'a': 3.0, 'exam': 5.0}\n",
      "{'_id': ObjectId('5e2fd5cc7abb9b518384cfb7'), 'a': 4.0, 'exam': 5.0}\n",
      "{'_id': ObjectId('5e2fd6e37abb9b518384cfb8'), 'a': 99.0}\n"
     ]
    }
   ],
   "source": [
    "cursor.rewind()\n",
    "for data in list(cursor):\n",
    "    print(data)"
   ]
  },
  {
   "cell_type": "code",
   "execution_count": 45,
   "metadata": {},
   "outputs": [
    {
     "name": "stdout",
     "output_type": "stream",
     "text": [
      "202 제목100 내용100 파이썬 0 2020-01-28 11:35:07 \n",
      "201 제목99 내용99 파이썬 0 2020-01-28 11:35:07 \n",
      "200 제목98 내용98 파이썬 0 2020-01-28 11:35:07 \n",
      "199 제목97 내용97 파이썬 0 2020-01-28 11:35:07 \n",
      "198 제목96 내용96 파이썬 0 2020-01-28 11:35:07 \n"
     ]
    }
   ],
   "source": [
    "import pymysql\n",
    "def insert(sql, data):\n",
    "    cursor.execute(sql, data)\n",
    "conn = pymysql.connect(\n",
    "    host='localhost', user='root', password='3318',\n",
    "    db='python', charset='utf8')\n",
    "cursor = conn.cursor(pymysql.cursors.DictCursor)\n",
    "\n",
    "# sql = '''INSERT INTO ARTICLE\n",
    "#          (ID, TITLE, CONTENT, WRITER, HIT, C_DATE)\n",
    "#          VALUES (NULL, %s, %s, %s, 0, NOW())'''\n",
    "# for i in range(1, 101):\n",
    "#     insert(sql, ('제목' + str(i), '내용' + str(i), '파이썬'))\n",
    "# conn.commit()\n",
    "sql = '''SELECT *\n",
    "         FROM ARTICLE\n",
    "         ORDER BY ID DESC\n",
    "         LIMIT %s, 5'''\n",
    "insert(sql, 0)\n",
    "result = cursor.fetchall()\n",
    "\n",
    "for row in result:\n",
    "    for col in row:\n",
    "        print(row['%s' % col], end=' ') #dic 형태라서 각 키값대입후 밸류값 호출\n",
    "    print()\n",
    "conn.commit()\n",
    "cursor.close()\n",
    "conn.close()\n",
    "# cursor로 부터 5개 조회\n",
    "# 반복문을 이용하여 각 컬럼의 데이터 출력\n",
    "# close"
   ]
  },
  {
   "cell_type": "code",
   "execution_count": 36,
   "metadata": {},
   "outputs": [
    {
     "name": "stdout",
     "output_type": "stream",
     "text": [
      "[{'num': 201, 'name': '제목100', 'email': 'a@a.com', 'c_date': datetime.datetime(2020, 1, 28, 11, 26, 33)}, {'num': 200, 'name': '제목99', 'email': 'a@a.com', 'c_date': datetime.datetime(2020, 1, 28, 11, 26, 33)}, {'num': 199, 'name': '제목98', 'email': 'a@a.com', 'c_date': datetime.datetime(2020, 1, 28, 11, 26, 33)}, {'num': 198, 'name': '제목97', 'email': 'a@a.com', 'c_date': datetime.datetime(2020, 1, 28, 11, 26, 33)}, {'num': 197, 'name': '제목96', 'email': 'a@a.com', 'c_date': datetime.datetime(2020, 1, 28, 11, 26, 33)}]\n",
      "5\n",
      "{'num': 201, 'name': '제목100', 'email': 'a@a.com', 'c_date': datetime.datetime(2020, 1, 28, 11, 26, 33)}\n",
      "{'num': 200, 'name': '제목99', 'email': 'a@a.com', 'c_date': datetime.datetime(2020, 1, 28, 11, 26, 33)}\n",
      "{'num': 199, 'name': '제목98', 'email': 'a@a.com', 'c_date': datetime.datetime(2020, 1, 28, 11, 26, 33)}\n",
      "{'num': 198, 'name': '제목97', 'email': 'a@a.com', 'c_date': datetime.datetime(2020, 1, 28, 11, 26, 33)}\n",
      "{'num': 197, 'name': '제목96', 'email': 'a@a.com', 'c_date': datetime.datetime(2020, 1, 28, 11, 26, 33)}\n"
     ]
    }
   ],
   "source": [
    "import pymysql\n",
    "def insert(sql, data):\n",
    "    cursor.execute(sql, data)\n",
    "conn = pymysql.connect(\n",
    "    host='localhost', user='root', password='3318',\n",
    "    db='python', charset='utf8')\n",
    "cursor = conn.cursor(pymysql.cursors.DictCursor)\n",
    "# 데이터 100개 입력\n",
    "# sql = '''INSERT INTO MEMBER\n",
    "#          (NUM, NAME, EMAIL, C_DATE)\n",
    "#          VALUES (NULL, %s, %s, NOW())'''\n",
    "# for i in range(1, 101):\n",
    "#     insert(sql, ('제목' + str(i), 'a@a.com'))\n",
    "# conn.commit()\n",
    "sql = '''SELECT *\n",
    "         FROM MEMBER\n",
    "         ORDER BY NUM DESC\n",
    "         LIMIT %s, 5'''\n",
    "insert(sql, 0)\n",
    "result = cursor.fetchall()\n",
    "print(result)\n",
    "print(len(result))\n",
    "for row in result:\n",
    "    print(row)\n",
    "conn.commit()\n",
    "cursor.close()\n",
    "conn.close()\n",
    "# cursor로 부터 5개 조회\n",
    "# 반복문을 이용하여 각 컬럼의 데이터 출력\n",
    "# close"
   ]
  },
  {
   "cell_type": "code",
   "execution_count": 28,
   "metadata": {},
   "outputs": [
    {
     "name": "stdout",
     "output_type": "stream",
     "text": [
      "원하는 페이지1\n",
      "1\n",
      "7369 SMITH\n"
     ]
    }
   ],
   "source": [
    "#SELECT fetchall\n",
    "import pymysql\n",
    "\n",
    "conn = None\n",
    "page_num = int(input('원하는 페이지'))\n",
    "end_num = page_num * 10\n",
    "start_num = end_num - 9\n",
    "try:\n",
    "    conn = pymysql.connect(\n",
    "    host='localhost', user='root', password='3318', db='exam', charset='utf8')\n",
    "    \n",
    "    cursor = conn.cursor(pymysql.cursors.DictCursor)\n",
    "    sql = '''SELECT * FROM emp\n",
    "             LIMIT %s, 10''' #%s번째 부터 10개 추출!\n",
    "    cursor.execute(sql, (start_num - 1)) #mysql에서는 첫번째 번호가 0임\n",
    "    result = cursor.fetchall()\n",
    "    print(len(result))\n",
    "    for row in result:\n",
    "        print(row['EMPNO'], row['ENAME'])\n",
    "    conn.commit()\n",
    "    cursor.close()\n",
    "    conn.close()\n",
    "    \n",
    "except pymysql.InternalError as e :\n",
    "    print('예외 발생',e)"
   ]
  },
  {
   "cell_type": "code",
   "execution_count": 19,
   "metadata": {},
   "outputs": [],
   "source": [
    "#UPDATE article table\n",
    "import pymysql\n",
    "\n",
    "conn = None\n",
    "\n",
    "try:\n",
    "    conn = pymysql.connect(\n",
    "    host='localhost', user='root', password='3318', db='python', charset='utf8')\n",
    "    \n",
    "    cursor = conn.cursor()\n",
    "    sql = '''UPDATE article SET\n",
    "             TITLE = %s, CONTENT = %s, HIT = %s \n",
    "             WHERE ID = %s'''\n",
    "    cursor.execute(sql, ('제목수정', '내용수정', 100, 1)) #ID 1번\n",
    "    conn.commit()\n",
    "    cursor.close()\n",
    "    conn.close()\n",
    "    \n",
    "except pymysql.InternalError as e :\n",
    "    print('예외 발생',e)"
   ]
  },
  {
   "cell_type": "code",
   "execution_count": 16,
   "metadata": {},
   "outputs": [],
   "source": [
    "#UPDATE member table\n",
    "import pymysql\n",
    "\n",
    "conn = None\n",
    "\n",
    "try:\n",
    "    conn = pymysql.connect(\n",
    "    host='localhost', user='root', password='3318', db='python', charset='utf8')\n",
    "    \n",
    "    cursor = conn.cursor()\n",
    "    sql = '''UPDATE member SET\n",
    "             NAME = %s, EMAIL = %s \n",
    "             WHERE NUM = %s'''\n",
    "    cursor.execute(sql, ('aa', 'aa@aa,com', 1)) #ID 1번\n",
    "    conn.commit()\n",
    "    cursor.close()\n",
    "    conn.close()\n",
    "    \n",
    "except pymysql.InternalError as e :\n",
    "    print('예외 발생',e)"
   ]
  },
  {
   "cell_type": "code",
   "execution_count": 17,
   "metadata": {},
   "outputs": [],
   "source": [
    "#INSERT article table\n",
    "import pymysql\n",
    "\n",
    "conn = None\n",
    "\n",
    "conn = pymysql.connect(\n",
    "    host='localhost', user='root', password='3318',\n",
    "    db='python', charset='utf8'\n",
    "    )\n",
    "cursor = conn.cursor()\n",
    "sql = '''INSERT INTO article(ID, TITLE, CONTENT, WRITER, HIT, C_DATE)\n",
    "             VALUES(NULL, %s, %s, %s, %s, now())''' \n",
    "cursor.execute(sql, ('제목', '내용', '파이썬', 0)) #now함수는 인자로 넣으면 오류가 남\n",
    "conn.commit()\n",
    "cursor.close()\n",
    "conn.close()\n",
    "    "
   ]
  },
  {
   "cell_type": "code",
   "execution_count": 10,
   "metadata": {},
   "outputs": [],
   "source": [
    "#INSERT member table\n",
    "import pymysql\n",
    "\n",
    "conn = None\n",
    "\n",
    "conn = pymysql.connect(\n",
    "    host='localhost', user='root', password='3318',\n",
    "    db='python', charset='utf8'\n",
    "    )\n",
    "cursor = conn.cursor()\n",
    "sql = '''INSERT INTO member(NUM, NAME, EMAIL, C_DATE)\n",
    "             VALUES(NULL, %s, %s, now())''' \n",
    "cursor.execute(sql, ('a', 'a@a.com')) #now함수는 인자로 넣으면 오류가 남\n",
    "conn.commit()\n",
    "cursor.close()\n",
    "conn.close()\n",
    "    "
   ]
  },
  {
   "cell_type": "code",
   "execution_count": null,
   "metadata": {},
   "outputs": [],
   "source": [
    "#SELECT fetchone\n",
    "import pymysql\n",
    "\n",
    "conn = None\n",
    "\n",
    "try:\n",
    "    conn = pymysql.connect(\n",
    "    host='localhost', user='root', password='3318', db='exam', charset='utf8')\n",
    "    \n",
    "    cursor = conn.cursor(pymysql.cursors.DictCursor)\n",
    "    sql = '''SELECT year, area1, count(*) FROM accident\n",
    "             GROUP BY area1, year'''\n",
    "    cursor.execute(sql)\n",
    "    result = cursor.fetchall()\n",
    "    for row in result:\n",
    "        print(row['area1'], row['year'], row['count(*)']) \n",
    "        \n",
    "    conn.commit()\n",
    "    cursor.close()\n",
    "    conn.close()\n",
    "    \n",
    "except pymysql.InternalError as e :\n",
    "    print('예외 발생',e)"
   ]
  },
  {
   "cell_type": "code",
   "execution_count": 3,
   "metadata": {},
   "outputs": [
    {
     "name": "stdout",
     "output_type": "stream",
     "text": [
      "예외 발생 (1050, \"Table 'article' already exists\")\n"
     ]
    }
   ],
   "source": [
    "#연습문제 파이썬 11_01 create\n",
    "import pymysql\n",
    "\n",
    "conn = None\n",
    "\n",
    "try:\n",
    "    conn = pymysql.connect(\n",
    "    host='localhost', user='root', password='3318', db='python', charset='utf8')\n",
    "    \n",
    "    with conn.cursor() as cursor:\n",
    "        sql = '''CREATE TABLE article(id INTEGER PRIMARY KEY AUTO_INCREMENT, title VARCHAR(30), content VARCHAR(30), writer VARCHAR(30), hit INT, c_date DATETIME)'''\n",
    "        cursor.execute(sql)\n",
    "        conn.commit()\n",
    "       \n",
    "    \n",
    "except pymysql.InternalError as e :\n",
    "    print('예외 발생',e)\n",
    "finally:\n",
    "    if conn: #conn의 값이 있다면~\n",
    "        conn.close() #try 내에만 있어도 전역변수처럼 쓸 수 있지만, try 밖에서 정확히 conn을 선언하여 전역변수로 명시해주는게 좋음"
   ]
  },
  {
   "cell_type": "code",
   "execution_count": null,
   "metadata": {},
   "outputs": [],
   "source": [
    "#SELECT fetchone\n",
    "import pymysql\n",
    "\n",
    "conn = None\n",
    "\n",
    "try:\n",
    "    conn = pymysql.connect(\n",
    "    host='localhost', user='root', password='3318', db='python', charset='utf8')\n",
    "    \n",
    "    cursor = conn.cursor()\n",
    "    sql = '''SELECT * FROM mysql'''\n",
    "    cursor.execute(sql)\n",
    "    result = cursor.fetchone() #한줄만 나옴\n",
    "    print(result) #튜플 한개\n",
    "    print(result[0]) #튜플의 첫번째 요소\n",
    "    \n",
    "    conn.commit()\n",
    "    cursor.close()\n",
    "    conn.close()\n",
    "    \n",
    "except pymysql.InternalError as e :\n",
    "    print('예외 발생',e)"
   ]
  },
  {
   "cell_type": "code",
   "execution_count": null,
   "metadata": {},
   "outputs": [],
   "source": [
    "#SELECT fetchmany\n",
    "import pymysql\n",
    "\n",
    "conn = None\n",
    "\n",
    "try:\n",
    "    conn = pymysql.connect(\n",
    "    host='localhost', user='root', password='3318', db='python', charset='utf8')\n",
    "    \n",
    "    cursor = conn.cursor()\n",
    "    sql = '''SELECT * FROM mysql'''\n",
    "    cursor.execute(sql)\n",
    "    result = cursor.fetchmany(2) #두줄까지만 나옴\n",
    "    print(result) #튜플안에 튜플형태\n",
    "    print(result[0]) #튜플형태\n",
    "    print(result[0][1]) #튜플의 두번째 요소\n",
    "    \n",
    "    conn.commit()\n",
    "    cursor.close()\n",
    "    conn.close()\n",
    "    \n",
    "except pymysql.InternalError as e :\n",
    "    print('예외 발생',e)"
   ]
  },
  {
   "cell_type": "code",
   "execution_count": 4,
   "metadata": {},
   "outputs": [
    {
     "name": "stdout",
     "output_type": "stream",
     "text": [
      "((1, '제목수정됨', '내용Z'), (3, '제목A', '내용Z'), (4, '제목A', '내용Z'), (5, '제목A', '내용Z'))\n",
      "(1, '제목수정됨', '내용Z')\n",
      "제목수정됨\n"
     ]
    }
   ],
   "source": [
    "#SELECT fetchall\n",
    "import pymysql\n",
    "\n",
    "conn = None\n",
    "\n",
    "try:\n",
    "    conn = pymysql.connect(\n",
    "    host='localhost', user='root', password='3318', db='python', charset='utf8')\n",
    "    \n",
    "    cursor = conn.cursor()\n",
    "    sql = '''SELECT * FROM mysql'''\n",
    "    cursor.execute(sql)\n",
    "    result = cursor.fetchall()\n",
    "    print(result) #튜플안에 튜플형태\n",
    "    print(result[0]) #튜플형태\n",
    "    print(result[0][1]) #튜플의 두번째 요소\n",
    "    \n",
    "    conn.commit()\n",
    "    cursor.close()\n",
    "    conn.close()\n",
    "    \n",
    "except pymysql.InternalError as e :\n",
    "    print('예외 발생',e)"
   ]
  },
  {
   "cell_type": "code",
   "execution_count": null,
   "metadata": {},
   "outputs": [],
   "source": [
    "#delete\n",
    "import pymysql\n",
    "\n",
    "conn = None\n",
    "\n",
    "try:\n",
    "    conn = pymysql.connect(\n",
    "    host='localhost', user='root', password='3318', db='python', charset='utf8')\n",
    "    \n",
    "    cursor = conn.cursor()\n",
    "    sql = '''DELETE FROM mysql\n",
    "             WHERE ID = %s'''\n",
    "    cursor.execute(sql, (2)) #ID 2번 삭제\n",
    "    conn.commit()\n",
    "    cursor.close()\n",
    "    conn.close()\n",
    "    \n",
    "except pymysql.InternalError as e :\n",
    "    print('예외 발생',e)"
   ]
  },
  {
   "cell_type": "code",
   "execution_count": null,
   "metadata": {},
   "outputs": [],
   "source": [
    "#update\n",
    "import pymysql\n",
    "\n",
    "conn = None\n",
    "\n",
    "try:\n",
    "    conn = pymysql.connect(\n",
    "    host='localhost', user='root', password='3318', db='python', charset='utf8')\n",
    "    \n",
    "    cursor = conn.cursor()\n",
    "    sql = '''UPDATE mysql SET TITLE = %s\n",
    "             WHERE ID = %s'''\n",
    "    cursor.execute(sql, ('제목수정됨', 1)) #ID 1번\n",
    "    conn.commit()\n",
    "    cursor.close()\n",
    "    conn.close()\n",
    "    \n",
    "except pymysql.InternalError as e :\n",
    "    print('예외 발생',e)"
   ]
  },
  {
   "cell_type": "code",
   "execution_count": null,
   "metadata": {},
   "outputs": [],
   "source": [
    "#insert\n",
    "import pymysql\n",
    "\n",
    "conn = None\n",
    "\n",
    "try:\n",
    "    conn = pymysql.connect(\n",
    "    host='localhost', user='root', password='3318', db='python', charset='utf8')\n",
    "    \n",
    "    cursor = conn.cursor()\n",
    "    sql = '''INSERT INTO mysql(ID, TITLE, CONTENT)\n",
    "             VALUES(NULL, %s, %s)'''\n",
    "    cursor.execute(sql, ('제목A', '내용Z'))\n",
    "    conn.commit()\n",
    "    cursor.close()\n",
    "    conn.close()\n",
    "    \n",
    "except pymysql.InternalError as e :\n",
    "    print('예외 발생',e)"
   ]
  },
  {
   "cell_type": "code",
   "execution_count": null,
   "metadata": {},
   "outputs": [],
   "source": [
    "#create\n",
    "import pymysql\n",
    "\n",
    "conn = None\n",
    "\n",
    "try:\n",
    "    conn = pymysql.connect(\n",
    "    host='localhost', user='root', password='3318', db='python', charset='utf8')\n",
    "    \n",
    "    with conn.cursor() as cursor:\n",
    "        sql = '''CREATE TABLE mysql(id INTEGER PRIMARY KEY AUTO_INCREMENT, title VARCHAR(100), content VARCHAR(100))'''\n",
    "        cursor.execute(sql)\n",
    "        conn.commit()\n",
    "       \n",
    "    \n",
    "except pymysql.InternalError as e :\n",
    "    print('예외 발생',e)\n",
    "finally:\n",
    "    if conn: #conn의 값이 있다면~\n",
    "        conn.close() #try 내에만 있어도 전역변수처럼 쓸 수 있지만, try 밖에서 정확히 conn을 선언하여 전역변수로 명시해주는게 좋음"
   ]
  },
  {
   "cell_type": "code",
   "execution_count": null,
   "metadata": {},
   "outputs": [],
   "source": []
  }
 ],
 "metadata": {
  "kernelspec": {
   "display_name": "Python 3",
   "language": "python",
   "name": "python3"
  },
  "language_info": {
   "codemirror_mode": {
    "name": "ipython",
    "version": 3
   },
   "file_extension": ".py",
   "mimetype": "text/x-python",
   "name": "python",
   "nbconvert_exporter": "python",
   "pygments_lexer": "ipython3",
   "version": "3.7.4"
  },
  "widgets": {
   "application/vnd.jupyter.widget-state+json": {
    "state": {},
    "version_major": 2,
    "version_minor": 0
   }
  }
 },
 "nbformat": 4,
 "nbformat_minor": 2
}
