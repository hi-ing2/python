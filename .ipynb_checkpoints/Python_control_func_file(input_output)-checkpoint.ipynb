{
 "cells": [
  {
   "cell_type": "code",
   "execution_count": null,
   "metadata": {},
   "outputs": [],
   "source": [
    "score = 50\n",
    "if score >= 60: print('통과')\n",
    "else: print('불합격')"
   ]
  },
  {
   "cell_type": "code",
   "execution_count": null,
   "metadata": {},
   "outputs": [],
   "source": [
    "a_list = []\n",
    "a_list.append(1)\n",
    "\n",
    "if a_list:\n",
    "    print(True)\n",
    "else:\n",
    "    print(False)"
   ]
  },
  {
   "cell_type": "code",
   "execution_count": null,
   "metadata": {},
   "outputs": [],
   "source": [
    "#  3과목 이상을 수강하였고 평점이 70점 이상인 경우 '학위 취득' → 2가지 조건 만족\n",
    "#  3과목 이상을 수강하였거나 평점이 70점 이상인 경우 '졸업' → 1가지 조건 만족\n",
    "#  그 외의 경우 '재수강'을 출력하는 조건문 작성\n",
    "subjectList = ['운영체제', '데이터베이스', '객체지향언어'] # 수강한 과목 리스트\n",
    "\n",
    "average = 60 # 평점\n",
    "\n",
    "if len(subjectList) >= 3 and average >= 70:\n",
    "    print ('학위취득')\n",
    "elif len(subjectList) >= 3 or average >= 70:\n",
    "    print('졸업')\n",
    "else:\n",
    "    print('재수강')"
   ]
  },
  {
   "cell_type": "code",
   "execution_count": null,
   "metadata": {},
   "outputs": [],
   "source": [
    "# 이수한 과목 목록 중 '자료구조'가 있는지 확인하고\n",
    "#  '자료구조'가 있다면 점수를 확인한 후\n",
    "#  60점 이상이면 '이수 완료'를 출력하는 조건문 작성\n",
    "subject = {'자료구조' : 80, '알고리즘' : 60, '네트워크' : 90}\n",
    "if '자료구조' in subject: # 이수한 과목 목록 중 '자료구조'가 있는지 확인하고\n",
    "    s = subject['자료구조']\n",
    "    if s >= 60: #  60점 이상이면 '이수 완료'를 출력하는 조건문 작성\n",
    "        print('이수완료')\n",
    "        print(s)"
   ]
  },
  {
   "cell_type": "code",
   "execution_count": null,
   "metadata": {},
   "outputs": [],
   "source": [
    "num = 122\n",
    "if num % 2 ==0:\n",
    "    print('짝수')\n",
    "else:\n",
    "    print('홀수')"
   ]
  },
  {
   "cell_type": "code",
   "execution_count": 5,
   "metadata": {},
   "outputs": [
    {
     "name": "stdout",
     "output_type": "stream",
     "text": [
      "3\n",
      "6\n",
      "2\n"
     ]
    }
   ],
   "source": [
    "import random #난수 함수\n",
    "\n",
    "while True:\n",
    "    num = random.randint(1,10) #난수 함수는 범위에서 뒷자리 포함됨 \n",
    "    print('%d' % num)\n",
    "    if num == 2 : break"
   ]
  },
  {
   "cell_type": "code",
   "execution_count": 2,
   "metadata": {},
   "outputs": [
    {
     "name": "stdout",
     "output_type": "stream",
     "text": [
      "==========\n",
      "1. 입력\n",
      "2. 출력\n",
      "3. 종료\n",
      "==========\n",
      "메뉴를 선택해주세요. > 3\n",
      "종료되었습니다.\n"
     ]
    }
   ],
   "source": [
    "while True:\n",
    "    print('=' * 10)\n",
    "    print('1. 입력')\n",
    "    print('2. 출력')\n",
    "    print('3. 종료')\n",
    "    print('=' * 10)\n",
    "    s = input('메뉴를 선택해주세요. > ')\n",
    "    if s == '3':\n",
    "        break\n",
    "print('종료되었습니다.')"
   ]
  },
  {
   "cell_type": "code",
   "execution_count": null,
   "metadata": {},
   "outputs": [],
   "source": [
    "# 1부터 1000까지 합구하기\n",
    "num = 1\n",
    "total = 0\n",
    "while num <= 1000:\n",
    "    num += 1\n",
    "    if num%3 == 0:\n",
    "        total += num\n",
    "print(total)\n"
   ]
  },
  {
   "cell_type": "code",
   "execution_count": 36,
   "metadata": {},
   "outputs": [
    {
     "name": "stdout",
     "output_type": "stream",
     "text": [
      "55\n",
      "122\n",
      "204\n",
      "294\n",
      "381\n",
      "481\n",
      "481\n"
     ]
    }
   ],
   "source": [
    "# 각 학생들의 점수를 표현한 리스트를 이용하여 50점 이상인 학생의 점수 합 구하기\n",
    "scoreList = [20, 55, 67, 82, 45, 33, 90, 87, 100, 25]\n",
    "total = 0\n",
    "s = scoreList.pop()\n",
    "for s in scoreList:\n",
    "    if s >= 50:\n",
    "        total += s\n",
    "print(total)"
   ]
  },
  {
   "cell_type": "code",
   "execution_count": 50,
   "metadata": {},
   "outputs": [
    {
     "name": "stdout",
     "output_type": "stream",
     "text": [
      "[33, 55, 67, 82, 45, 33, 90, 87, 100]\n",
      "359\n"
     ]
    }
   ],
   "source": [
    "# 각 학생들의 점수를 표현한 딕셔너리를 이용하여 80점 이상인 학생의 점수 합 구하기\n",
    "studentInfo = {\n",
    " 'a':33, 'b':55, 'c':67, 'd':82, 'e':45,\n",
    " 'f':33, 'g':90, 'h':87, 'i': 100, 'j':25\n",
    "}\n",
    "total = 0\n",
    "# 코드 작성 - Dictionary values(), List pop() 등 이용\n",
    "sv = list(studentInfo.values())\n",
    "s = sv.pop()\n",
    "for s in sv:\n",
    "    if s >= 80:\n",
    "        total += s\n",
    "print(total)"
   ]
  },
  {
   "cell_type": "code",
   "execution_count": 71,
   "metadata": {},
   "outputs": [
    {
     "name": "stdout",
     "output_type": "stream",
     "text": [
      "2 / 3\n",
      "5 / 3\n",
      "2 / 6\n",
      "1 / 3\n",
      "2 / 4\n",
      "3 / 1\n",
      "2 / 3\n",
      "5 / 4\n",
      "3 / 3\n"
     ]
    }
   ],
   "source": [
    "# 두 개의 두사위를 던졌을때 나오는 눈을 출력하고 두 눈이 같으면 종료\n",
    "\n",
    "import random # random 모듈 import\n",
    "# 코드 작성\n",
    "# random.randint(1, 6) 함수 이용\n",
    "# 두 눈이 같을 때 break\n",
    "while True:\n",
    "    r1 = random.randint(1,6)\n",
    "    r2 = random.randint(1,6)\n",
    "    print('%d / %d' %(r1,r2))\n",
    "    if r1 == r2:\n",
    "        break;"
   ]
  },
  {
   "cell_type": "code",
   "execution_count": 78,
   "metadata": {},
   "outputs": [
    {
     "name": "stdout",
     "output_type": "stream",
     "text": [
      "{35, 44, 15, 18, 20, 27}\n"
     ]
    }
   ],
   "source": [
    "#랜덤 기능을 이용하여 6개의 로또 번호 만들기\n",
    "import random\n",
    "lottoList = set() # 빈 set 생성\n",
    "# 코드 작성\n",
    "# 반복문 조건으로 len() 함수 이용\n",
    "# random.randint(1, 45) 함수 이용\n",
    "# 번호 생성 후 lottoList에 append\n",
    "while len(lottoList) < 6:\n",
    "    lottoList.add(random.randint(1,45)) #add 사용\n",
    "print(lottoList)"
   ]
  },
  {
   "cell_type": "code",
   "execution_count": 80,
   "metadata": {},
   "outputs": [
    {
     "name": "stdout",
     "output_type": "stream",
     "text": [
      "[24, 1, 27, 33, 6, 37]\n"
     ]
    }
   ],
   "source": [
    "#랜덤 기능을 이용하여 6개의 로또 번호 만들기\n",
    "import random\n",
    "lottoList = list() # 빈 List 생성 but, 중복가능\n",
    "# 코드 작성\n",
    "# 반복문 조건으로 len() 함수 이용\n",
    "# random.randint(1, 45) 함수 이용\n",
    "# 번호 생성 후 lottoList에 append\n",
    "while len(lottoList) < 6:\n",
    "    lottoList.append(random.randint(1,45)) #append 사용\n",
    "print(lottoList)"
   ]
  },
  {
   "cell_type": "code",
   "execution_count": 84,
   "metadata": {},
   "outputs": [
    {
     "name": "stdout",
     "output_type": "stream",
     "text": [
      "*\n",
      "**\n",
      "***\n",
      "****\n",
      "*****\n"
     ]
    }
   ],
   "source": [
    "# *을 찍어 삼각형 모습 출력\n",
    "\n",
    "i = 0 # '*' 개수\n",
    "\n",
    "# 코드 작성\n",
    "# 문자열 * 숫자 기능 이용\n",
    "\n",
    "while i < 5:\n",
    "    i += 1\n",
    "    print(i*'*')"
   ]
  },
  {
   "cell_type": "code",
   "execution_count": 92,
   "metadata": {},
   "outputs": [
    {
     "name": "stdout",
     "output_type": "stream",
     "text": [
      "    *\n",
      "   **\n",
      "  ***\n",
      " ****\n",
      "*****\n"
     ]
    }
   ],
   "source": [
    "# 여백포함, *을 찍어 삼각형 모습 출력\n",
    "i = 1 # '*' 개수\n",
    "space = 0 # 여백의 크기\n",
    "\n",
    "while i <= 5:\n",
    "    space = 5-i\n",
    "    print(space*\" \",end='' ) # print() 후 줄바꿈 하지 않음 → print('내용', end='')\n",
    "    print(i*'*')\n",
    "    i += 1"
   ]
  },
  {
   "cell_type": "code",
   "execution_count": 102,
   "metadata": {},
   "outputs": [
    {
     "name": "stdout",
     "output_type": "stream",
     "text": [
      "0123456789\n",
      "0123456789"
     ]
    }
   ],
   "source": [
    "for i in range(0,10):\n",
    "    print(i, end='')\n",
    "print('')\n",
    "for i in range(10):\n",
    "    print(i, end='')"
   ]
  },
  {
   "cell_type": "code",
   "execution_count": 103,
   "metadata": {},
   "outputs": [
    {
     "name": "stdout",
     "output_type": "stream",
     "text": [
      "02468\n",
      "\n",
      "108642"
     ]
    }
   ],
   "source": [
    "for i in range(0,10, 2): #2번째 인자부터 같은 간격으로 건너 뜀\n",
    "    print(i, end='')\n",
    "print('')\n",
    "for i in range(0,10, -2): #-2번째 인자부터 같은 간격으로 건너 뜀\n",
    "    print(i, end='') #후번 기준으로 사용시 범위를 역순으로 해야 출력됨\n",
    "print('')\n",
    "for i in range(10,0, -2): #-2번째 인자부터 같은 간격으로 건너 뜀\n",
    "    print(i, end='')"
   ]
  },
  {
   "cell_type": "code",
   "execution_count": 107,
   "metadata": {},
   "outputs": [
    {
     "data": {
      "text/plain": [
       "[17, 34, 51, 68, 85]"
      ]
     },
     "execution_count": 107,
     "metadata": {},
     "output_type": "execute_result"
    }
   ],
   "source": [
    "data = list(range(1,101))\n",
    "result = [x for x in data if x%17==0] #영어 문법으로 이해하면 쉬움 뒤->앞 해석\n",
    "result"
   ]
  },
  {
   "cell_type": "code",
   "execution_count": 22,
   "metadata": {},
   "outputs": [
    {
     "name": "stdout",
     "output_type": "stream",
     "text": [
      "[1, 2, 3, 4, 5, 6, 7, 8, 9, 10, 11, 12, 13, 14, 15, 16, 17, 18, 19, 20, 21, 22, 23, 24, 25, 26, 27, 28, 29, 30, 31, 32, 33, 34, 35, 36, 37, 38, 39, 40, 41, 42, 43, 44, 45, 46, 47, 48, 49, 50, 51, 52, 53, 54, 55, 56, 57, 58, 59, 60, 61, 62, 63, 64, 65, 66, 67, 68, 69, 70, 71, 72, 73, 74, 75, 76, 77, 78, 79, 80, 81, 82, 83, 84, 85, 86, 87, 88, 89, 90, 91, 92, 93, 94, 95, 96, 97, 98, 99, 100, 101, 102, 103]\n",
      "103\n",
      "93\n",
      "83\n",
      "73\n",
      "63\n",
      "53\n",
      "43\n",
      "39\n",
      "38\n",
      "37\n",
      "36\n",
      "35\n",
      "34\n",
      "33\n",
      "32\n",
      "31\n",
      "30\n",
      "23\n",
      "13\n",
      "3\n",
      "개수 20\n"
     ]
    }
   ],
   "source": [
    "# 1 ~ 100 사이의 숫자 중 3을 포함하고 있는 숫자와 그 개수를 출력\n",
    "\n",
    "# 코드 작성\n",
    "# 숫자를 문자열로 바꾸기 str(숫자) 함수 이용\n",
    "# 자료의 내부 값 확인 in 연산자 이용\n",
    "count = 0\n",
    "nums = list(range(1,104))\n",
    "print(nums)\n",
    "\n",
    "for num in reversed(nums): #왜 마지막 103은 제어문에 포함되지 않을까? 질문!\n",
    "    num = nums.pop() #for문 밖에선 마지막 103을 빼고 시작함!! 그래서 역순으로 추적함\n",
    "    snum = str(num)\n",
    "    if '3' in snum:\n",
    "        print(snum)\n",
    "        count += 1\n",
    "print('개수' , count)\n",
    "\n",
    "# for i in range(1,101):\n",
    "#     if '3' in str(i):\n",
    "#         print(i)"
   ]
  },
  {
   "cell_type": "code",
   "execution_count": null,
   "metadata": {},
   "outputs": [],
   "source": [
    "#아래와 같은 리스트가 있을 때 각 요소가 3의 배수인지 확인하여 삭제하는 코드 작성\n",
    "\n",
    "# 코드 작성\n",
    "# remove() 함수를 사용하지 말고 pop() 함수를 이용하여 작성\n",
    "tens = [10, 20, 30, 40, 50, 60, 70]\n",
    "n = -1\n",
    "for x in tens:\n",
    "    n += 1\n",
    "    print(n)\n",
    "    if x%3 == 0:\n",
    "        tens.pop(n)\n",
    "        print(tens)\n",
    "print(tens) #index가 꼬였는데 이건 왜 됨?"
   ]
  },
  {
   "cell_type": "code",
   "execution_count": 49,
   "metadata": {},
   "outputs": [
    {
     "name": "stdout",
     "output_type": "stream",
     "text": [
      "0\n",
      "1\n",
      "2\n",
      "[10, 20, 40, 50, 60, 70]\n",
      "3\n",
      "4\n",
      "[10, 20, 40, 50, 70]\n",
      "[10, 20, 40, 50, 70]\n"
     ]
    }
   ],
   "source": [
    "for i in reversed(range(len(tens))) : # 0 1 2 .. for 문안에서는 range로 인해서 tens가 바뀌어도 범위가 바뀌지않는 특수사항이 생김 그래서 오류가 뜸\n",
    "    if tens[i] % 3 == 0:\n",
    "        tens.pop(i) # index가 3일때 뽑아내면 index가 밀려서 저장되어 다음 제어문때 꼬여버려 오류가 남, 그래서 for문에 reversed로 역순을 만듬\n",
    "print(tens)"
   ]
  },
  {
   "cell_type": "code",
   "execution_count": 51,
   "metadata": {},
   "outputs": [
    {
     "name": "stdout",
     "output_type": "stream",
     "text": [
      "[10, 20, 40, 50, 70]\n"
     ]
    }
   ],
   "source": [
    "obj = range(len(tens))\n",
    "for i in reversed(obj) : # 0 1 2 .. 이와 같은 경우에는 for문이 실행됨\n",
    "    if tens[i] % 3 == 0:\n",
    "        obj.pop(i) # index가 3일때 뽑아내면 index가 밀려서 저장되어 다음 제어문때 꼬여버려 오류가 남, 그래서 for문에 reversed로 역순을 만듬\n",
    "print(tens)"
   ]
  },
  {
   "cell_type": "code",
   "execution_count": 29,
   "metadata": {},
   "outputs": [
    {
     "name": "stdout",
     "output_type": "stream",
     "text": [
      "False\n",
      "True\n"
     ]
    }
   ],
   "source": [
    "# 함수\n",
    "def isOdd(num):\n",
    "    return num % 2 != 0 #bool로 리턴됨\n",
    "\n",
    "print(isOdd(2))\n",
    "print(isOdd(3))"
   ]
  },
  {
   "cell_type": "code",
   "execution_count": 52,
   "metadata": {},
   "outputs": [
    {
     "name": "stdout",
     "output_type": "stream",
     "text": [
      "8\n",
      "2\n"
     ]
    }
   ],
   "source": [
    "#두 수를 입력받은 후 덧셈과 뺄셈 연산을 해주는 함수 작성\n",
    "\n",
    "# 코드 작성\n",
    "def plus(a, b):\n",
    "    return a + b\n",
    "def minus(a, b):\n",
    "    if a < b:\n",
    "        a, b = b, a\n",
    "    return a - b\n",
    "result1 = plus(5, 3)\n",
    "result2 = minus(5, 3)\n",
    "print(result1)\n",
    "print(result2)"
   ]
  },
  {
   "cell_type": "code",
   "execution_count": 68,
   "metadata": {},
   "outputs": [
    {
     "name": "stdout",
     "output_type": "stream",
     "text": [
      "15\n"
     ]
    }
   ],
   "source": [
    "#1 이상의 정수 N을 입력받은 후 1 ~ N 까지의 합을 구하는 함수 작성\n",
    "\n",
    "# 코드 작성\n",
    "# 1 ~ 10 까지의 range() 함수 사용 예) range(1, 11)\n",
    "def total(n):\n",
    "    result = 0\n",
    "    for i in range(1,n+1): #마지막 수는 제외\n",
    "        result += i\n",
    "    return result\n",
    "\n",
    "print(total(5))"
   ]
  },
  {
   "cell_type": "code",
   "execution_count": 65,
   "metadata": {},
   "outputs": [
    {
     "name": "stdout",
     "output_type": "stream",
     "text": [
      "(30, 7.5)\n"
     ]
    }
   ],
   "source": [
    "#리스트를 입력받은 후 각 요소의 합과 평균을 구하고 튜플 형태로 반환하는 함수 작성\n",
    "def calculator(nums): #넣는값\n",
    "    total = 0\n",
    "    for i in nums:\n",
    "        total += i\n",
    "    avg = total / len(nums)\n",
    "    return total, avg #반환값\n",
    "#     for i in range(len(nums)):\n",
    "#     sums += nums[i]\n",
    "#     average = sums/len(nums)\n",
    "#     result = (sums, average)\n",
    "#     return result\n",
    "print(calculator([3, 7, 9, 11]))"
   ]
  },
  {
   "cell_type": "code",
   "execution_count": 75,
   "metadata": {},
   "outputs": [
    {
     "data": {
      "text/plain": [
       "[20, 40, 60, 80]"
      ]
     },
     "execution_count": 75,
     "metadata": {},
     "output_type": "execute_result"
    }
   ],
   "source": [
    "numbers = [10, 20, 30, 40]\n",
    "func = lambda num : num * 2\n",
    "func(numbers[3])\n",
    "numbers2 = [func(i) for i in numbers]\n",
    "numbers2\n",
    "\n"
   ]
  },
  {
   "cell_type": "code",
   "execution_count": 80,
   "metadata": {},
   "outputs": [
    {
     "data": {
      "text/plain": [
       "[20, 40, 60, 80]"
      ]
     },
     "execution_count": 80,
     "metadata": {},
     "output_type": "execute_result"
    }
   ],
   "source": [
    "numbers = [10, 20, 30, 40]\n",
    "numbers2 = [(lambda num : num*2)(i) for i in numbers]\n",
    "numbers2"
   ]
  },
  {
   "cell_type": "code",
   "execution_count": 83,
   "metadata": {},
   "outputs": [
    {
     "name": "stdout",
     "output_type": "stream",
     "text": [
      "88\n"
     ]
    }
   ],
   "source": [
    "def diff_sum(a, b, c):\n",
    "    double_abc= (a**2) + (b**2) + (c**2)\n",
    "    total_abc= a + b + c\n",
    "    result = double_abc - total_abc\n",
    "    return result\n",
    "print(diff_sum(2, 6, 8))"
   ]
  },
  {
   "cell_type": "code",
   "execution_count": 128,
   "metadata": {},
   "outputs": [
    {
     "name": "stdout",
     "output_type": "stream",
     "text": [
      "i값 1\n",
      "j값 1\n",
      "i값 2\n",
      "j값 1\n",
      "j값 2\n",
      "i값 3\n",
      "j값 1\n",
      "j값 2\n",
      "j값 3\n",
      "i값 4\n",
      "j값 1\n",
      "j값 2\n",
      "j값 3\n",
      "j값 4\n",
      "i값 5\n",
      "j값 1\n",
      "j값 2\n",
      "j값 3\n",
      "j값 4\n",
      "j값 5\n",
      "i값 6\n",
      "j값 1\n",
      "j값 2\n",
      "j값 3\n",
      "j값 4\n",
      "j값 5\n",
      "j값 6\n",
      "i값 7\n",
      "j값 1\n",
      "j값 2\n",
      "j값 3\n",
      "j값 4\n",
      "j값 5\n",
      "j값 6\n",
      "j값 7\n",
      "i값 8\n",
      "j값 1\n",
      "j값 2\n",
      "j값 3\n",
      "j값 4\n",
      "j값 5\n",
      "j값 6\n",
      "j값 7\n",
      "j값 8\n",
      "i값 9\n",
      "j값 1\n",
      "j값 2\n",
      "j값 3\n",
      "j값 4\n",
      "j값 5\n",
      "j값 6\n",
      "j값 7\n",
      "j값 8\n",
      "j값 9\n",
      "i값 10\n",
      "j값 1\n",
      "j값 2\n",
      "j값 3\n",
      "j값 4\n",
      "j값 5\n",
      "j값 6\n",
      "j값 7\n",
      "j값 8\n",
      "j값 9\n",
      "j값 10\n",
      "220\n"
     ]
    }
   ],
   "source": [
    "def get_sequence(n):\n",
    "    result = 0\n",
    "    for i in range(1,n+1):\n",
    "        print(\"i값\",i)\n",
    "        for j in range(1,i+1):\n",
    "            print(\"j값\", j)\n",
    "            result += j\n",
    "    return result\n",
    "print(get_sequence(10))"
   ]
  },
  {
   "cell_type": "code",
   "execution_count": 129,
   "metadata": {},
   "outputs": [
    {
     "name": "stdout",
     "output_type": "stream",
     "text": [
      "th\n"
     ]
    }
   ],
   "source": [
    "def get_mid_char(text):\n",
    "    if len(text)%2 == 0:\n",
    "        return (text[len(text) // 2 - 1] + text[len(text) // 2 ])\n",
    "#         return text[len(text) // 2 - 1 : len(text) // 2 + 1] # 인덱스 범위 활용 방식\n",
    "    elif len(text)%2 != 0:\n",
    "        return text[len(text) // 2]\n",
    "print(get_mid_char('python'))"
   ]
  },
  {
   "cell_type": "code",
   "execution_count": 133,
   "metadata": {},
   "outputs": [
    {
     "name": "stdout",
     "output_type": "stream",
     "text": [
      "수박수박수박수\n"
     ]
    }
   ],
   "source": [
    "def print_str(n):\n",
    "    melon = '수박'\n",
    "    result = melon * int(n//2)\n",
    "    if n%2 ==0:\n",
    "        return result\n",
    "    elif n%2 !=0:\n",
    "        result = result + str(melon[0]) #끝에 '수' 추가\n",
    "        return result\n",
    "    return result\n",
    "print(print_str(7))"
   ]
  },
  {
   "cell_type": "code",
   "execution_count": 141,
   "metadata": {},
   "outputs": [
    {
     "name": "stdout",
     "output_type": "stream",
     "text": [
      "23\n"
     ]
    }
   ],
   "source": [
    "def get_total(n):\n",
    "    result= 0\n",
    "    for i in str(n):\n",
    "        result += int(i)\n",
    "    return result\n",
    "print(get_total(16543))\n",
    "\n",
    "# 반복문 함수를 이용하는 방법\n",
    "# def get_total(n):\n",
    "#     result=0\n",
    "#     while True: #끝날때까지 반복\n",
    "#         result += n % 10\n",
    "        \n",
    "#         n //= 10\n",
    "#         if n == 0 : break\n",
    "#     return result\n",
    "# print(get_total(14567)) "
   ]
  },
  {
   "cell_type": "code",
   "execution_count": 144,
   "metadata": {},
   "outputs": [
    {
     "name": "stdout",
     "output_type": "stream",
     "text": [
      "1234\n"
     ]
    }
   ],
   "source": [
    "# 실행결과와 같이 출력될 수 있도록 함수 작성\n",
    "    \n",
    "text = '' #전역변수\n",
    "# 코드 작성\n",
    "# 함수명 str_adder (가변 입력)\n",
    "def str_adder(*args):\n",
    "    global text #전역변수를 사용할 수 있게함\n",
    "    for i in args:\n",
    "        text += i\n",
    "str_adder('1', '2', '3', '4') # → 1234\n",
    "print(text) #return 없이 전역변수를 사용"
   ]
  },
  {
   "cell_type": "code",
   "execution_count": 151,
   "metadata": {},
   "outputs": [
    {
     "name": "stdout",
     "output_type": "stream",
     "text": [
      "[6, 7, 8]\n"
     ]
    }
   ],
   "source": [
    "def myfunc(numbers):\n",
    "    result = []\n",
    "    for number in numbers:\n",
    "        if number > 5:\n",
    "            result.append(number)\n",
    "    return result\n",
    "result = myfunc([2, 3, 4, 5, 6, 7, 8])\n",
    "print(result)"
   ]
  },
  {
   "cell_type": "code",
   "execution_count": 152,
   "metadata": {},
   "outputs": [
    {
     "name": "stdout",
     "output_type": "stream",
     "text": [
      "[6, 7, 8]\n"
     ]
    }
   ],
   "source": [
    "ns = [2, 3, 4, 5, 6, 7, 8]\n",
    "myfunc = lambda numbers : [number for number in numbers if number > 5] #lambda로 바꿔봄\n",
    "print(myfunc(ns))"
   ]
  },
  {
   "cell_type": "code",
   "execution_count": 163,
   "metadata": {},
   "outputs": [],
   "source": [
    "f= open('C:/Users/mhs34/jupyter_study/test/text.txt', 'rt')\n",
    "f.read()\n",
    "f.close()"
   ]
  },
  {
   "cell_type": "code",
   "execution_count": 183,
   "metadata": {},
   "outputs": [
    {
     "name": "stdout",
     "output_type": "stream",
     "text": [
      "7\n",
      "9\n",
      "24\n",
      "29\n",
      "34\n",
      "38\n",
      "['7', '9', '24', '29', '34', '38']\n",
      "141\n"
     ]
    }
   ],
   "source": [
    "# 04_03_numbers_data.txt 파일의 내용을 읽은 후 숫자들의 합 구하기\n",
    "text1 = open('C:/Users/mhs34/jupyter_study/test/04_03_numbers_data.txt', 'rt')\n",
    "tr1=text1.read()\n",
    "print(tr1)\n",
    "\n",
    "tr1_split=tr1.split('\\n')\n",
    "print(tr1_split)\n",
    "text1.close() #작업후 꼭 닫아줘야함\n",
    "total=0\n",
    "for t in tr1_split:\n",
    "    total += int(t)\n",
    "print(total)"
   ]
  },
  {
   "cell_type": "code",
   "execution_count": 184,
   "metadata": {},
   "outputs": [
    {
     "name": "stdout",
     "output_type": "stream",
     "text": [
      "python\n",
      "java\n",
      "c++\n",
      "go\n",
      "kotlin\n",
      "fortran\n",
      "['python', 'java', 'c++', 'go', 'kotlin', 'fortran']\n",
      "python\n",
      "kotlin\n",
      "fortran\n"
     ]
    }
   ],
   "source": [
    "# 04_03_text_data.txt 파일의 내용을 읽은 후 알파벳 t 가 포함된 단어만 출력\n",
    "text1 = open('C:/Users/mhs34/jupyter_study/test/04_03_text_data.txt', 'rt')\n",
    "tr1=text1.read()\n",
    "print(tr1)\n",
    "\n",
    "tr1_split=tr1.split('\\n')\n",
    "print(tr1_split)\n",
    "text1.close() #작업후 꼭 닫아줘야함\n",
    "\n",
    "for t in tr1_split:\n",
    "    if 't' in t:\n",
    "        print(t)"
   ]
  },
  {
   "cell_type": "code",
   "execution_count": null,
   "metadata": {},
   "outputs": [],
   "source": []
  },
  {
   "cell_type": "code",
   "execution_count": null,
   "metadata": {},
   "outputs": [],
   "source": []
  }
 ],
 "metadata": {
  "kernelspec": {
   "display_name": "Python 3",
   "language": "python",
   "name": "python3"
  },
  "language_info": {
   "codemirror_mode": {
    "name": "ipython",
    "version": 3
   },
   "file_extension": ".py",
   "mimetype": "text/x-python",
   "name": "python",
   "nbconvert_exporter": "python",
   "pygments_lexer": "ipython3",
   "version": "3.7.4"
  }
 },
 "nbformat": 4,
 "nbformat_minor": 2
}
