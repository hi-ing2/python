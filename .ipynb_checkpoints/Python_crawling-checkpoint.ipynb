{
 "cells": [
  {
   "cell_type": "code",
   "execution_count": 62,
   "metadata": {},
   "outputs": [],
   "source": [
    "from selenium import webdriver as wd\n",
    "from selenium.webdriver.common.by import By\n",
    "from selenium.webdriver.support.ui import WebDriverWait\n",
    "from selenium.webdriver.support import expected_conditions as EC\n",
    "from selenium.common.exceptions import NoSuchElementException\n",
    "import time\n",
    "from selenium.webdriver.common.keys import Keys\n",
    "driver = wd.Chrome(executable_path='chromedriver.exe') #크롬브라우저 사용\n",
    "driver.get('https://www.innisfree.com/kr/ko/Product.do?tp=1')\n",
    "driver.implicitly_wait(10)"
   ]
  },
  {
   "cell_type": "code",
   "execution_count": 63,
   "metadata": {},
   "outputs": [],
   "source": [
    "\n",
    "post = driver.find_element_by_css_selector('#prdList > div.pdtListType.pdtListSub > ul > li:nth-child(2)')\n",
    "post.click()"
   ]
  },
  {
   "cell_type": "code",
   "execution_count": 66,
   "metadata": {},
   "outputs": [
    {
     "name": "stdout",
     "output_type": "stream",
     "text": [
      "[닦아쓰는 화장솜 증정!]\n",
      "트루케어 판테놀 10 수분 스킨 250mL\n",
      "촘촘한 보습막을 형성하는 판테놀이 10% 함유되어 있어 피부 안으로 수분을 채워주고, 피부 겉 수분은 꽉 잡아주어 오랜 시간 촉촉함을 선사하는 수분 스킨\n"
     ]
    }
   ],
   "source": [
    "driver.implicitly_wait(10)\n",
    "txts = driver.find_elements_by_css_selector('#contents > div.pdtViewTop > div.pdtViewCont > p')\n",
    "for txt in txts:\n",
    "    print(txt.text)\n",
    "    "
   ]
  },
  {
   "cell_type": "code",
   "execution_count": 68,
   "metadata": {},
   "outputs": [],
   "source": [
    "review = driver.find_element_by_css_selector('#contents > div.tabWrap.pdtTabWrap > div.tabType > ul > li:nth-child(3)')\n",
    "review.click()"
   ]
  },
  {
   "cell_type": "code",
   "execution_count": 70,
   "metadata": {},
   "outputs": [],
   "source": [
    "all_review = driver.find_element_by_css_selector('#prdReviewSrchFrm > div > ul > li:nth-child(2)')\n",
    "all_review.click()\n",
    "\n"
   ]
  },
  {
   "cell_type": "code",
   "execution_count": null,
   "metadata": {},
   "outputs": [],
   "source": [
    "while True:\n",
    "    driver.implicitly_wait(10)\n",
    "    for j in range(len(review_num)+1):\n",
    "        review = driver.find_elements_by_css_selector('#reviewList > ul > li:nth-child(%d) > button > div.reviewConTxt > p' % j)                                            \n",
    "        for one in review:\n",
    "            print(one.text)\n",
    "    for i in range(1,5):\n",
    "        if i == 1:\n",
    "            nxt_num = driver.find_element_by_css_selector('#reviewList > div > span:nth-child(%d) > a' %(i+1))                                                    \n",
    "        else :\n",
    "            nxt_num = driver.find_element_by_css_selector('#reviewList > div > span:nth-child(%d) > a' %(i+2))\n",
    "        nxt_num.send_keys(Keys.ENTER)\n",
    "        print(\"next\", i)\n",
    "        review_num = driver.find_elements_by_css_selector('#reviewList > ul > li')    \n",
    "        for j in range(len(review_num)+1):\n",
    "            review = driver.find_elements_by_css_selector('#reviewList > ul > li:nth-child(%d) > button > div.reviewConTxt > p' % j)                                            \n",
    "            for one in review:\n",
    "                print(one.text)"
   ]
  },
  {
   "cell_type": "code",
   "execution_count": null,
   "metadata": {},
   "outputs": [],
   "source": [
    "while True:\n",
    "    driver.implicitly_wait(10)\n",
    "    for j in range(len(review_num)+1):\n",
    "        review = driver.find_elements_by_css_selector('#reviewList > ul > li:nth-child(%d) > button > div.reviewConTxt > p' % j)                                            \n",
    "        for one in review:\n",
    "            print(one.text)\n",
    "    for i in range(1,5):\n",
    "        if i == 1:\n",
    "            nxt_num = driver.find_element_by_css_selector('#reviewList > div > span:nth-child(%d) > a' %(i+1))                                                    \n",
    "        else :\n",
    "            nxt_num = driver.find_element_by_css_selector('#reviewList > div > span:nth-child(%d) > a' %(i+2))\n",
    "        nxt_num.send_keys(Keys.ENTER)\n",
    "        print(\"next\", i)\n",
    "        review_num = driver.find_elements_by_css_selector('#reviewList > ul > li')    \n",
    "        for j in range(len(review_num)+1):\n",
    "            review = driver.find_elements_by_css_selector('#reviewList > ul > li:nth-child(%d) > button > div.reviewConTxt > p' % j)                                            \n",
    "            for one in review:\n",
    "                print(one.text)\n",
    "                "
   ]
  },
  {
   "cell_type": "code",
   "execution_count": 88,
   "metadata": {},
   "outputs": [
    {
     "ename": "NoSuchElementException",
     "evalue": "Message: no such element: Unable to locate element: {\"method\":\"css selector\",\"selector\":\".pageNav next\"}\n  (Session info: chrome=79.0.3945.130)\n",
     "output_type": "error",
     "traceback": [
      "\u001b[1;31m---------------------------------------------------------------------------\u001b[0m",
      "\u001b[1;31mNoSuchElementException\u001b[0m                    Traceback (most recent call last)",
      "\u001b[1;32m<ipython-input-88-b12b0eb3e7e7>\u001b[0m in \u001b[0;36m<module>\u001b[1;34m\u001b[0m\n\u001b[1;32m----> 1\u001b[1;33m \u001b[0mnxt_btn\u001b[0m \u001b[1;33m=\u001b[0m \u001b[0mdriver\u001b[0m\u001b[1;33m.\u001b[0m\u001b[0mfind_element_by_class_name\u001b[0m\u001b[1;33m(\u001b[0m\u001b[1;34m'pageNav next'\u001b[0m\u001b[1;33m)\u001b[0m\u001b[1;33m\u001b[0m\u001b[1;33m\u001b[0m\u001b[0m\n\u001b[0m\u001b[0;32m      2\u001b[0m \u001b[0mtime\u001b[0m\u001b[1;33m.\u001b[0m\u001b[0msleep\u001b[0m\u001b[1;33m(\u001b[0m\u001b[1;36m1\u001b[0m\u001b[1;33m)\u001b[0m\u001b[1;33m\u001b[0m\u001b[1;33m\u001b[0m\u001b[0m\n\u001b[0;32m      3\u001b[0m \u001b[0mnxt_btn\u001b[0m\u001b[1;33m.\u001b[0m\u001b[0mclick\u001b[0m\u001b[1;33m(\u001b[0m\u001b[1;33m)\u001b[0m\u001b[1;33m\u001b[0m\u001b[1;33m\u001b[0m\u001b[0m\n",
      "\u001b[1;32m~\\Anaconda3\\lib\\site-packages\\selenium\\webdriver\\remote\\webdriver.py\u001b[0m in \u001b[0;36mfind_element_by_class_name\u001b[1;34m(self, name)\u001b[0m\n\u001b[0;32m    562\u001b[0m             \u001b[0melement\u001b[0m \u001b[1;33m=\u001b[0m \u001b[0mdriver\u001b[0m\u001b[1;33m.\u001b[0m\u001b[0mfind_element_by_class_name\u001b[0m\u001b[1;33m(\u001b[0m\u001b[1;34m'foo'\u001b[0m\u001b[1;33m)\u001b[0m\u001b[1;33m\u001b[0m\u001b[1;33m\u001b[0m\u001b[0m\n\u001b[0;32m    563\u001b[0m         \"\"\"\n\u001b[1;32m--> 564\u001b[1;33m         \u001b[1;32mreturn\u001b[0m \u001b[0mself\u001b[0m\u001b[1;33m.\u001b[0m\u001b[0mfind_element\u001b[0m\u001b[1;33m(\u001b[0m\u001b[0mby\u001b[0m\u001b[1;33m=\u001b[0m\u001b[0mBy\u001b[0m\u001b[1;33m.\u001b[0m\u001b[0mCLASS_NAME\u001b[0m\u001b[1;33m,\u001b[0m \u001b[0mvalue\u001b[0m\u001b[1;33m=\u001b[0m\u001b[0mname\u001b[0m\u001b[1;33m)\u001b[0m\u001b[1;33m\u001b[0m\u001b[1;33m\u001b[0m\u001b[0m\n\u001b[0m\u001b[0;32m    565\u001b[0m \u001b[1;33m\u001b[0m\u001b[0m\n\u001b[0;32m    566\u001b[0m     \u001b[1;32mdef\u001b[0m \u001b[0mfind_elements_by_class_name\u001b[0m\u001b[1;33m(\u001b[0m\u001b[0mself\u001b[0m\u001b[1;33m,\u001b[0m \u001b[0mname\u001b[0m\u001b[1;33m)\u001b[0m\u001b[1;33m:\u001b[0m\u001b[1;33m\u001b[0m\u001b[1;33m\u001b[0m\u001b[0m\n",
      "\u001b[1;32m~\\Anaconda3\\lib\\site-packages\\selenium\\webdriver\\remote\\webdriver.py\u001b[0m in \u001b[0;36mfind_element\u001b[1;34m(self, by, value)\u001b[0m\n\u001b[0;32m    976\u001b[0m         return self.execute(Command.FIND_ELEMENT, {\n\u001b[0;32m    977\u001b[0m             \u001b[1;34m'using'\u001b[0m\u001b[1;33m:\u001b[0m \u001b[0mby\u001b[0m\u001b[1;33m,\u001b[0m\u001b[1;33m\u001b[0m\u001b[1;33m\u001b[0m\u001b[0m\n\u001b[1;32m--> 978\u001b[1;33m             'value': value})['value']\n\u001b[0m\u001b[0;32m    979\u001b[0m \u001b[1;33m\u001b[0m\u001b[0m\n\u001b[0;32m    980\u001b[0m     \u001b[1;32mdef\u001b[0m \u001b[0mfind_elements\u001b[0m\u001b[1;33m(\u001b[0m\u001b[0mself\u001b[0m\u001b[1;33m,\u001b[0m \u001b[0mby\u001b[0m\u001b[1;33m=\u001b[0m\u001b[0mBy\u001b[0m\u001b[1;33m.\u001b[0m\u001b[0mID\u001b[0m\u001b[1;33m,\u001b[0m \u001b[0mvalue\u001b[0m\u001b[1;33m=\u001b[0m\u001b[1;32mNone\u001b[0m\u001b[1;33m)\u001b[0m\u001b[1;33m:\u001b[0m\u001b[1;33m\u001b[0m\u001b[1;33m\u001b[0m\u001b[0m\n",
      "\u001b[1;32m~\\Anaconda3\\lib\\site-packages\\selenium\\webdriver\\remote\\webdriver.py\u001b[0m in \u001b[0;36mexecute\u001b[1;34m(self, driver_command, params)\u001b[0m\n\u001b[0;32m    319\u001b[0m         \u001b[0mresponse\u001b[0m \u001b[1;33m=\u001b[0m \u001b[0mself\u001b[0m\u001b[1;33m.\u001b[0m\u001b[0mcommand_executor\u001b[0m\u001b[1;33m.\u001b[0m\u001b[0mexecute\u001b[0m\u001b[1;33m(\u001b[0m\u001b[0mdriver_command\u001b[0m\u001b[1;33m,\u001b[0m \u001b[0mparams\u001b[0m\u001b[1;33m)\u001b[0m\u001b[1;33m\u001b[0m\u001b[1;33m\u001b[0m\u001b[0m\n\u001b[0;32m    320\u001b[0m         \u001b[1;32mif\u001b[0m \u001b[0mresponse\u001b[0m\u001b[1;33m:\u001b[0m\u001b[1;33m\u001b[0m\u001b[1;33m\u001b[0m\u001b[0m\n\u001b[1;32m--> 321\u001b[1;33m             \u001b[0mself\u001b[0m\u001b[1;33m.\u001b[0m\u001b[0merror_handler\u001b[0m\u001b[1;33m.\u001b[0m\u001b[0mcheck_response\u001b[0m\u001b[1;33m(\u001b[0m\u001b[0mresponse\u001b[0m\u001b[1;33m)\u001b[0m\u001b[1;33m\u001b[0m\u001b[1;33m\u001b[0m\u001b[0m\n\u001b[0m\u001b[0;32m    322\u001b[0m             response['value'] = self._unwrap_value(\n\u001b[0;32m    323\u001b[0m                 response.get('value', None))\n",
      "\u001b[1;32m~\\Anaconda3\\lib\\site-packages\\selenium\\webdriver\\remote\\errorhandler.py\u001b[0m in \u001b[0;36mcheck_response\u001b[1;34m(self, response)\u001b[0m\n\u001b[0;32m    240\u001b[0m                 \u001b[0malert_text\u001b[0m \u001b[1;33m=\u001b[0m \u001b[0mvalue\u001b[0m\u001b[1;33m[\u001b[0m\u001b[1;34m'alert'\u001b[0m\u001b[1;33m]\u001b[0m\u001b[1;33m.\u001b[0m\u001b[0mget\u001b[0m\u001b[1;33m(\u001b[0m\u001b[1;34m'text'\u001b[0m\u001b[1;33m)\u001b[0m\u001b[1;33m\u001b[0m\u001b[1;33m\u001b[0m\u001b[0m\n\u001b[0;32m    241\u001b[0m             \u001b[1;32mraise\u001b[0m \u001b[0mexception_class\u001b[0m\u001b[1;33m(\u001b[0m\u001b[0mmessage\u001b[0m\u001b[1;33m,\u001b[0m \u001b[0mscreen\u001b[0m\u001b[1;33m,\u001b[0m \u001b[0mstacktrace\u001b[0m\u001b[1;33m,\u001b[0m \u001b[0malert_text\u001b[0m\u001b[1;33m)\u001b[0m\u001b[1;33m\u001b[0m\u001b[1;33m\u001b[0m\u001b[0m\n\u001b[1;32m--> 242\u001b[1;33m         \u001b[1;32mraise\u001b[0m \u001b[0mexception_class\u001b[0m\u001b[1;33m(\u001b[0m\u001b[0mmessage\u001b[0m\u001b[1;33m,\u001b[0m \u001b[0mscreen\u001b[0m\u001b[1;33m,\u001b[0m \u001b[0mstacktrace\u001b[0m\u001b[1;33m)\u001b[0m\u001b[1;33m\u001b[0m\u001b[1;33m\u001b[0m\u001b[0m\n\u001b[0m\u001b[0;32m    243\u001b[0m \u001b[1;33m\u001b[0m\u001b[0m\n\u001b[0;32m    244\u001b[0m     \u001b[1;32mdef\u001b[0m \u001b[0m_value_or_default\u001b[0m\u001b[1;33m(\u001b[0m\u001b[0mself\u001b[0m\u001b[1;33m,\u001b[0m \u001b[0mobj\u001b[0m\u001b[1;33m,\u001b[0m \u001b[0mkey\u001b[0m\u001b[1;33m,\u001b[0m \u001b[0mdefault\u001b[0m\u001b[1;33m)\u001b[0m\u001b[1;33m:\u001b[0m\u001b[1;33m\u001b[0m\u001b[1;33m\u001b[0m\u001b[0m\n",
      "\u001b[1;31mNoSuchElementException\u001b[0m: Message: no such element: Unable to locate element: {\"method\":\"css selector\",\"selector\":\".pageNav next\"}\n  (Session info: chrome=79.0.3945.130)\n"
     ]
    }
   ],
   "source": [
    "nxt_btn = driver.find_element_by_class_name('pageNav next')\n",
    "time.sleep(1)\n",
    "nxt_btn.click()"
   ]
  },
  {
   "cell_type": "code",
   "execution_count": 80,
   "metadata": {},
   "outputs": [],
   "source": []
  },
  {
   "cell_type": "code",
   "execution_count": null,
   "metadata": {},
   "outputs": [],
   "source": [
    "#exam\n",
    "from selenium import webdriver as wd\n",
    "from selenium.webdriver.common.by import By\n",
    "from selenium.webdriver.support.ui import WebDriverWait\n",
    "from selenium.webdriver.support import expected_conditions as EC\n",
    "import time\n",
    "\n",
    "driver = wd.Chrome(executable_path='chromedriver.exe') #크롬브라우저 사용\n",
    "driver.get('https://datalab.naver.com/keyword/realtimeList.naver')\n",
    "txt = driver.find_element_by_css_selector('#content > div > div.selection_area > div.selection_content > div.field_list > div') \n",
    "print(txt.text)"
   ]
  },
  {
   "cell_type": "code",
   "execution_count": 4,
   "metadata": {},
   "outputs": [
    {
     "name": "stdout",
     "output_type": "stream",
     "text": [
      "서울특별시 2,781,345(42.34) 1,365,285(20.78) 1,492,767(22.72) \n",
      "부산광역시 872,127(38.71) 720,484(31.98) 378,907(16.82) \n",
      "광주광역시 583,847(61.14) 14,882(1.55) 287,222(30.08) \n",
      "대전광역시 404,545(42.93) 191,376(20.30) 218,769(23.21) \n",
      "세종특별자치시 77,767(51.08) 23,211(15.24) 32,010(21.02) \n",
      "제주특별자치도 169,493(45.51) 68,063(18.27) 77,861(20.90) \n"
     ]
    }
   ],
   "source": [
    "# 대통령선거 개표 현황 조회\n",
    "from selenium import webdriver as wd\n",
    "from selenium.webdriver.common.by import By\n",
    "from selenium.webdriver.support.ui import WebDriverWait\n",
    "from selenium.webdriver.support import expected_conditions as EC\n",
    "import time\n",
    "\n",
    "driver = wd.Chrome(executable_path='chromedriver.exe') #크롬브라우저 사용\n",
    "driver.get('http://info.nec.go.kr/main/showDocument.xhtml?electionId=0000000000')\n",
    "driver.find_element_by_css_selector('#presubmu > li:nth-child(3) > a').click()\n",
    "driver.find_element_by_css_selector('#header > div.selSecondMenu > ul > li:nth-child(5)').click()\n",
    "time.sleep(1)\n",
    "\n",
    "driver.find_element_by_css_selector('#electionType1').click()\n",
    "time.sleep(1)\n",
    "driver.find_element_by_css_selector('#electionName > option:nth-child(2)').click()\n",
    "time.sleep(1)\n",
    "driver.find_element_by_css_selector('#electionCode > option:nth-child(2)').click()\n",
    "time.sleep(1)\n",
    "driver.find_element_by_css_selector('#cityCode > option:nth-child(2)').click()\n",
    "time.sleep(1)\n",
    "driver.find_element_by_css_selector('#searchBtn').click()\n",
    "time.sleep(1)\n",
    "\n",
    "# tr이 행(가로줄) / td가 열(세로줄)\n",
    "tr_list = [2,3,6,7,9,18]\n",
    "for i in tr_list: #해당 list 요소 호출\n",
    "#     if i == 2 or i == 3 or i == 6 or i == 7 or i == 9 or i == 18: #2, 3, 6, 7, 9, 18번째 행만 해당시킴\n",
    "        trs0 = driver.find_element_by_css_selector('#table01 > tbody > tr:nth-child(%d) > td:nth-child(1)'% i) #해당 행의 1열만 호출\n",
    "        print(trs0.text, end =' ')\n",
    "        for j in range(4, 7):\n",
    "            trs = driver.find_element_by_css_selector('#table01 > tbody > tr:nth-child(%d)> td:nth-child(%d)'% (i, j)) #해당 행의 j열만 호출(4~6)\n",
    "            print(trs.text.replace('\\n', ''), end=' ') #줄바꿈 -> 띄어쓰기로 바꿔줌 / 줄 정리\n",
    "        print('')#줄 정리"
   ]
  },
  {
   "cell_type": "code",
   "execution_count": 3,
   "metadata": {},
   "outputs": [
    {
     "name": "stdout",
     "output_type": "stream",
     "text": [
      "[달랏4일] 낭만도시 달랏 직항+랑비앙 포함 3박4일\n",
      "[나트랑/달랏5일] 시원한 낭만도시 랑비앙관광 5일\n",
      "[대구출발_나트랑5일] 지금 핫한 그곳! 아름다운 나트랑/달랏 관광\n",
      "[나트랑 5일★연합] 나트랑 1박/ 달랏 2박 꽉찬 관광일정\n",
      "*출발확정*[관광형] 나트랑x달랏 3박5일 [4성(1박)+달랏(2박)]\n",
      "*출발확정*[관광형] 나트랑x달랏 3박5일 [5성(1박)+달랏(2박)]\n",
      "[부산출발_나트랑5일] 떠오르는 여행지 나트랑 + 봄의 도시 달랏을 동시에!! 실속 관광형\n",
      "□패키지+[35만원 상당 특전포함/봄의도시,달랏/노옵션/5성호텔] 나트랑 달랏 4박5일\n",
      "*출발확정*[증편기][관광형] 나트랑x달랏 3박5일 [5성(1박)+달랏(2박)]\n",
      "●연중 봄의 도시, 달랏● [5성호텔] 달랏 3색 골프(54홀) + 관광 4박 5일\n",
      "next\n",
      "<class 'selenium.webdriver.remote.webelement.WebElement'>\n",
      "[달랏골프팩18홀]나트랑x달랏 3박5일 [5성(1박)+달랏(2박)]\n",
      "[달랏골프팩18홀]나트랑x달랏 3박5일 [4성(1박)+달랏(2박)]\n",
      "[나트랑호텔UP] 나트랑x달랏 3박5일 [4성(1박)+달랏(2박)]\n",
      "[나트랑호텔UP][증편기] 나트랑x달랏 3박5일 [4성(1박)+달랏(2박)]\n",
      "[그린라이트/청주출발][관광형] 나트랑+달랏 3박5일 [나트랑1박+달랏2박] - 4성급\n",
      "[달랏직항] 달랏 패키지 3박4일 [5성호텔]\n",
      "[달랏직항] 달랏 패키지 3박4일 [4성호텔]\n",
      "[달랏In-나트랑Out] 두도시 여행 3박5일 [5성호텔]\n",
      "[달랏In-나트랑Out] 두도시 여행 3박4일 [4성호텔]\n",
      "[새벽출발x나트랑In-달랏Out] 두도시 여행 3박4일 [5성호텔]\n",
      "next\n",
      "<class 'selenium.webdriver.remote.webelement.WebElement'>\n",
      "[아침출발x나트랑In-달랏Out] 두도시 여행 3박4일 [5성호텔]\n",
      "[아침출발x나트랑In-달랏Out] 두도시 여행 3박4일 [4성호텔]\n",
      "□패키지+[35만원 상당 특전포함/봄의도시,달랏/노옵션/5성호텔] 나트랑 달랏 3박4일\n",
      "(무안출발)[관광형] 나트랑x달랏 3박5일 [5성(1박)+달랏(2박)]\n",
      "(무안출발)[관광형] 나트랑x달랏 3박4일 [5성(1박)+달랏(2박)]\n",
      "(무안출발)[관광형] 나트랑x달랏 3박5일 [4성(1박)+달랏(2박)]\n",
      "(무안출발)[관광형] 나트랑x달랏 3박4일 [4성(1박)+달랏(2박)]\n",
      "[모두의특가] 달랏/호치민+구찌 4박 6일 [4성호텔/중간항공탑승]\n",
      "[모두의특가] 달랏/호치민+구찌 4박 6일 [5성호텔/중간항공탑승]\n",
      "☆[트립페스타][봄의도시,달랏/전일 관광형/5성호텔] 나트랑 달랏 3박5일($30상당 지프차 옵션 포함)\n",
      "next\n",
      "<class 'selenium.webdriver.remote.webelement.WebElement'>\n",
      "♣시그니처♣[퍼펙트베트남][노쇼핑/노옵션/5성급] 나트랑x달랏 3박5일 [나트랑(1박)+달랏(2박)]($200상당 추천옵션 ALL포함)\n",
      "♣시그니처♣[퍼펙트베트남][노쇼핑/노옵션/4성급] 나트랑x달랏 3박5일 [나트랑(1박)+달랏(2박)]($200상당 추천옵션 ALL포함)\n",
      "(청주출발) [관광형] 나트랑+달랏 3박5일 [나트랑1박+달랏2박] - 5성급\n",
      "●청주출발● [퍼펙트베트남][노쇼핑,노옵션] 나트랑x달랏 3박5일 [나트랑1박+달랏2박]\n",
      "●청주출발● [관광형] 나트랑x달랏 3박5일 [나트랑1박+달랏2박]\n",
      "♣시그니처♣[퍼펙트베트남][노쇼핑,노옵션] 나트랑x달랏 4박6일 [5성(2박)+달랏(2박)]\n",
      "★[봄의도시,달랏/전일 관광형/5성호텔] 나트랑 달랏 3박4일($30상당 지프차 옵션 포함)\n",
      "★출발확정[봄의도시,달랏/전일 관광형/4성호텔] 나트랑 달랏 3박4일($30상당 지프차 옵션 포함)\n",
      "*출발확정*[증편기][관광형] 나트랑x달랏 3박5일 [4성(1박)+달랏(2박)]\n",
      "★[봄의도시,달랏/전일 관광형/4성호텔] 나트랑 달랏 3박5일($30상당 지프차 옵션 포함)\n",
      "next\n",
      "<class 'selenium.webdriver.remote.webelement.WebElement'>\n",
      "□패키지+[35만원 상당 특전포함/봄의도시,달랏/노옵션/4성호텔] 나트랑 달랏 4박5일\n",
      "□패키지+[35만원 상당 특전포함/봄의도시,달랏/노옵션/4성호텔] 나트랑 달랏 3박4일\n",
      "★[봄의도시,달랏/전일 관광형/5성호텔] 나트랑 달랏 4박5일($30상당 지프차 옵션 포함)\n",
      "★출발확정/[싸데이+][봄의도시,달랏/전일 관광형/4성호텔] 나트랑 달랏 4박5일($30상당 지프차 옵션 포함)\n",
      "[대구출발_나트랑 5일] 하루 자유시간으로 나트랑 여유롭게 즐기기! 빈펄랜드포함\n",
      "[올인클루시브] 나트랑 패키지 4박5일 [스완도르 리조트(디럭스 씨뷰)]\n",
      "[부산출발_나트랑4일] 2박 짧고 굵게 ! 빈펄랜드+몽키아일랜드+나트랑 시내관광\n",
      "[부산출발_나트랑5일] 실속있게 떠나자! 준특급 호텔+빈펄랜드+1일 자유+시내관광\n",
      "☆[전일 오후관광/오전자유/식사포함/5성 인터컨티넨탈] 나트랑 3박 4일\n",
      "☆[전일 오후관광/오전자유/식사포함/4성 노보텔 지정] 나트랑 3박 4일\n",
      "next\n",
      "<class 'selenium.webdriver.remote.webelement.WebElement'>\n"
     ]
    }
   ],
   "source": [
    "# 인터파크에서 달랏 검색 후 더보기 및 5페이지 까지 제목 출력\n",
    "from selenium import webdriver as wd\n",
    "from selenium.webdriver.common.by import By\n",
    "from selenium.webdriver.support.ui import WebDriverWait\n",
    "from selenium.webdriver.support import expected_conditions as EC\n",
    "\n",
    "driver = wd.Chrome(executable_path='chromedriver.exe') #크롬브라우저 사용\n",
    "driver.get('http://tour.interpark.com/')\n",
    "driver.find_element_by_id('SearchGNBText').send_keys('달랏')\n",
    "driver.find_element_by_class_name('search-btn').click()\n",
    "driver.implicitly_wait(10)\n",
    "driver.find_element_by_class_name('moreBtn').click()\n",
    "\n",
    "import time\n",
    "\n",
    "# 해당 줄에 range 마지막 범위 지정해줄 수있는 유동적인 코드 적어야함  a // 10 + 1 | if .. % 10 == 0: ..-= 1 \n",
    "    \n",
    "for i in range(1, 6): \n",
    "    driver.execute_script(\"searchModule.SetCategoryList(%d, '')\"% i)\n",
    "    time.sleep(3)\n",
    "    trs = driver.find_elements_by_css_selector('body > div.container > div > div > div.panelZone > div.oTravelBox > ul > li > div > div.title-row > div > h5')\n",
    "    for tr in trs:\n",
    "        print(tr.text)\n",
    "    print('next')    \n",
    "    print(type(tr))"
   ]
  },
  {
   "cell_type": "code",
   "execution_count": 5,
   "metadata": {},
   "outputs": [],
   "source": [
    "from selenium import webdriver as wd\n",
    "from selenium.webdriver.common.by import By\n",
    "from selenium.webdriver.support.ui import WebDriverWait\n",
    "from selenium.webdriver.support import expected_conditions as EC\n",
    "\n",
    "driver = wd.Chrome(executable_path='chromedriver.exe') #크롬브라우저 사용\n",
    "driver.get('http://ggoreb.com/http/control2.jsp')\n",
    "driver.find_element_by_name('no').send_keys('부산') #네임no 안에 해당하는 부산을 뽑음\n",
    "#driver.close"
   ]
  },
  {
   "cell_type": "code",
   "execution_count": 6,
   "metadata": {},
   "outputs": [
    {
     "ename": "WebDriverException",
     "evalue": "Message: Service phantomjs.exe unexpectedly exited. Status code was: 0\n",
     "output_type": "error",
     "traceback": [
      "\u001b[1;31m---------------------------------------------------------------------------\u001b[0m",
      "\u001b[1;31mWebDriverException\u001b[0m                        Traceback (most recent call last)",
      "\u001b[1;32m<ipython-input-6-2e8697097f12>\u001b[0m in \u001b[0;36m<module>\u001b[1;34m\u001b[0m\n\u001b[0;32m      3\u001b[0m \u001b[1;32mfrom\u001b[0m \u001b[0mselenium\u001b[0m\u001b[1;33m.\u001b[0m\u001b[0mwebdriver\u001b[0m\u001b[1;33m.\u001b[0m\u001b[0msupport\u001b[0m\u001b[1;33m.\u001b[0m\u001b[0mui\u001b[0m \u001b[1;32mimport\u001b[0m \u001b[0mWebDriverWait\u001b[0m\u001b[1;33m\u001b[0m\u001b[1;33m\u001b[0m\u001b[0m\n\u001b[0;32m      4\u001b[0m \u001b[1;32mfrom\u001b[0m \u001b[0mselenium\u001b[0m\u001b[1;33m.\u001b[0m\u001b[0mwebdriver\u001b[0m\u001b[1;33m.\u001b[0m\u001b[0msupport\u001b[0m \u001b[1;32mimport\u001b[0m \u001b[0mexpected_conditions\u001b[0m \u001b[1;32mas\u001b[0m \u001b[0mEC\u001b[0m\u001b[1;33m\u001b[0m\u001b[1;33m\u001b[0m\u001b[0m\n\u001b[1;32m----> 5\u001b[1;33m \u001b[0mdriver\u001b[0m \u001b[1;33m=\u001b[0m \u001b[0mwd\u001b[0m\u001b[1;33m.\u001b[0m\u001b[0mChrome\u001b[0m\u001b[1;33m(\u001b[0m\u001b[0mexecutable_path\u001b[0m\u001b[1;33m=\u001b[0m\u001b[1;34m'phantomjs.exe'\u001b[0m\u001b[1;33m)\u001b[0m \u001b[1;31m#팬텀js는 용량 적게 차지 (브라우저를 활용 x)\u001b[0m\u001b[1;33m\u001b[0m\u001b[1;33m\u001b[0m\u001b[0m\n\u001b[0m\u001b[0;32m      6\u001b[0m \u001b[1;31m# driver = wd.Chrome(executable_path='chromedriver.exe') #크롬브라우저 사용\u001b[0m\u001b[1;33m\u001b[0m\u001b[1;33m\u001b[0m\u001b[1;33m\u001b[0m\u001b[0m\n\u001b[0;32m      7\u001b[0m \u001b[0mdriver\u001b[0m\u001b[1;33m.\u001b[0m\u001b[0mget\u001b[0m\u001b[1;33m(\u001b[0m\u001b[1;34m'https://finance.naver.com'\u001b[0m\u001b[1;33m)\u001b[0m\u001b[1;33m\u001b[0m\u001b[1;33m\u001b[0m\u001b[0m\n",
      "\u001b[1;32m~\\Anaconda3\\lib\\site-packages\\selenium\\webdriver\\chrome\\webdriver.py\u001b[0m in \u001b[0;36m__init__\u001b[1;34m(self, executable_path, port, options, service_args, desired_capabilities, service_log_path, chrome_options, keep_alive)\u001b[0m\n\u001b[0;32m     71\u001b[0m             \u001b[0mservice_args\u001b[0m\u001b[1;33m=\u001b[0m\u001b[0mservice_args\u001b[0m\u001b[1;33m,\u001b[0m\u001b[1;33m\u001b[0m\u001b[1;33m\u001b[0m\u001b[0m\n\u001b[0;32m     72\u001b[0m             log_path=service_log_path)\n\u001b[1;32m---> 73\u001b[1;33m         \u001b[0mself\u001b[0m\u001b[1;33m.\u001b[0m\u001b[0mservice\u001b[0m\u001b[1;33m.\u001b[0m\u001b[0mstart\u001b[0m\u001b[1;33m(\u001b[0m\u001b[1;33m)\u001b[0m\u001b[1;33m\u001b[0m\u001b[1;33m\u001b[0m\u001b[0m\n\u001b[0m\u001b[0;32m     74\u001b[0m \u001b[1;33m\u001b[0m\u001b[0m\n\u001b[0;32m     75\u001b[0m         \u001b[1;32mtry\u001b[0m\u001b[1;33m:\u001b[0m\u001b[1;33m\u001b[0m\u001b[1;33m\u001b[0m\u001b[0m\n",
      "\u001b[1;32m~\\Anaconda3\\lib\\site-packages\\selenium\\webdriver\\common\\service.py\u001b[0m in \u001b[0;36mstart\u001b[1;34m(self)\u001b[0m\n\u001b[0;32m     96\u001b[0m         \u001b[0mcount\u001b[0m \u001b[1;33m=\u001b[0m \u001b[1;36m0\u001b[0m\u001b[1;33m\u001b[0m\u001b[1;33m\u001b[0m\u001b[0m\n\u001b[0;32m     97\u001b[0m         \u001b[1;32mwhile\u001b[0m \u001b[1;32mTrue\u001b[0m\u001b[1;33m:\u001b[0m\u001b[1;33m\u001b[0m\u001b[1;33m\u001b[0m\u001b[0m\n\u001b[1;32m---> 98\u001b[1;33m             \u001b[0mself\u001b[0m\u001b[1;33m.\u001b[0m\u001b[0massert_process_still_running\u001b[0m\u001b[1;33m(\u001b[0m\u001b[1;33m)\u001b[0m\u001b[1;33m\u001b[0m\u001b[1;33m\u001b[0m\u001b[0m\n\u001b[0m\u001b[0;32m     99\u001b[0m             \u001b[1;32mif\u001b[0m \u001b[0mself\u001b[0m\u001b[1;33m.\u001b[0m\u001b[0mis_connectable\u001b[0m\u001b[1;33m(\u001b[0m\u001b[1;33m)\u001b[0m\u001b[1;33m:\u001b[0m\u001b[1;33m\u001b[0m\u001b[1;33m\u001b[0m\u001b[0m\n\u001b[0;32m    100\u001b[0m                 \u001b[1;32mbreak\u001b[0m\u001b[1;33m\u001b[0m\u001b[1;33m\u001b[0m\u001b[0m\n",
      "\u001b[1;32m~\\Anaconda3\\lib\\site-packages\\selenium\\webdriver\\common\\service.py\u001b[0m in \u001b[0;36massert_process_still_running\u001b[1;34m(self)\u001b[0m\n\u001b[0;32m    109\u001b[0m             raise WebDriverException(\n\u001b[0;32m    110\u001b[0m                 \u001b[1;34m'Service %s unexpectedly exited. Status code was: %s'\u001b[0m\u001b[1;33m\u001b[0m\u001b[1;33m\u001b[0m\u001b[0m\n\u001b[1;32m--> 111\u001b[1;33m                 \u001b[1;33m%\u001b[0m \u001b[1;33m(\u001b[0m\u001b[0mself\u001b[0m\u001b[1;33m.\u001b[0m\u001b[0mpath\u001b[0m\u001b[1;33m,\u001b[0m \u001b[0mreturn_code\u001b[0m\u001b[1;33m)\u001b[0m\u001b[1;33m\u001b[0m\u001b[1;33m\u001b[0m\u001b[0m\n\u001b[0m\u001b[0;32m    112\u001b[0m             )\n\u001b[0;32m    113\u001b[0m \u001b[1;33m\u001b[0m\u001b[0m\n",
      "\u001b[1;31mWebDriverException\u001b[0m: Message: Service phantomjs.exe unexpectedly exited. Status code was: 0\n"
     ]
    }
   ],
   "source": [
    "from selenium import webdriver as wd\n",
    "from selenium.webdriver.common.by import By\n",
    "from selenium.webdriver.support.ui import WebDriverWait\n",
    "from selenium.webdriver.support import expected_conditions as EC\n",
    "driver = wd.PhantomJS(executable_path='phantomjs.exe') #팬텀js는 용량 적게 차지 (브라우저를 활용 x)\n",
    "# driver = wd.Chrome(executable_path='chromedriver.exe') #크롬브라우저 사용\n",
    "driver.get('https://finance.naver.com')\n",
    "driver.find_element_by_class_name('snb_search_text').send_keys('멀티캠퍼스')\n",
    "driver.find_element_by_class_name('snb_search_btn').click()\n",
    "driver.implicitly_wait(10)\n",
    "\n",
    "trs = driver.find_elements_by_css_selector('#tab_con1 > .first tr') #여러 요소를 들고오기때문에 s넣음\n",
    "print(trs) #list로 뽑아 옴\n",
    "for tr in trs:\n",
    "    print(tr.text) #리스트를 하나씩 뽑아서 text로 전환 (list형태에서는 text화가 안됨)\n",
    "driver.close() #브라우저 종료"
   ]
  },
  {
   "cell_type": "code",
   "execution_count": 8,
   "metadata": {},
   "outputs": [
    {
     "name": "stdout",
     "output_type": "stream",
     "text": [
      "[<selenium.webdriver.remote.webelement.WebElement (session=\"30c18b0111f116e18f1b35de43808d50\", element=\"0c617857-8b85-4a20-87bc-4e039f871349\")>, <selenium.webdriver.remote.webelement.WebElement (session=\"30c18b0111f116e18f1b35de43808d50\", element=\"a82cfce0-dd1e-4cb7-bdaf-8acc0e8105a1\")>, <selenium.webdriver.remote.webelement.WebElement (session=\"30c18b0111f116e18f1b35de43808d50\", element=\"b08f6b05-99b2-42f7-9b88-aa75e32fe513\")>, <selenium.webdriver.remote.webelement.WebElement (session=\"30c18b0111f116e18f1b35de43808d50\", element=\"858fa041-50bf-4d8b-894b-38a37eff4ade\")>]\n",
      "시가총액 2,104 억원\n",
      "시가총액순위 코스닥 261위\n",
      "상장주식수 5,926,779\n",
      "액면가l매매단위 500원 l 1주\n"
     ]
    }
   ],
   "source": [
    "from selenium import webdriver as wd\n",
    "from selenium.webdriver.common.by import By\n",
    "from selenium.webdriver.support.ui import WebDriverWait\n",
    "from selenium.webdriver.support import expected_conditions as EC\n",
    "# driver = wd.PhantomJS(executable_path='phantomjs.exe') #팬텀js는 용량 적게 차지 (브라우저를 활용 x)\n",
    "driver = wd.Chrome(executable_path='chromedriver.exe') #크롬브라우저 사용\n",
    "driver.get('https://finance.naver.com')\n",
    "driver.find_element_by_class_name('snb_search_text').send_keys('멀티캠퍼스')\n",
    "driver.find_element_by_class_name('snb_search_btn').click()\n",
    "driver.implicitly_wait(10)\n",
    "\n",
    "trs = driver.find_elements_by_css_selector('#tab_con1 > .first tr') #여러 요소를 들고오기때문에 s넣음\n",
    "print(trs) #list로 뽑아 옴\n",
    "for tr in trs:\n",
    "    print(tr.text) #리스트를 하나씩 뽑아서 text로 전환 (list형태에서는 text화가 안됨)\n",
    " #브라우저 종료"
   ]
  },
  {
   "cell_type": "code",
   "execution_count": 8,
   "metadata": {},
   "outputs": [
    {
     "data": {
      "text/plain": [
       "'내용'"
      ]
     },
     "execution_count": 8,
     "metadata": {},
     "output_type": "execute_result"
    }
   ],
   "source": [
    "from selenium import webdriver as wd\n",
    "driver = wd.Chrome(executable_path='chromedriver.exe')\n",
    "driver.get('http://ggoreb.com/http/wait.jsp')\n",
    "driver.find_element_by_css_selector('p:nth-child(2)').text"
   ]
  },
  {
   "cell_type": "code",
   "execution_count": null,
   "metadata": {},
   "outputs": [],
   "source": [
    "from selenium.webdriver.common.by import By\n",
    "from selenium.webdriver.support.ui import WebDriverWait\n",
    "from selenium.webdriver.support import expected_conditions as EC\n",
    "\n",
    "from selenium import webdriver as wd\n",
    "driver = wd.Chrome(executable_path='chromedriver.exe')\n",
    "driver.get('http://ggoreb.com/http/wait.jsp')\n",
    "\n",
    "\n",
    "try :\n",
    "    element = WebDriverWait(driver, 10).until(\n",
    "    EC.presence_of_element_located((By.CSS_SELECTOR, 'p:nth-of-type(2)'))\n",
    "    )\n",
    "    print(driver.find_elements_by_tag_name('p')[0].text)\n",
    "except Exception as e:\n",
    "    print('오류 발생', e)"
   ]
  },
  {
   "cell_type": "code",
   "execution_count": null,
   "metadata": {},
   "outputs": [],
   "source": [
    "from selenium.webdriver.common.by import By\n",
    "from selenium.webdriver.support.ui import WebDriverWait\n",
    "from selenium.webdriver.support import expected_conditions as EC\n",
    "\n",
    "from selenium import webdriver as wd\n",
    "driver = wd.Chrome(executable_path='chromedriver.exe')\n",
    "driver.get('http://ggoreb.com/http/control.jsp')\n",
    "driver.find_element_by_tag_name('input').send_keys('파이썬') #파이썬 자동입력\n",
    "driver.find_element_by_tag_name('button').click() #버튼 자동클릭"
   ]
  },
  {
   "cell_type": "code",
   "execution_count": 31,
   "metadata": {},
   "outputs": [],
   "source": [
    "driver.execute_script('alert(\"Hello\")') # hello는 자바스크립트 방식이라 바깥 따옴표랑 다른 따옴표를 써주어야함"
   ]
  },
  {
   "cell_type": "code",
   "execution_count": 16,
   "metadata": {},
   "outputs": [
    {
     "name": "stdout",
     "output_type": "stream",
     "text": [
      "0\n"
     ]
    }
   ],
   "source": [
    "import requests\n",
    "from bs4 import BeautifulSoup\n",
    "result = requests.get('http://ggoreb.com/http/wait.jsp')\n",
    "soup = BeautifulSoup(result.text, 'html.parser')\n",
    "print(len(soup.find_all('p'))) # → 0  p태그가 없으므로~"
   ]
  },
  {
   "cell_type": "code",
   "execution_count": 17,
   "metadata": {},
   "outputs": [],
   "source": [
    "import requests\n",
    "\n",
    "params = {'query':'배고프다', 'src_lang':'kr', 'target_lang':'vi'}\n",
    "headers = {'Authorization': 'KakaoAK 3d28d42b5f4d318cfe6bee77bb929850'}\n",
    "address ='https://kapi.kakao.com/v1/translation/translate'\n",
    "\n",
    "res = requests.get(address, params=params, headers=headers) #요청"
   ]
  },
  {
   "cell_type": "code",
   "execution_count": 5,
   "metadata": {},
   "outputs": [
    {
     "name": "stdout",
     "output_type": "stream",
     "text": [
      "[['đói']]\n"
     ]
    }
   ],
   "source": [
    "text = res.json()['translated_text'] #json 파싱\n",
    "print(text)"
   ]
  },
  {
   "cell_type": "code",
   "execution_count": null,
   "metadata": {},
   "outputs": [],
   "source": []
  }
 ],
 "metadata": {
  "kernelspec": {
   "display_name": "Python 3",
   "language": "python",
   "name": "python3"
  },
  "language_info": {
   "codemirror_mode": {
    "name": "ipython",
    "version": 3
   },
   "file_extension": ".py",
   "mimetype": "text/x-python",
   "name": "python",
   "nbconvert_exporter": "python",
   "pygments_lexer": "ipython3",
   "version": "3.7.4"
  }
 },
 "nbformat": 4,
 "nbformat_minor": 2
}
