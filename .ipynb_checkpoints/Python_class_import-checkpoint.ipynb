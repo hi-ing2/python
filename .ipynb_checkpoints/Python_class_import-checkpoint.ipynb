{
 "cells": [
  {
   "cell_type": "code",
   "execution_count": null,
   "metadata": {},
   "outputs": [],
   "source": []
  },
  {
   "cell_type": "code",
   "execution_count": 40,
   "metadata": {},
   "outputs": [
    {
     "data": {
      "text/plain": [
       "{'': 1}"
      ]
     },
     "execution_count": 40,
     "metadata": {},
     "output_type": "execute_result"
    }
   ],
   "source": [
    "import collections\n",
    "f =  open('document.txt', 'r')\n",
    "#f로 document.txt 활용\n",
    "\n",
    "data = f.read()\n",
    "data = data.replace(\"\\n\", \" \")\n",
    "data_split= data.split(\" \")\n",
    "# print(data_split)\n",
    "data_dict = dict() #빈 딕셔너리 하나 만들어줌\n",
    "\n",
    "for word in data_split: \n",
    "    if word in data_dict: #해당 단어 있으면 +1\n",
    "        data_dict[word] = data_dict[word] + 1\n",
    "    else: #해당 단어 없으면 개수 최초 생성\n",
    "        data_dict[word] = 1\n",
    "data_dict\n",
    "\n",
    "# dict(collections.Counter(data_split))"
   ]
  },
  {
   "cell_type": "code",
   "execution_count": 37,
   "metadata": {},
   "outputs": [
    {
     "data": {
      "text/plain": [
       "[('-', 291), ('and', 83), ('for', 63), ('Python', 61), ('the', 42)]"
      ]
     },
     "execution_count": 37,
     "metadata": {},
     "output_type": "execute_result"
    }
   ],
   "source": [
    "# 많은 개수 순으로 정렬하는 법\n",
    "import operator\n",
    "\n",
    "word_list = sorted(data_dict.items(), # (단어, 개수)튜플형태로 뽑아내서 정렬함\n",
    "                   key=operator.itemgetter(1), #정렬 기준 (튜플안의 두번째 값(1), 단어 개수들)\n",
    "                   reverse=True ) #역순(내림차순) 정렬\n",
    "word_list[:5]"
   ]
  },
  {
   "cell_type": "code",
   "execution_count": null,
   "metadata": {},
   "outputs": [],
   "source": [
    "import driver.sound.wav\n",
    "import mod_class as mc\n",
    "\n",
    "my_class = mc.MyClass('A')\n",
    "my_class.show()\n",
    "print(my_class.get_name())"
   ]
  },
  {
   "cell_type": "code",
   "execution_count": 2,
   "metadata": {},
   "outputs": [
    {
     "ename": "SyntaxError",
     "evalue": "invalid syntax (mymod.py, line 4)",
     "output_type": "error",
     "traceback": [
      "Traceback \u001b[1;36m(most recent call last)\u001b[0m:\n",
      "  File \u001b[0;32m\"C:\\Users\\mhs34\\Anaconda3\\lib\\site-packages\\IPython\\core\\interactiveshell.py\"\u001b[0m, line \u001b[0;32m3326\u001b[0m, in \u001b[0;35mrun_code\u001b[0m\n    exec(code_obj, self.user_global_ns, self.user_ns)\n",
      "\u001b[1;36m  File \u001b[1;32m\"<ipython-input-2-dd426011c524>\"\u001b[1;36m, line \u001b[1;32m1\u001b[1;36m, in \u001b[1;35m<module>\u001b[1;36m\u001b[0m\n\u001b[1;33m    from mymod import myfunc\u001b[0m\n",
      "\u001b[1;36m  File \u001b[1;32m\"C:\\Users\\mhs34\\jupyter_study\\mymod.py\"\u001b[1;36m, line \u001b[1;32m4\u001b[0m\n\u001b[1;33m    if __name == '__main__' # import 로 쓸땐 실행이 안됨. 현재 py파일 안에서만 실행됨\u001b[0m\n\u001b[1;37m                                                                  ^\u001b[0m\n\u001b[1;31mSyntaxError\u001b[0m\u001b[1;31m:\u001b[0m invalid syntax\n"
     ]
    }
   ],
   "source": [
    "from mymod import myfunc\n",
    "\n",
    "myfunc(1,2)\n"
   ]
  },
  {
   "cell_type": "code",
   "execution_count": 10,
   "metadata": {},
   "outputs": [
    {
     "name": "stdout",
     "output_type": "stream",
     "text": [
      "초밥\n"
     ]
    }
   ],
   "source": [
    "#생성자로 메뉴 리스트를 넘겨받은 후 get_menu() 메소드를 통해 메뉴를 선택해주는 SelectMenu 클래스 작성 (random 기능 이용)\n",
    "import random\n",
    "class SelectMenu:\n",
    " # 코드 작성\n",
    "    def __init__(self, menu_list): #초기값 설정 (실행 할때 한번만 불러옴)\n",
    "        self.menu_list = menu_list\n",
    "    def get_menu(self): #self안에 self로 지정된 인자들을 넣어줌\n",
    "        num = random.randint(0, len(self.menu_list)-1)\n",
    "        return self.menu_list[num]\n",
    "        \n",
    "menu = SelectMenu(['짬뽕', '초밥', '쌀국수', '주꾸미'])\n",
    "\n",
    "print(menu.get_menu())"
   ]
  },
  {
   "cell_type": "code",
   "execution_count": 21,
   "metadata": {},
   "outputs": [
    {
     "name": "stdout",
     "output_type": "stream",
     "text": [
      "init total 0\n",
      "compute total 21\n",
      "합계 21\n"
     ]
    },
    {
     "data": {
      "text/plain": [
       "21"
      ]
     },
     "execution_count": 21,
     "metadata": {},
     "output_type": "execute_result"
    }
   ],
   "source": [
    "# 각 자리 수의 합을 구하는 EachSum 클래스의 compute() 메소드 작성\n",
    "class EachSum:\n",
    "    def __init__(a):\n",
    "        a.total = 0 \n",
    "        print('init total', a.total)\n",
    "    def compute(a, num):\n",
    "        for i in str(num):\n",
    "            a.total += int(i)\n",
    "        print('compute total', a.total)\n",
    "        return a.total\n",
    "        \n",
    "# 코드 작성\n",
    "\n",
    "each = EachSum() # __init__ 실행\n",
    "total = each.compute(123456) # compute 실행\n",
    "print('합계', total) #compute의 리턴값 출력"
   ]
  },
  {
   "cell_type": "code",
   "execution_count": 4,
   "metadata": {},
   "outputs": [
    {
     "data": {
      "text/plain": [
       "1"
      ]
     },
     "execution_count": 4,
     "metadata": {},
     "output_type": "execute_result"
    }
   ],
   "source": [
    "class Calculator:\n",
    "    # 생성자 작성\n",
    "    def __init__(self, first, second):\n",
    "        self.first = first\n",
    "        self.second = second\n",
    "    def plus(self):\n",
    "        return self.first + self.second\n",
    "    def minus(self):\n",
    "        return self.first - self.second\n",
    "    def multiply(self):\n",
    "        return self.first * self.second\n",
    "    def divide(self):\n",
    "        return self.first / self.second\n",
    "\n",
    "cal = Calculator(1, 5)\n",
    "cal.plus()\n",
    "cal.first"
   ]
  },
  {
   "cell_type": "code",
   "execution_count": 1,
   "metadata": {},
   "outputs": [
    {
     "name": "stdout",
     "output_type": "stream",
     "text": [
      "['치즈', '베이컨', '고구마']\n",
      "['불고기', '피망']\n",
      "['치즈', '베이컨', '고구마']\n"
     ]
    }
   ],
   "source": [
    "class Pizza:\n",
    "    \n",
    "    # 생성자 작성\n",
    "    def __init__(self):\n",
    "        self.topping = []\n",
    "    # add_topping 메소드 작성\n",
    "    def add_topping(self, topping):\n",
    "        self.topping += [topping]\n",
    "    # remove 메소드 작성\n",
    "    def remove(self, topping):\n",
    "        self.topping.remove(topping)\n",
    "    # show_topping 메소드 작성\n",
    "    def show_topping(self):\n",
    "        return self.topping\n",
    "\n",
    "p1 = Pizza()\n",
    "p1.add_topping('치즈')\n",
    "p1.add_topping('베이컨')\n",
    "p1.add_topping('고구마')\n",
    "p2 = Pizza()\n",
    "p2.add_topping('소시지')\n",
    "p2.add_topping('불고기')\n",
    "p2.add_topping('피망')\n",
    "p2.remove('소시지')\n",
    "print(p1.show_topping())\n",
    "print(p2.show_topping())\n",
    "print(p1.topping)"
   ]
  },
  {
   "cell_type": "code",
   "execution_count": null,
   "metadata": {},
   "outputs": [],
   "source": [
    "# "
   ]
  }
 ],
 "metadata": {
  "kernelspec": {
   "display_name": "Python 3",
   "language": "python",
   "name": "python3"
  },
  "language_info": {
   "codemirror_mode": {
    "name": "ipython",
    "version": 3
   },
   "file_extension": ".py",
   "mimetype": "text/x-python",
   "name": "python",
   "nbconvert_exporter": "python",
   "pygments_lexer": "ipython3",
   "version": "3.7.4"
  }
 },
 "nbformat": 4,
 "nbformat_minor": 2
}
