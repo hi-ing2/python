{
 "cells": [
  {
   "cell_type": "code",
   "execution_count": 85,
   "metadata": {},
   "outputs": [],
   "source": [
    "import requests\n",
    "result = requests.get('https://dhlottery.co.kr/gameResult.do?method=byWin&drwNo=893')\n",
    "result.encoding = None"
   ]
  },
  {
   "cell_type": "code",
   "execution_count": 87,
   "metadata": {},
   "outputs": [
    {
     "data": {
      "text/plain": [
       "['1', '15', '17', '23', '25', '41', '10']"
      ]
     },
     "execution_count": 87,
     "metadata": {},
     "output_type": "execute_result"
    }
   ],
   "source": [
    "pat = re.compile('lrg\\s+ball.+>(\\d+)</span>')\n",
    "pat.findall(result.text)"
   ]
  },
  {
   "cell_type": "code",
   "execution_count": 78,
   "metadata": {},
   "outputs": [
    {
     "name": "stdout",
     "output_type": "stream",
     "text": [
      "ggoreb@*****.com\n",
      "seorab@*****.com\n",
      "human@*****.com\n"
     ]
    }
   ],
   "source": [
    "import re\n",
    "user_list = ['ggoreb@naver.com', 'seorab@gmail.com', 'human@ggoreb.com']\n",
    "regex = '(\\w+@)\\w+([.]\\w+)'\n",
    "pattern = re.compile(regex)\n",
    "change = '\\g<1>*****\\g<2>'\n",
    "for user in user_list:.0"
   ]
  },
  {
   "cell_type": "code",
   "execution_count": 77,
   "metadata": {},
   "outputs": [
    {
     "name": "stdout",
     "output_type": "stream",
     "text": [
      "010-****-8181\n"
     ]
    }
   ],
   "source": [
    "import re\n",
    "text = '010-8444-8181'\n",
    "regex = '(\\d{3})-\\d{4}-(\\d{4})'\n",
    "pattern = re.compile(regex)\n",
    "change = '\\g<1>-****-\\g<2>'\n",
    "res = pattern.sub(change, text)\n",
    "print(res)"
   ]
  },
  {
   "cell_type": "code",
   "execution_count": 66,
   "metadata": {},
   "outputs": [
    {
     "name": "stdout",
     "output_type": "stream",
     "text": [
      "['서울', '강남', '맛집']\n"
     ]
    }
   ],
   "source": [
    "# 여러 기호를 제외하고 검색어만 확인하는 정규식 만들기\n",
    "\n",
    "import re\n",
    "text = '#서울, #강남, #맛집, #주꾸미'\n",
    "regex = '#(\\w+),*\\s*'\n",
    "pattern = re.compile(regex)\n",
    "res = pattern.findall(text)\n",
    "print(res)\n"
   ]
  },
  {
   "cell_type": "code",
   "execution_count": 54,
   "metadata": {},
   "outputs": [
    {
     "ename": "AttributeError",
     "evalue": "'NoneType' object has no attribute 'group'",
     "output_type": "error",
     "traceback": [
      "\u001b[1;31m---------------------------------------------------------------------------\u001b[0m",
      "\u001b[1;31mAttributeError\u001b[0m                            Traceback (most recent call last)",
      "\u001b[1;32m<ipython-input-54-a93a36675587>\u001b[0m in \u001b[0;36m<module>\u001b[1;34m\u001b[0m\n\u001b[0;32m      5\u001b[0m \u001b[0mpattern\u001b[0m \u001b[1;33m=\u001b[0m \u001b[0mre\u001b[0m\u001b[1;33m.\u001b[0m\u001b[0mcompile\u001b[0m\u001b[1;33m(\u001b[0m\u001b[0mregex\u001b[0m\u001b[1;33m)\u001b[0m\u001b[1;33m\u001b[0m\u001b[1;33m\u001b[0m\u001b[0m\n\u001b[0;32m      6\u001b[0m \u001b[0mres\u001b[0m \u001b[1;33m=\u001b[0m \u001b[0mpattern\u001b[0m\u001b[1;33m.\u001b[0m\u001b[0msearch\u001b[0m\u001b[1;33m(\u001b[0m\u001b[0mtext\u001b[0m\u001b[1;33m)\u001b[0m\u001b[1;33m\u001b[0m\u001b[1;33m\u001b[0m\u001b[0m\n\u001b[1;32m----> 7\u001b[1;33m \u001b[0mprint\u001b[0m\u001b[1;33m(\u001b[0m\u001b[0mres\u001b[0m\u001b[1;33m.\u001b[0m\u001b[0mgroup\u001b[0m\u001b[1;33m(\u001b[0m\u001b[1;33m)\u001b[0m\u001b[1;33m)\u001b[0m\u001b[1;33m\u001b[0m\u001b[1;33m\u001b[0m\u001b[0m\n\u001b[0m",
      "\u001b[1;31mAttributeError\u001b[0m: 'NoneType' object has no attribute 'group'"
     ]
    }
   ],
   "source": [
    "# 문자열 중 전화번호 확인하는 정규식 만들기\n",
    "import re\n",
    "text = '대표자 : 꼬렙 사업자등록번호 : 100-99-23242324 대표전화 : 02-1234-5678'\n",
    "regex = '(\\d{1-2})(\\d{1})-(\\d{4})-(\\d{4})'\n",
    "pattern = re.compile(regex)\n",
    "res = pattern.search(text)\n",
    "print(res.group())"
   ]
  },
  {
   "cell_type": "code",
   "execution_count": 51,
   "metadata": {},
   "outputs": [
    {
     "name": "stdout",
     "output_type": "stream",
     "text": [
      "<re.Match object; span=(19, 34), match='100-99-23242324'>\n"
     ]
    }
   ],
   "source": [
    "# 문자열 중 사업자등록번호만 확인하는 정규식 만들기\n",
    "\n",
    "\n",
    "import re\n",
    "text = '대표자 : 꼬렙 사업자등록번호 : 100-99-23242324 대표전화 : 051-1234-5678'\n",
    "regex = '\\d{3}-\\d{2}-\\d{8}'\n",
    "pattern = re.compile(regex)\n",
    "res = pattern.search(text)\n",
    "print(res)"
   ]
  },
  {
   "cell_type": "code",
   "execution_count": 52,
   "metadata": {},
   "outputs": [
    {
     "name": "stdout",
     "output_type": "stream",
     "text": [
      "<re.Match object; span=(0, 8), match='abcd1234'>\n",
      "<re.Match object; span=(0, 8), match='abcd1234'>\n"
     ]
    }
   ],
   "source": [
    "# 영어와 숫자로만 구성되어 있는지 확인하는 정규식 만들기\n",
    "\n",
    "import re\n",
    "text = 'abcd1234'\n",
    "regex = '^[a-zA-Z0-9]*$'\n",
    "pattern = re.compile(regex)\n",
    "res = pattern.match(text)\n",
    "res2 = pattern.search(text)\n",
    "\n",
    "print(res)\n",
    "print(res2)"
   ]
  },
  {
   "cell_type": "code",
   "execution_count": 53,
   "metadata": {},
   "outputs": [
    {
     "name": "stdout",
     "output_type": "stream",
     "text": [
      "<re.Match object; span=(0, 0), match=''>\n"
     ]
    }
   ],
   "source": [
    "#  숫자 2자리 + 영어 소문자 2자리 + 숫자 4자리로 구성되었는지 확인하는 정규식 만들기\n",
    "import re\n",
    "text = '12ab1234'\n",
    "regex = ''\n",
    "pattern = re.compile(regex)\n",
    "res = pattern.match(text)\n",
    "print(res)"
   ]
  },
  {
   "cell_type": "code",
   "execution_count": null,
   "metadata": {},
   "outputs": [],
   "source": [
    "import re\n",
    "text = '안녕하세요. 저는 OOO에서 태어났고... 열심히 하겠습니다. 감사합니다.'\n",
    "regex = '안녕하세요[.].감사합니다[.]'\n",
    "pattern = re.compile(regex)\n",
    "res = pattern.match(text)\n",
    "print(res)"
   ]
  },
  {
   "cell_type": "code",
   "execution_count": 20,
   "metadata": {},
   "outputs": [
    {
     "name": "stdout",
     "output_type": "stream",
     "text": [
      "<re.Match object; span=(0, 13), match='123-12-123456'>\n",
      "123-12-123456\n"
     ]
    }
   ],
   "source": [
    "#계좌번호\n",
    "import re\n",
    "text = '123-12-123456'\n",
    "regex = '(1\\d{2})-1\\d{1}-\\d{6}'\n",
    "pattern = re.compile(regex)\n",
    "res = pattern.match(text)\n",
    "print(res)\n",
    "print(res.group())"
   ]
  },
  {
   "cell_type": "code",
   "execution_count": 21,
   "metadata": {},
   "outputs": [
    {
     "name": "stdout",
     "output_type": "stream",
     "text": [
      "<re.Match object; span=(0, 14), match='791111-1234567'>\n",
      "791111-1234567\n",
      "<re.Match object; span=(0, 14), match='791111-1234567'>\n"
     ]
    }
   ],
   "source": [
    "# 주민등록번호\n",
    "import re\n",
    "text = '791111-1234567'\n",
    "regex = '^(?:[0-9]{2}(?:0[1-9]|1[0-2])(?:0[1-9]|[1,2][0-9]|3[0,1]))-[1-4][0-9]{6}$'\n",
    "pattern = re.compile(regex)\n",
    "res = pattern.match(text)\n",
    "print(res)\n",
    "print(res.group(0))\n",
    "print(res)"
   ]
  },
  {
   "cell_type": "code",
   "execution_count": 2,
   "metadata": {},
   "outputs": [
    {
     "name": "stdout",
     "output_type": "stream",
     "text": [
      "None\n",
      "<re.Match object; span=(0, 1), match='a'>\n"
     ]
    }
   ],
   "source": [
    "import re\n",
    "pat = re.compile('[abc]') #abc 패턴생성\n",
    "s = 'python'\n",
    "a = 'apple'\n",
    "print(pat.match(s)) #s와 비교 (해당 요소에 패턴이 포함되어있는가?) == False\n",
    "print(pat.match(a)) #a와 비교 (a가 있음) == True"
   ]
  },
  {
   "cell_type": "code",
   "execution_count": null,
   "metadata": {},
   "outputs": [],
   "source": []
  }
 ],
 "metadata": {
  "kernelspec": {
   "display_name": "Python 3",
   "language": "python",
   "name": "python3"
  },
  "language_info": {
   "codemirror_mode": {
    "name": "ipython",
    "version": 3
   },
   "file_extension": ".py",
   "mimetype": "text/x-python",
   "name": "python",
   "nbconvert_exporter": "python",
   "pygments_lexer": "ipython3",
   "version": "3.7.4"
  }
 },
 "nbformat": 4,
 "nbformat_minor": 2
}
