{
 "cells": [
  {
   "cell_type": "code",
   "execution_count": null,
   "metadata": {},
   "outputs": [],
   "source": []
  },
  {
   "cell_type": "code",
   "execution_count": 4,
   "metadata": {},
   "outputs": [
    {
     "name": "stdout",
     "output_type": "stream",
     "text": [
      "서울특별시 2,781,345(42.34) 1,365,285(20.78) 1,492,767(22.72) \n",
      "부산광역시 872,127(38.71) 720,484(31.98) 378,907(16.82) \n",
      "광주광역시 583,847(61.14) 14,882(1.55) 287,222(30.08) \n",
      "대전광역시 404,545(42.93) 191,376(20.30) 218,769(23.21) \n",
      "세종특별자치시 77,767(51.08) 23,211(15.24) 32,010(21.02) \n",
      "제주특별자치도 169,493(45.51) 68,063(18.27) 77,861(20.90) \n"
     ]
    }
   ],
   "source": [
    "# 대통령선거 개표 현황 조회\n",
    "from selenium import webdriver as wd\n",
    "from selenium.webdriver.common.by import By\n",
    "from selenium.webdriver.support.ui import WebDriverWait\n",
    "from selenium.webdriver.support import expected_conditions as EC\n",
    "import time\n",
    "\n",
    "driver = wd.Chrome(executable_path='chromedriver.exe') #크롬브라우저 사용\n",
    "driver.get('http://info.nec.go.kr/main/showDocument.xhtml?electionId=0000000000')\n",
    "driver.find_element_by_css_selector('#presubmu > li:nth-child(3) > a').click()\n",
    "driver.find_element_by_css_selector('#header > div.selSecondMenu > ul > li:nth-child(5)').click()\n",
    "time.sleep(1)\n",
    "\n",
    "driver.find_element_by_css_selector('#electionType1').click()\n",
    "time.sleep(1)\n",
    "driver.find_element_by_css_selector('#electionName > option:nth-child(2)').click()\n",
    "time.sleep(1)\n",
    "driver.find_element_by_css_selector('#electionCode > option:nth-child(2)').click()\n",
    "time.sleep(1)\n",
    "driver.find_element_by_css_selector('#cityCode > option:nth-child(2)').click()\n",
    "time.sleep(1)\n",
    "driver.find_element_by_css_selector('#searchBtn').click()\n",
    "time.sleep(1)\n",
    "\n",
    "# tr이 행(가로줄) / td가 열(세로줄)\n",
    "tr_list = [2,3,6,7,9,18]\n",
    "for i in tr_list: #해당 list 요소 호출\n",
    "#     if i == 2 or i == 3 or i == 6 or i == 7 or i == 9 or i == 18: #2, 3, 6, 7, 9, 18번째 행만 해당시킴\n",
    "        trs0 = driver.find_element_by_css_selector('#table01 > tbody > tr:nth-child(%d) > td:nth-child(1)'% i) #해당 행의 1열만 호출\n",
    "        print(trs0.text, end =' ')\n",
    "        for j in range(4, 7):\n",
    "            trs = driver.find_element_by_css_selector('#table01 > tbody > tr:nth-child(%d)> td:nth-child(%d)'% (i, j)) #해당 행의 j열만 호출(4~6)\n",
    "            print(trs.text.replace('\\n', ''), end=' ') #줄바꿈 -> 띄어쓰기로 바꿔줌 / 줄 정리\n",
    "        print('')#줄 정리"
   ]
  },
  {
   "cell_type": "code",
   "execution_count": 3,
   "metadata": {},
   "outputs": [
    {
     "name": "stdout",
     "output_type": "stream",
     "text": [
      "[달랏4일] 낭만도시 달랏 직항+랑비앙 포함 3박4일\n",
      "[나트랑/달랏5일] 시원한 낭만도시 랑비앙관광 5일\n",
      "[대구출발_나트랑5일] 지금 핫한 그곳! 아름다운 나트랑/달랏 관광\n",
      "[나트랑 5일★연합] 나트랑 1박/ 달랏 2박 꽉찬 관광일정\n",
      "*출발확정*[관광형] 나트랑x달랏 3박5일 [4성(1박)+달랏(2박)]\n",
      "*출발확정*[관광형] 나트랑x달랏 3박5일 [5성(1박)+달랏(2박)]\n",
      "[부산출발_나트랑5일] 떠오르는 여행지 나트랑 + 봄의 도시 달랏을 동시에!! 실속 관광형\n",
      "□패키지+[35만원 상당 특전포함/봄의도시,달랏/노옵션/5성호텔] 나트랑 달랏 4박5일\n",
      "*출발확정*[증편기][관광형] 나트랑x달랏 3박5일 [5성(1박)+달랏(2박)]\n",
      "●연중 봄의 도시, 달랏● [5성호텔] 달랏 3색 골프(54홀) + 관광 4박 5일\n",
      "next\n",
      "<class 'selenium.webdriver.remote.webelement.WebElement'>\n",
      "[달랏골프팩18홀]나트랑x달랏 3박5일 [5성(1박)+달랏(2박)]\n",
      "[달랏골프팩18홀]나트랑x달랏 3박5일 [4성(1박)+달랏(2박)]\n",
      "[나트랑호텔UP] 나트랑x달랏 3박5일 [4성(1박)+달랏(2박)]\n",
      "[나트랑호텔UP][증편기] 나트랑x달랏 3박5일 [4성(1박)+달랏(2박)]\n",
      "[그린라이트/청주출발][관광형] 나트랑+달랏 3박5일 [나트랑1박+달랏2박] - 4성급\n",
      "[달랏직항] 달랏 패키지 3박4일 [5성호텔]\n",
      "[달랏직항] 달랏 패키지 3박4일 [4성호텔]\n",
      "[달랏In-나트랑Out] 두도시 여행 3박5일 [5성호텔]\n",
      "[달랏In-나트랑Out] 두도시 여행 3박4일 [4성호텔]\n",
      "[새벽출발x나트랑In-달랏Out] 두도시 여행 3박4일 [5성호텔]\n",
      "next\n",
      "<class 'selenium.webdriver.remote.webelement.WebElement'>\n",
      "[아침출발x나트랑In-달랏Out] 두도시 여행 3박4일 [5성호텔]\n",
      "[아침출발x나트랑In-달랏Out] 두도시 여행 3박4일 [4성호텔]\n",
      "□패키지+[35만원 상당 특전포함/봄의도시,달랏/노옵션/5성호텔] 나트랑 달랏 3박4일\n",
      "(무안출발)[관광형] 나트랑x달랏 3박5일 [5성(1박)+달랏(2박)]\n",
      "(무안출발)[관광형] 나트랑x달랏 3박4일 [5성(1박)+달랏(2박)]\n",
      "(무안출발)[관광형] 나트랑x달랏 3박5일 [4성(1박)+달랏(2박)]\n",
      "(무안출발)[관광형] 나트랑x달랏 3박4일 [4성(1박)+달랏(2박)]\n",
      "[모두의특가] 달랏/호치민+구찌 4박 6일 [4성호텔/중간항공탑승]\n",
      "[모두의특가] 달랏/호치민+구찌 4박 6일 [5성호텔/중간항공탑승]\n",
      "☆[트립페스타][봄의도시,달랏/전일 관광형/5성호텔] 나트랑 달랏 3박5일($30상당 지프차 옵션 포함)\n",
      "next\n",
      "<class 'selenium.webdriver.remote.webelement.WebElement'>\n",
      "♣시그니처♣[퍼펙트베트남][노쇼핑/노옵션/5성급] 나트랑x달랏 3박5일 [나트랑(1박)+달랏(2박)]($200상당 추천옵션 ALL포함)\n",
      "♣시그니처♣[퍼펙트베트남][노쇼핑/노옵션/4성급] 나트랑x달랏 3박5일 [나트랑(1박)+달랏(2박)]($200상당 추천옵션 ALL포함)\n",
      "(청주출발) [관광형] 나트랑+달랏 3박5일 [나트랑1박+달랏2박] - 5성급\n",
      "●청주출발● [퍼펙트베트남][노쇼핑,노옵션] 나트랑x달랏 3박5일 [나트랑1박+달랏2박]\n",
      "●청주출발● [관광형] 나트랑x달랏 3박5일 [나트랑1박+달랏2박]\n",
      "♣시그니처♣[퍼펙트베트남][노쇼핑,노옵션] 나트랑x달랏 4박6일 [5성(2박)+달랏(2박)]\n",
      "★[봄의도시,달랏/전일 관광형/5성호텔] 나트랑 달랏 3박4일($30상당 지프차 옵션 포함)\n",
      "★출발확정[봄의도시,달랏/전일 관광형/4성호텔] 나트랑 달랏 3박4일($30상당 지프차 옵션 포함)\n",
      "*출발확정*[증편기][관광형] 나트랑x달랏 3박5일 [4성(1박)+달랏(2박)]\n",
      "★[봄의도시,달랏/전일 관광형/4성호텔] 나트랑 달랏 3박5일($30상당 지프차 옵션 포함)\n",
      "next\n",
      "<class 'selenium.webdriver.remote.webelement.WebElement'>\n",
      "□패키지+[35만원 상당 특전포함/봄의도시,달랏/노옵션/4성호텔] 나트랑 달랏 4박5일\n",
      "□패키지+[35만원 상당 특전포함/봄의도시,달랏/노옵션/4성호텔] 나트랑 달랏 3박4일\n",
      "★[봄의도시,달랏/전일 관광형/5성호텔] 나트랑 달랏 4박5일($30상당 지프차 옵션 포함)\n",
      "★출발확정/[싸데이+][봄의도시,달랏/전일 관광형/4성호텔] 나트랑 달랏 4박5일($30상당 지프차 옵션 포함)\n",
      "[대구출발_나트랑 5일] 하루 자유시간으로 나트랑 여유롭게 즐기기! 빈펄랜드포함\n",
      "[올인클루시브] 나트랑 패키지 4박5일 [스완도르 리조트(디럭스 씨뷰)]\n",
      "[부산출발_나트랑4일] 2박 짧고 굵게 ! 빈펄랜드+몽키아일랜드+나트랑 시내관광\n",
      "[부산출발_나트랑5일] 실속있게 떠나자! 준특급 호텔+빈펄랜드+1일 자유+시내관광\n",
      "☆[전일 오후관광/오전자유/식사포함/5성 인터컨티넨탈] 나트랑 3박 4일\n",
      "☆[전일 오후관광/오전자유/식사포함/4성 노보텔 지정] 나트랑 3박 4일\n",
      "next\n",
      "<class 'selenium.webdriver.remote.webelement.WebElement'>\n"
     ]
    }
   ],
   "source": [
    "# 인터파크에서 달랏 검색 후 더보기 및 5페이지 까지 제목 출력\n",
    "from selenium import webdriver as wd\n",
    "from selenium.webdriver.common.by import By\n",
    "from selenium.webdriver.support.ui import WebDriverWait\n",
    "from selenium.webdriver.support import expected_conditions as EC\n",
    "\n",
    "driver = wd.Chrome(executable_path='chromedriver.exe') #크롬브라우저 사용\n",
    "driver.get('http://tour.interpark.com/')\n",
    "driver.find_element_by_id('SearchGNBText').send_keys('달랏')\n",
    "driver.find_element_by_class_name('search-btn').click()\n",
    "driver.implicitly_wait(10)\n",
    "driver.find_element_by_class_name('moreBtn').click()\n",
    "\n",
    "import time\n",
    "\n",
    "# 해당 줄에 range 마지막 범위 지정해줄 수있는 유동적인 코드 적어야함  a // 10 + 1 | if .. % 10 == 0: ..-= 1 \n",
    "    \n",
    "for i in range(1, 6): \n",
    "    driver.execute_script(\"searchModule.SetCategoryList(%d, '')\"% i)\n",
    "    time.sleep(3)\n",
    "    trs = driver.find_elements_by_css_selector('body > div.container > div > div > div.panelZone > div.oTravelBox > ul > li > div > div.title-row > div > h5')\n",
    "    for tr in trs:\n",
    "        print(tr.text)\n",
    "    print('next')    \n",
    "    print(type(tr))"
   ]
  },
  {
   "cell_type": "code",
   "execution_count": 5,
   "metadata": {},
   "outputs": [],
   "source": [
    "from selenium import webdriver as wd\n",
    "from selenium.webdriver.common.by import By\n",
    "from selenium.webdriver.support.ui import WebDriverWait\n",
    "from selenium.webdriver.support import expected_conditions as EC\n",
    "\n",
    "driver = wd.Chrome(executable_path='chromedriver.exe') #크롬브라우저 사용\n",
    "driver.get('http://ggoreb.com/http/control2.jsp')\n",
    "driver.find_element_by_name('no').send_keys('부산') #네임no 안에 해당하는 부산을 뽑음\n",
    "#driver.close"
   ]
  },
  {
   "cell_type": "code",
   "execution_count": 1,
   "metadata": {},
   "outputs": [
    {
     "name": "stderr",
     "output_type": "stream",
     "text": [
      "C:\\Users\\mhs34\\Anaconda3\\lib\\site-packages\\selenium\\webdriver\\phantomjs\\webdriver.py:49: UserWarning: Selenium support for PhantomJS has been deprecated, please use headless versions of Chrome or Firefox instead\n",
      "  warnings.warn('Selenium support for PhantomJS has been deprecated, please use headless '\n"
     ]
    },
    {
     "name": "stdout",
     "output_type": "stream",
     "text": [
      "[<selenium.webdriver.remote.webelement.WebElement (session=\"1683c9b0-3831-11ea-9e62-ddaf1e4861d8\", element=\":wdc:1579159409336\")>, <selenium.webdriver.remote.webelement.WebElement (session=\"1683c9b0-3831-11ea-9e62-ddaf1e4861d8\", element=\":wdc:1579159409337\")>, <selenium.webdriver.remote.webelement.WebElement (session=\"1683c9b0-3831-11ea-9e62-ddaf1e4861d8\", element=\":wdc:1579159409338\")>, <selenium.webdriver.remote.webelement.WebElement (session=\"1683c9b0-3831-11ea-9e62-ddaf1e4861d8\", element=\":wdc:1579159409339\")>]\n",
      "시가총액 2,033 억원\n",
      "시가총액순위 코스닥 288위\n",
      "상장주식수 5,926,779\n",
      "액면가l매매단위 500원 l 1주\n"
     ]
    }
   ],
   "source": [
    "from selenium import webdriver as wd\n",
    "from selenium.webdriver.common.by import By\n",
    "from selenium.webdriver.support.ui import WebDriverWait\n",
    "from selenium.webdriver.support import expected_conditions as EC\n",
    "driver = wd.PhantomJS(executable_path='phantomjs.exe') #팬텀js는 용량 적게 차지 (브라우저를 활용 x)\n",
    "# driver = wd.Chrome(executable_path='chromedriver.exe') #크롬브라우저 사용\n",
    "driver.get('https://finance.naver.com')\n",
    "driver.find_element_by_class_name('snb_search_text').send_keys('멀티캠퍼스')\n",
    "driver.find_element_by_class_name('snb_search_btn').click()\n",
    "driver.implicitly_wait(10)\n",
    "\n",
    "trs = driver.find_elements_by_css_selector('#tab_con1 > .first tr') #여러 요소를 들고오기때문에 s넣음\n",
    "print(trs) #list로 뽑아 옴\n",
    "for tr in trs:\n",
    "    print(tr.text) #리스트를 하나씩 뽑아서 text로 전환 (list형태에서는 text화가 안됨)\n",
    "driver.close() #브라우저 종료"
   ]
  },
  {
   "cell_type": "code",
   "execution_count": 8,
   "metadata": {},
   "outputs": [
    {
     "data": {
      "text/plain": [
       "'내용'"
      ]
     },
     "execution_count": 8,
     "metadata": {},
     "output_type": "execute_result"
    }
   ],
   "source": [
    "from selenium import webdriver as wd\n",
    "driver = wd.Chrome(executable_path='chromedriver.exe')\n",
    "driver.get('http://ggoreb.com/http/wait.jsp')\n",
    "driver.find_element_by_css_selector('p:nth-child(2)').text"
   ]
  },
  {
   "cell_type": "code",
   "execution_count": null,
   "metadata": {},
   "outputs": [],
   "source": [
    "from selenium.webdriver.common.by import By\n",
    "from selenium.webdriver.support.ui import WebDriverWait\n",
    "from selenium.webdriver.support import expected_conditions as EC\n",
    "\n",
    "from selenium import webdriver as wd\n",
    "driver = wd.Chrome(executable_path='chromedriver.exe')\n",
    "driver.get('http://ggoreb.com/http/wait.jsp')\n",
    "\n",
    "\n",
    "try :\n",
    "    element = WebDriverWait(driver, 10).until(\n",
    "    EC.presence_of_element_located((By.CSS_SELECTOR, 'p:nth-of-type(2)'))\n",
    "    )\n",
    "    print(driver.find_elements_by_tag_name('p')[0].text)\n",
    "except Exception as e:\n",
    "    print('오류 발생', e)"
   ]
  },
  {
   "cell_type": "code",
   "execution_count": null,
   "metadata": {},
   "outputs": [],
   "source": [
    "from selenium.webdriver.common.by import By\n",
    "from selenium.webdriver.support.ui import WebDriverWait\n",
    "from selenium.webdriver.support import expected_conditions as EC\n",
    "\n",
    "from selenium import webdriver as wd\n",
    "driver = wd.Chrome(executable_path='chromedriver.exe')\n",
    "driver.get('http://ggoreb.com/http/control.jsp')\n",
    "driver.find_element_by_tag_name('input').send_keys('파이썬') #파이썬 자동입력\n",
    "driver.find_element_by_tag_name('button').click() #버튼 자동클릭"
   ]
  },
  {
   "cell_type": "code",
   "execution_count": 31,
   "metadata": {},
   "outputs": [],
   "source": [
    "driver.execute_script('alert(\"Hello\")') # hello는 자바스크립트 방식이라 바깥 따옴표랑 다른 따옴표를 써주어야함"
   ]
  },
  {
   "cell_type": "code",
   "execution_count": 16,
   "metadata": {},
   "outputs": [
    {
     "name": "stdout",
     "output_type": "stream",
     "text": [
      "0\n"
     ]
    }
   ],
   "source": [
    "import requests\n",
    "from bs4 import BeautifulSoup\n",
    "result = requests.get('http://ggoreb.com/http/wait.jsp')\n",
    "soup = BeautifulSoup(result.text, 'html.parser')\n",
    "print(len(soup.find_all('p'))) # → 0  p태그가 없으므로~"
   ]
  },
  {
   "cell_type": "code",
   "execution_count": 17,
   "metadata": {},
   "outputs": [],
   "source": [
    "import requests\n",
    "\n",
    "params = {'query':'배고프다', 'src_lang':'kr', 'target_lang':'vi'}\n",
    "headers = {'Authorization': 'KakaoAK 3d28d42b5f4d318cfe6bee77bb929850'}\n",
    "address ='https://kapi.kakao.com/v1/translation/translate'\n",
    "\n",
    "res = requests.get(address, params=params, headers=headers) #요청"
   ]
  },
  {
   "cell_type": "code",
   "execution_count": 5,
   "metadata": {},
   "outputs": [
    {
     "name": "stdout",
     "output_type": "stream",
     "text": [
      "[['đói']]\n"
     ]
    }
   ],
   "source": [
    "text = res.json()['translated_text'] #json 파싱\n",
    "print(text)"
   ]
  },
  {
   "cell_type": "code",
   "execution_count": null,
   "metadata": {},
   "outputs": [],
   "source": []
  }
 ],
 "metadata": {
  "kernelspec": {
   "display_name": "Python 3",
   "language": "python",
   "name": "python3"
  },
  "language_info": {
   "codemirror_mode": {
    "name": "ipython",
    "version": 3
   },
   "file_extension": ".py",
   "mimetype": "text/x-python",
   "name": "python",
   "nbconvert_exporter": "python",
   "pygments_lexer": "ipython3",
   "version": "3.7.4"
  }
 },
 "nbformat": 4,
 "nbformat_minor": 2
}
