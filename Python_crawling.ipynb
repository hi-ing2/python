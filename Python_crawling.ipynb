{
 "cells": [
  {
   "cell_type": "code",
   "execution_count": 62,
   "metadata": {},
   "outputs": [],
   "source": [
    "from selenium import webdriver as wd\n",
    "from selenium.webdriver.common.by import By\n",
    "from selenium.webdriver.support.ui import WebDriverWait\n",
    "from selenium.webdriver.support import expected_conditions as EC\n",
    "from selenium.common.exceptions import NoSuchElementException\n",
    "import time\n",
    "from selenium.webdriver.common.keys import Keys\n",
    "driver = wd.Chrome(executable_path='chromedriver.exe') #크롬브라우저 사용\n",
    "driver.get('https://www.innisfree.com/kr/ko/Product.do?tp=1')\n",
    "driver.implicitly_wait(10)"
   ]
  },
  {
   "cell_type": "code",
   "execution_count": 63,
   "metadata": {},
   "outputs": [],
   "source": [
    "\n",
    "post = driver.find_element_by_css_selector('#prdList > div.pdtListType.pdtListSub > ul > li:nth-child(2)')\n",
    "post.click()"
   ]
  },
  {
   "cell_type": "code",
   "execution_count": 66,
   "metadata": {},
   "outputs": [
    {
     "name": "stdout",
     "output_type": "stream",
     "text": [
      "[닦아쓰는 화장솜 증정!]\n",
      "트루케어 판테놀 10 수분 스킨 250mL\n",
      "촘촘한 보습막을 형성하는 판테놀이 10% 함유되어 있어 피부 안으로 수분을 채워주고, 피부 겉 수분은 꽉 잡아주어 오랜 시간 촉촉함을 선사하는 수분 스킨\n"
     ]
    }
   ],
   "source": [
    "driver.implicitly_wait(10)\n",
    "txts = driver.find_elements_by_css_selector('#contents > div.pdtViewTop > div.pdtViewCont > p')\n",
    "for txt in txts:\n",
    "    print(txt.text)\n",
    "    "
   ]
  },
  {
   "cell_type": "code",
   "execution_count": 68,
   "metadata": {},
   "outputs": [],
   "source": [
    "review = driver.find_element_by_css_selector('#contents > div.tabWrap.pdtTabWrap > div.tabType > ul > li:nth-child(3)')\n",
    "review.click()"
   ]
  },
  {
   "cell_type": "code",
   "execution_count": 70,
   "metadata": {},
   "outputs": [],
   "source": [
    "all_review = driver.find_element_by_css_selector('#prdReviewSrchFrm > div > ul > li:nth-child(2)')\n",
    "all_review.click()\n",
    "\n"
   ]
  },
  {
   "cell_type": "code",
   "execution_count": null,
   "metadata": {},
   "outputs": [
    {
     "name": "stdout",
     "output_type": "stream",
     "text": [
      "5 5\n",
      "트루케어 판테놀 10 수분 스킨\n",
      "\n"
     ]
    }
   ],
   "source": [
    "x = 1\n",
    "review = None\n",
    "while True:\n",
    "    driver.implicitly_wait(10)\n",
    "    for j in range(len(review_num)+1):\n",
    "        review = driver.find_elements_by_css_selector('#reviewList > ul > li:nth-child(%d) > button > div.reviewConTxt > p' % j)                        \n",
    "        for one in review:\n",
    "            print(one.text)\n",
    "    print(\"next\", x)\n",
    "    if review == :\n",
    "        break\n",
    "    driver.execute_script(\"javascript:goPage('%d');\" %(x+1))\n",
    "\n",
    "    x += 1\n",
    "                "
   ]
  },
  {
   "cell_type": "code",
   "execution_count": 92,
   "metadata": {},
   "outputs": [
    {
     "name": "stdout",
     "output_type": "stream",
     "text": [
      "5 5\n",
      "트루케어 판테놀 10 수분 스킨\n",
      "너무 좋아요ㅎㅎ 닦토용으로도 사용하고 그냥 바르기도 하는데 성분도 좋고 순해서 더 큰 대용량도 나왔으면 좋겠어요\n",
      "5 5\n",
      "트루케어 판테놀 10 수분 스킨\n",
      "3병째 쓰고있는 스킨입니다. 비자라인에서 트루로 넘어온지 1년이되어가네요. 진짜 트루케어만나고 피부인생 완전 바뀐1인으로, 이니스프리 트루케어 넘감사하고 사랑해여ㅠ 진짜 매번 보는분들마다 관리받냐고 할 정도로 피부에 트러블 한달에 한번 올라올까 합니다. 스킨은 끈적임 하나없고 적당히 가벼우면서도 촉촉해서 솜으로 닦아내도 바로 증발하는느낌 아니라 피부에 살짝남아있고 흡수시며주면 부드럽게 흡수가 됩니댜👍\n",
      "5 5\n",
      "트루케어 판테놀 10 수분 스킨\n",
      "이번 세일행사때 구매했어요. 용량이 조금 더 컸으면 하는 아쉬움이 있구요, 트루케어 라인은 순해서 믿고 사용하고 있습니다.\n",
      "5 5\n",
      "트루케어 판테놀 10 수분 스킨\n",
      "피부 당김, 속건조에 좋은 것 같아요\n",
      "5 5\n",
      "트루케어 판테놀 10 수분 스킨\n",
      "무향이고 순해요 은근 촉촉합니다 대용량 싸게좀 출시해주세요\n",
      "5 5\n",
      "트루케어 판테놀 10 수분 스킨\n",
      "발림성이 좋고 피부트러블도 없어요. 피부결이 정돈되고 피부가 밝아지는 느낌이에요. 꾸준히 바르면 더 좋아질 거같아요~\n",
      "5 5\n",
      "트루케어 판테놀 10 수분 스킨\n",
      "수분부족현상으로 구매했는데 살짝 끈적임이 있고 촉촉하네요.\n",
      "3 3\n",
      "트루케어 판테놀 10 수분 스킨\n",
      "비자 트러블 스킨을 쓰다가 트루케어 스킨으로 건너왔더니 바르고 말랐을때 끈적이네요 ㅜㅜ 보습을 짱짱하게 하기위해 끈적이게 되는것 같지만 말랐을때 끈적이는건 개인적으로 불호라 다음부턴 잘 보고 바꿔야겠네용\n",
      "5 5\n",
      "트루케어 판테놀 10 수분 스킨\n",
      "주변에서 사용후 얼굴 건조함이 사라졌다고해서 저도 구매했어요 촉촉함이 오래가서 좋아요\n",
      "5 5\n",
      "트루케어 판테놀 10 수분 스킨\n",
      "항상 쓰고 있어요 피부에 잘 맞고 깔끔해요\n",
      "next 1\n",
      "5 5\n",
      "트루케어 판테놀 10 수분 스킨\n",
      "피부에 홍조있어서 구매했어요. 판테놀때문인지 진정되는 기분도 있어요ㅎ 한번 두번 하면 촉촉부들부들 피부되요~\n",
      "5 5\n",
      "트루케어 판테놀 10 수분 스킨\n",
      "민감성, 건성피부인 저는 두번, 세번 발라준답니다! 닦토로 쓰다가 요즘 너무 건조해서 듬뿍듬뿍 바르는중이에요! 저녁에는 스킨팩으로 사용해도 좋아요 ^^ 용량도 커서 더 좋구요 !!\n",
      "4 4\n",
      "트루케어 판테놀 10 수분 스킨\n",
      "스킨 자극 없이 좋아요 예민한 피부에도 잘 맞아요\n",
      "5 5\n",
      "트루케어 판테놀 10 수분 스킨\n",
      "트루케어는 처음써보는데 순하기도하고 약간 점성이잇어 촉촉하네요 바를때. 블루베리만 썻엇는대 슈퍼푸드 요거도 써보고 괜찮으면 재구매해볼렵니다\n",
      "4 4\n",
      "트루케어 판테놀 10 수분 스킨\n",
      "판테놀이라는 성분때문에 구매했는데~ 아주 촉촉한건 모르겠고 ,바람불기시작해서 속당김 느껴질때 쓰면 괜찮은거 같아요\n",
      "5 5\n",
      "트루케어 판테놀 10 수분 스킨\n",
      "눈밑에만 살짝씩 발라주고있는데 이뻐요 안바른거랑 바른거랑 다르니까 계속 사용하게되요\n",
      "5 5\n",
      "트루케어 판테놀 10 수분 스킨\n",
      "이번에 할인해서 잘 구매했어요. 앞으로도 할인 많이해주세요\n",
      "3 3\n",
      "트루케어 판테놀 10 수분 스킨\n",
      "트러블성 피부인데 판테놀도 부가적 효과를 준다고 해서 써 보려구요\n",
      "5 5\n",
      "트루케어 판테놀 10 수분 스킨\n",
      "용량이 커서 죠아용 히히 사계절 내내 씁니자ㅎㅎ\n",
      "5 5\n",
      "트루케어 판테놀 10 수분 스킨\n",
      "예민성 피부라 이것만 쓰는데 순하고 좋아요 ㅎㅎ\n",
      "next 2\n",
      "2 2\n",
      "트루케어 판테놀 10 수분 스킨\n",
      "ㅁᆢ그냥저냥쓸만핫니다 좋아요 .촉촉촉하니좋아요\n",
      "5 5\n",
      "트루케어 판테놀 10 수분 스킨\n",
      "당김없이 촉촉해서 건성피부에 좋아요.\n",
      "5 5\n",
      "트루케어 판테놀 10 수분 스킨\n",
      "처음 써 봤는데 피부에 부담가지 않아 좋습니다.\n",
      "5 5\n",
      "트루케어 판테놀 10 수분 스킨\n",
      "진짜 심한 트러블 성 과민성 피부라 스킨 사는 데도 고민을 많이 했어요. 판테놀 성분이 들어가 겨울 스킨으로 괜찮고 무엇보다 트러블이 없었어요. 처음에는 닦아주고 두 세번 레이어링 해주고 있어요. 트루케어라인 안써보신 분들은 꼭 사용해보시길 바랍니다.\n",
      "5 5\n",
      "트루케어 판테놀 10 수분 스킨\n",
      "가격 저렴 사용 후 촉촉해짐 깔끔한 디자인\n",
      "1 1\n",
      "트루케어 판테놀 10 수분 스킨\n",
      "겨울엔 수부지도 쓰기좋음~~~~~~~~~\n",
      "4 4\n",
      "트루케어 판테놀 10 수분 스킨\n",
      "한 번 써보고 좋은 것 같아 본품을 구입했습니다. 우선 넉넉한 용량에 만족합니다. 가벼운 발림성이지만 좋은 성분이 많아 민감한 제 피부에 레이어링 할 때도 마음이 놓이네요. 가장 많이 쓰는 용도로는 메이크업 세안 후 잔여물을 닦는데 쓰고 있는데요. 닦으면서도 영양을 주는 느낌입니다.^^\n",
      "5 5\n",
      "트루케어 판테놀 10 수분 스킨\n",
      "촉촉하고 개운함. 촉촉하고 개운함.\n",
      "5 5\n",
      "트루케어 판테놀 10 수분 스킨\n",
      "트트박스에들어있던판테놀10수분스킨! 한번사용해보고팠는데샘플이들어있더라구요 글서당장써봤죠 향은첨엔아침햇살(?)이라는음료수향이났구요 약간달콤한쌀막걸리냄새ㅋㅋ 여튼그렇게진하지는않아요 사용하는데는아무문제없구요 전청보리토너로토닦을하기때문에 이아이는손에짜서바르고한번더발라줘요 워낙속건조가심해서기초를잘발라야하거든요ㅠㅠ 스킨보다시피아티쵸크인텐스스킨쓰고있었는데 이거보다판테놀수분스킨이더좋은거같아요~ 트루케어라인은할인이없어아쉬워요 하지만전트트박스구매자여서할인받아구매했지요^^ 이런거죠아요 다음트트박스도기다리고있겠습니당 떨어지기전에미리구매해둘거예요ㅎㅎㅎ\n",
      "4 4\n",
      "트루케어 판테놀 10 수분 스킨\n",
      "3,4스킨을 하는 편인데 이 스킨이 제일 잘맞아서 정착했어요. 촉촉하고 진정도되고 추천입니다.\n",
      "next 3\n",
      "4 4\n",
      "트루케어 판테놀 10 수분 스킨\n",
      "음 그냥 무난하게 쓰고 있어요. 화장솜에 묻혀서 팩으로 씁니다.\n",
      "5 5\n",
      "트루케어 판테놀 10 수분 스킨\n",
      "이니스프리 트루 케어 판테놀 10 수분 스킨 굿\n",
      "3 3\n",
      "트루케어 판테놀 10 수분 스킨\n",
      "스킨 용량도 좋네요 닦토로 쓰기에 좋아요\n",
      "5 5\n",
      "트루케어 판테놀 10 수분 스킨\n",
      "속건조 잡는 일등 스킨 ! 스킨팩을 해주면 확실히 달라집니다. 밤에느 닦아내는 용으로 사용하고, 아침에는 스킨팩으로 활용하면 좋더라구요 반만쓰는 화장솜 / 5겹 화장솜과 잘 맞았습니다.\n",
      "5 5\n",
      "트루케어 판테놀 10 수분 스킨\n",
      "제품도 순하고 사용감도 촉촉해요~^^\n",
      "5 5\n",
      "트루케어 판테놀 10 수분 스킨\n",
      "판테놀 스킨만 발라도 수분감을 느낄수있고 민감한 피부에 딱 좋아요 스킨팩으로도 사용합니다!\n",
      "5 5\n",
      "트루케어 판테놀 10 수분 스킨\n",
      "토너에 알콜 성분이 있어서 따가울 때가 있는데 이 제품으로 사용하면 따갑지 않고 순해서 좋아요\n",
      "5 5\n",
      "트루케어 판테놀 10 수분 스킨\n",
      "순할것 같아서 구매했어요. 아직 사용전인데 이니스프리 스킨은 여러개 사용해봤는데 안좋은게 한번도 없었어요. 그래서 이제품 설명보고 두개나 주문했는데 잘써볼께요\n",
      "5 5\n",
      "트루케어 판테놀 10 수분 스킨\n",
      "여드름 피부에 화장품에 예민한 피부입니다. 트루케어 전제품 사용하고 있습니다. 여드름 생리전후 빼고 안나요 너무 좋아요\n",
      "4 4\n",
      "트루케어 판테놀 10 수분 스킨\n",
      "가격대 부담 없음 사용 후 피부결 정돈됨 마무리감이 촉촉\n",
      "next 4\n",
      "4 4\n",
      "트루케어 판테놀 10 수분 스킨\n",
      "살짝 오일리하면서도 촉촉한 느낌이에요 막을 씌우듯 수분이 날아가지 않게 하면서 수분공급을 해주네요 무향 무자극이라 트러블 전혀 없고 발림흡수감도 좋네요\n",
      "3 3\n",
      "트루케어 판테놀 10 수분 스킨\n",
      "스킨 좋아요 이 라인 스킨은 처음인데 적당히 좋아요 겨울에 닦토로 쓰기 좋은듯\n",
      "5 5\n",
      "트루케어 판테놀 10 수분 스킨\n",
      "이니스프리 트루 케어 판테놀 10 수분 굿\n",
      "5 5\n",
      "트루케어 판테놀 10 수분 스킨\n",
      "홍조가 진짜 심한데 이걸로 스킨팩하면 많이 가라 앉아요 촉촉하기도 하고 화장도 잘먹어요 진짜 가격이 비싸지만 계속 쓰고싶은템\n",
      "5 5\n",
      "트루케어 판테놀 10 수분 스킨\n",
      "건성인 제게 꼭 필요한 제품이에요. 매일 스킨과 함께 사용합니다!!!\n",
      "5 5\n",
      "트루케어 판테놀 10 수분 스킨\n",
      "처음 출시할 때부터 궁금해서 써보고 싶었는데, 온라인 제품이라 오프라인을 주로 이용하는 저한텐 접할 기회가 많이 없었는데, 온라인에서 주문할게 생겨서 같이 주문해봤어요! 써보니까 정말 촉촉해요 특히 스킨팩할때 속보습이 되서 정말 좋았어요 다가오는 겨울템과 지금 환절기템으로 애용할 스킨이에요\n",
      "5 5\n",
      "트루케어 판테놀 10 수분 스킨\n",
      "건성+민감성에 찰떡인 제품입니다:) 1. 저자극, 착한성분- 일단 성분이 착해서 믿고 쓸수 있어요! 스킨 바를때 따갑거나 뭔가 자극적인 제품은 느낌이 확 오던데, 요건 자극도 전혀 없고 트러블도 없었어요. 2. 속보습- 겉으로 번질거리는 무거운 스킨이 아니고 속을 채워주는 느낌이라 사계절 내내 깔끔하게 사용하기 좋아요. 3. 피부결 정돈- 트루케어라인은 피부결이 거칠때 사용하면 효과가 확 나타나는 것 같아요! 피부결이 보들보들해짐!!!! 4. 스킨팩 대용- 워낙 자극이 없다보니 스킨팩으로 오래 붙이고 있어도 트러블이 1도 없었어요!! 5. 무향- 갠적으로 향에 민감해서 ㅠㅠ 너~무 좋은 향이 아니라면 그냥 향료 빼고 향 없는걸 선호해요. 트루케어라인은 향이 없어 좋아요!\n",
      "5 5\n",
      "트루케어 판테놀 10 수분 스킨\n",
      "한번만 바르면 아쉽구요 세번 정도 발라줘요. 그럼 하루종일 건조하지 않고 촉촉해요!\n",
      "3 3\n",
      "트루케어 판테놀 10 수분 스킨\n",
      "빠른배송에감사드립니다 좋네요 잘쓸게요\n",
      "3 3\n",
      "트루케어 판테놀 10 수분 스킨\n",
      "스킨 꾸준히 사용 중이에요 여러겹 바르면 팩 되고 좋아요\n",
      "5 5\n",
      "트루케어 판테놀 10 수분 스킨\n",
      "여드름 압출하고 밤에 바르고자면 아침에 빨갛게 자극된 부분들이 다 가라앉아있어요.\n",
      "5 5\n",
      "트루케어 판테놀 10 수분 스킨\n",
      "인생 스킨. 그격대비 이렇게 촉촉하고 순한 스킨은 못본것 같아요. 속까지 촉촉해지는 느낌.\n",
      "5 5\n",
      "트루케어 판테놀 10 수분 스킨\n",
      "촉촉하고 산뜻해서좋아요 끈적임이없어요\n",
      "5 5\n",
      "트루케어 판테놀 10 수분 스킨\n",
      "순하고 촉촉해요 트라이박스 써보고 맘에 들어서 본품 구입했어요\n",
      "5 5\n",
      "트루케어 판테놀 10 수분 스킨\n",
      "이니스프리 트루케어 판테놀 10 수분 스킨 좋아요\n",
      "3 3\n",
      "트루케어 판테놀 10 수분 스킨\n",
      "판테놀 스킨 잘받았어요 생각보다는 용량이 작네요\n",
      "5 5\n",
      "트루케어 판테놀 10 수분 스킨\n",
      "저는 수부지에 홍조도 있고 여드름도 있는데 사실 화장 후 속건조가 있어서 어떻게 해야되나 하다가 이 제품을 알게되어서 속는셈 치고 써보자 했었는데 순하고 향도 없고 속건조도 나름 개선이 되더라구요 그래서 항상 재구매하고 있는 제품이구요 이 제품을 시킬 때마다 샘플이 동봉되어 오기때문에 써 볼 수 있어서도 좋습니다\n",
      "5 5\n",
      "트루케어 판테놀 10 수분 스킨\n",
      "착한성분에 촉촉하고 피부에 잘 스며들어요.\n",
      "4 4\n",
      "트루케어 판테놀 10 수분 스킨\n",
      "개인적으로 트루케어라인은 안좋은게 없는거같아요 ~^^ 하나둘 다 바꾸게 되네요 ㅎ 용량도 크고 촉촉하게 ~ 끈적임없이 좋아용 ㅎ\n",
      "5 5\n",
      "트루케어 판테놀 10 수분 스킨\n",
      "냉장고에 넣었다 화장솜으로 바르면 시원하고 수분 촉촉^^\n",
      "next 1\n",
      "4 4\n",
      "트루케어 판테놀 10 수분 스킨\n",
      "살짝 오일리하면서도 촉촉한 느낌이에요 막을 씌우듯 수분이 날아가지 않게 하면서 수분공급을 해주네요 무향 무자극이라 트러블 전혀 없고 발림흡수감도 좋네요\n",
      "3 3\n",
      "트루케어 판테놀 10 수분 스킨\n",
      "스킨 좋아요 이 라인 스킨은 처음인데 적당히 좋아요 겨울에 닦토로 쓰기 좋은듯\n",
      "5 5\n",
      "트루케어 판테놀 10 수분 스킨\n",
      "이니스프리 트루 케어 판테놀 10 수분 굿\n",
      "5 5\n",
      "트루케어 판테놀 10 수분 스킨\n",
      "홍조가 진짜 심한데 이걸로 스킨팩하면 많이 가라 앉아요 촉촉하기도 하고 화장도 잘먹어요 진짜 가격이 비싸지만 계속 쓰고싶은템\n",
      "5 5\n",
      "트루케어 판테놀 10 수분 스킨\n",
      "건성인 제게 꼭 필요한 제품이에요. 매일 스킨과 함께 사용합니다!!!\n",
      "5 5\n",
      "트루케어 판테놀 10 수분 스킨\n",
      "처음 출시할 때부터 궁금해서 써보고 싶었는데, 온라인 제품이라 오프라인을 주로 이용하는 저한텐 접할 기회가 많이 없었는데, 온라인에서 주문할게 생겨서 같이 주문해봤어요! 써보니까 정말 촉촉해요 특히 스킨팩할때 속보습이 되서 정말 좋았어요 다가오는 겨울템과 지금 환절기템으로 애용할 스킨이에요\n",
      "5 5\n",
      "트루케어 판테놀 10 수분 스킨\n",
      "건성+민감성에 찰떡인 제품입니다:) 1. 저자극, 착한성분- 일단 성분이 착해서 믿고 쓸수 있어요! 스킨 바를때 따갑거나 뭔가 자극적인 제품은 느낌이 확 오던데, 요건 자극도 전혀 없고 트러블도 없었어요. 2. 속보습- 겉으로 번질거리는 무거운 스킨이 아니고 속을 채워주는 느낌이라 사계절 내내 깔끔하게 사용하기 좋아요. 3. 피부결 정돈- 트루케어라인은 피부결이 거칠때 사용하면 효과가 확 나타나는 것 같아요! 피부결이 보들보들해짐!!!! 4. 스킨팩 대용- 워낙 자극이 없다보니 스킨팩으로 오래 붙이고 있어도 트러블이 1도 없었어요!! 5. 무향- 갠적으로 향에 민감해서 ㅠㅠ 너~무 좋은 향이 아니라면 그냥 향료 빼고 향 없는걸 선호해요. 트루케어라인은 향이 없어 좋아요!\n",
      "5 5\n",
      "트루케어 판테놀 10 수분 스킨\n",
      "한번만 바르면 아쉽구요 세번 정도 발라줘요. 그럼 하루종일 건조하지 않고 촉촉해요!\n",
      "3 3\n",
      "트루케어 판테놀 10 수분 스킨\n",
      "빠른배송에감사드립니다 좋네요 잘쓸게요\n",
      "3 3\n",
      "트루케어 판테놀 10 수분 스킨\n",
      "스킨 꾸준히 사용 중이에요 여러겹 바르면 팩 되고 좋아요\n",
      "next 2\n"
     ]
    },
    {
     "ename": "KeyboardInterrupt",
     "evalue": "",
     "output_type": "error",
     "traceback": [
      "\u001b[1;31m---------------------------------------------------------------------------\u001b[0m",
      "\u001b[1;31mTypeError\u001b[0m                                 Traceback (most recent call last)",
      "\u001b[1;32m~\\Anaconda3\\lib\\site-packages\\urllib3\\connectionpool.py\u001b[0m in \u001b[0;36m_make_request\u001b[1;34m(self, conn, method, url, timeout, chunked, **httplib_request_kw)\u001b[0m\n\u001b[0;32m    376\u001b[0m             \u001b[1;32mtry\u001b[0m\u001b[1;33m:\u001b[0m  \u001b[1;31m# Python 2.7, use buffering of HTTP responses\u001b[0m\u001b[1;33m\u001b[0m\u001b[1;33m\u001b[0m\u001b[0m\n\u001b[1;32m--> 377\u001b[1;33m                 \u001b[0mhttplib_response\u001b[0m \u001b[1;33m=\u001b[0m \u001b[0mconn\u001b[0m\u001b[1;33m.\u001b[0m\u001b[0mgetresponse\u001b[0m\u001b[1;33m(\u001b[0m\u001b[0mbuffering\u001b[0m\u001b[1;33m=\u001b[0m\u001b[1;32mTrue\u001b[0m\u001b[1;33m)\u001b[0m\u001b[1;33m\u001b[0m\u001b[1;33m\u001b[0m\u001b[0m\n\u001b[0m\u001b[0;32m    378\u001b[0m             \u001b[1;32mexcept\u001b[0m \u001b[0mTypeError\u001b[0m\u001b[1;33m:\u001b[0m  \u001b[1;31m# Python 3\u001b[0m\u001b[1;33m\u001b[0m\u001b[1;33m\u001b[0m\u001b[0m\n",
      "\u001b[1;31mTypeError\u001b[0m: getresponse() got an unexpected keyword argument 'buffering'",
      "\nDuring handling of the above exception, another exception occurred:\n",
      "\u001b[1;31mKeyboardInterrupt\u001b[0m                         Traceback (most recent call last)",
      "\u001b[1;32m<ipython-input-92-0e604e75f328>\u001b[0m in \u001b[0;36m<module>\u001b[1;34m\u001b[0m\n\u001b[0;32m     15\u001b[0m         \u001b[0mreview_num\u001b[0m \u001b[1;33m=\u001b[0m \u001b[0mdriver\u001b[0m\u001b[1;33m.\u001b[0m\u001b[0mfind_elements_by_css_selector\u001b[0m\u001b[1;33m(\u001b[0m\u001b[1;34m'#reviewList > ul > li'\u001b[0m\u001b[1;33m)\u001b[0m\u001b[1;33m\u001b[0m\u001b[1;33m\u001b[0m\u001b[0m\n\u001b[0;32m     16\u001b[0m         \u001b[1;32mfor\u001b[0m \u001b[0mj\u001b[0m \u001b[1;32min\u001b[0m \u001b[0mrange\u001b[0m\u001b[1;33m(\u001b[0m\u001b[0mlen\u001b[0m\u001b[1;33m(\u001b[0m\u001b[0mreview_num\u001b[0m\u001b[1;33m)\u001b[0m\u001b[1;33m+\u001b[0m\u001b[1;36m1\u001b[0m\u001b[1;33m)\u001b[0m\u001b[1;33m:\u001b[0m\u001b[1;33m\u001b[0m\u001b[1;33m\u001b[0m\u001b[0m\n\u001b[1;32m---> 17\u001b[1;33m             \u001b[0mreview\u001b[0m \u001b[1;33m=\u001b[0m \u001b[0mdriver\u001b[0m\u001b[1;33m.\u001b[0m\u001b[0mfind_elements_by_css_selector\u001b[0m\u001b[1;33m(\u001b[0m\u001b[1;34m'#reviewList > ul > li:nth-child(%d) > button > div.reviewConTxt > p'\u001b[0m \u001b[1;33m%\u001b[0m \u001b[0mj\u001b[0m\u001b[1;33m)\u001b[0m\u001b[1;33m\u001b[0m\u001b[1;33m\u001b[0m\u001b[0m\n\u001b[0m\u001b[0;32m     18\u001b[0m             \u001b[1;32mfor\u001b[0m \u001b[0mone\u001b[0m \u001b[1;32min\u001b[0m \u001b[0mreview\u001b[0m\u001b[1;33m:\u001b[0m\u001b[1;33m\u001b[0m\u001b[1;33m\u001b[0m\u001b[0m\n\u001b[0;32m     19\u001b[0m                 \u001b[0mprint\u001b[0m\u001b[1;33m(\u001b[0m\u001b[0mone\u001b[0m\u001b[1;33m.\u001b[0m\u001b[0mtext\u001b[0m\u001b[1;33m)\u001b[0m\u001b[1;33m\u001b[0m\u001b[1;33m\u001b[0m\u001b[0m\n",
      "\u001b[1;32m~\\Anaconda3\\lib\\site-packages\\selenium\\webdriver\\remote\\webdriver.py\u001b[0m in \u001b[0;36mfind_elements_by_css_selector\u001b[1;34m(self, css_selector)\u001b[0m\n\u001b[0;32m    612\u001b[0m             \u001b[0melements\u001b[0m \u001b[1;33m=\u001b[0m \u001b[0mdriver\u001b[0m\u001b[1;33m.\u001b[0m\u001b[0mfind_elements_by_css_selector\u001b[0m\u001b[1;33m(\u001b[0m\u001b[1;34m'.foo'\u001b[0m\u001b[1;33m)\u001b[0m\u001b[1;33m\u001b[0m\u001b[1;33m\u001b[0m\u001b[0m\n\u001b[0;32m    613\u001b[0m         \"\"\"\n\u001b[1;32m--> 614\u001b[1;33m         \u001b[1;32mreturn\u001b[0m \u001b[0mself\u001b[0m\u001b[1;33m.\u001b[0m\u001b[0mfind_elements\u001b[0m\u001b[1;33m(\u001b[0m\u001b[0mby\u001b[0m\u001b[1;33m=\u001b[0m\u001b[0mBy\u001b[0m\u001b[1;33m.\u001b[0m\u001b[0mCSS_SELECTOR\u001b[0m\u001b[1;33m,\u001b[0m \u001b[0mvalue\u001b[0m\u001b[1;33m=\u001b[0m\u001b[0mcss_selector\u001b[0m\u001b[1;33m)\u001b[0m\u001b[1;33m\u001b[0m\u001b[1;33m\u001b[0m\u001b[0m\n\u001b[0m\u001b[0;32m    615\u001b[0m \u001b[1;33m\u001b[0m\u001b[0m\n\u001b[0;32m    616\u001b[0m     \u001b[1;32mdef\u001b[0m \u001b[0mexecute_script\u001b[0m\u001b[1;33m(\u001b[0m\u001b[0mself\u001b[0m\u001b[1;33m,\u001b[0m \u001b[0mscript\u001b[0m\u001b[1;33m,\u001b[0m \u001b[1;33m*\u001b[0m\u001b[0margs\u001b[0m\u001b[1;33m)\u001b[0m\u001b[1;33m:\u001b[0m\u001b[1;33m\u001b[0m\u001b[1;33m\u001b[0m\u001b[0m\n",
      "\u001b[1;32m~\\Anaconda3\\lib\\site-packages\\selenium\\webdriver\\remote\\webdriver.py\u001b[0m in \u001b[0;36mfind_elements\u001b[1;34m(self, by, value)\u001b[0m\n\u001b[0;32m   1005\u001b[0m         return self.execute(Command.FIND_ELEMENTS, {\n\u001b[0;32m   1006\u001b[0m             \u001b[1;34m'using'\u001b[0m\u001b[1;33m:\u001b[0m \u001b[0mby\u001b[0m\u001b[1;33m,\u001b[0m\u001b[1;33m\u001b[0m\u001b[1;33m\u001b[0m\u001b[0m\n\u001b[1;32m-> 1007\u001b[1;33m             'value': value})['value'] or []\n\u001b[0m\u001b[0;32m   1008\u001b[0m \u001b[1;33m\u001b[0m\u001b[0m\n\u001b[0;32m   1009\u001b[0m     \u001b[1;33m@\u001b[0m\u001b[0mproperty\u001b[0m\u001b[1;33m\u001b[0m\u001b[1;33m\u001b[0m\u001b[0m\n",
      "\u001b[1;32m~\\Anaconda3\\lib\\site-packages\\selenium\\webdriver\\remote\\webdriver.py\u001b[0m in \u001b[0;36mexecute\u001b[1;34m(self, driver_command, params)\u001b[0m\n\u001b[0;32m    317\u001b[0m \u001b[1;33m\u001b[0m\u001b[0m\n\u001b[0;32m    318\u001b[0m         \u001b[0mparams\u001b[0m \u001b[1;33m=\u001b[0m \u001b[0mself\u001b[0m\u001b[1;33m.\u001b[0m\u001b[0m_wrap_value\u001b[0m\u001b[1;33m(\u001b[0m\u001b[0mparams\u001b[0m\u001b[1;33m)\u001b[0m\u001b[1;33m\u001b[0m\u001b[1;33m\u001b[0m\u001b[0m\n\u001b[1;32m--> 319\u001b[1;33m         \u001b[0mresponse\u001b[0m \u001b[1;33m=\u001b[0m \u001b[0mself\u001b[0m\u001b[1;33m.\u001b[0m\u001b[0mcommand_executor\u001b[0m\u001b[1;33m.\u001b[0m\u001b[0mexecute\u001b[0m\u001b[1;33m(\u001b[0m\u001b[0mdriver_command\u001b[0m\u001b[1;33m,\u001b[0m \u001b[0mparams\u001b[0m\u001b[1;33m)\u001b[0m\u001b[1;33m\u001b[0m\u001b[1;33m\u001b[0m\u001b[0m\n\u001b[0m\u001b[0;32m    320\u001b[0m         \u001b[1;32mif\u001b[0m \u001b[0mresponse\u001b[0m\u001b[1;33m:\u001b[0m\u001b[1;33m\u001b[0m\u001b[1;33m\u001b[0m\u001b[0m\n\u001b[0;32m    321\u001b[0m             \u001b[0mself\u001b[0m\u001b[1;33m.\u001b[0m\u001b[0merror_handler\u001b[0m\u001b[1;33m.\u001b[0m\u001b[0mcheck_response\u001b[0m\u001b[1;33m(\u001b[0m\u001b[0mresponse\u001b[0m\u001b[1;33m)\u001b[0m\u001b[1;33m\u001b[0m\u001b[1;33m\u001b[0m\u001b[0m\n",
      "\u001b[1;32m~\\Anaconda3\\lib\\site-packages\\selenium\\webdriver\\remote\\remote_connection.py\u001b[0m in \u001b[0;36mexecute\u001b[1;34m(self, command, params)\u001b[0m\n\u001b[0;32m    372\u001b[0m         \u001b[0mdata\u001b[0m \u001b[1;33m=\u001b[0m \u001b[0mutils\u001b[0m\u001b[1;33m.\u001b[0m\u001b[0mdump_json\u001b[0m\u001b[1;33m(\u001b[0m\u001b[0mparams\u001b[0m\u001b[1;33m)\u001b[0m\u001b[1;33m\u001b[0m\u001b[1;33m\u001b[0m\u001b[0m\n\u001b[0;32m    373\u001b[0m         \u001b[0murl\u001b[0m \u001b[1;33m=\u001b[0m \u001b[1;34m'%s%s'\u001b[0m \u001b[1;33m%\u001b[0m \u001b[1;33m(\u001b[0m\u001b[0mself\u001b[0m\u001b[1;33m.\u001b[0m\u001b[0m_url\u001b[0m\u001b[1;33m,\u001b[0m \u001b[0mpath\u001b[0m\u001b[1;33m)\u001b[0m\u001b[1;33m\u001b[0m\u001b[1;33m\u001b[0m\u001b[0m\n\u001b[1;32m--> 374\u001b[1;33m         \u001b[1;32mreturn\u001b[0m \u001b[0mself\u001b[0m\u001b[1;33m.\u001b[0m\u001b[0m_request\u001b[0m\u001b[1;33m(\u001b[0m\u001b[0mcommand_info\u001b[0m\u001b[1;33m[\u001b[0m\u001b[1;36m0\u001b[0m\u001b[1;33m]\u001b[0m\u001b[1;33m,\u001b[0m \u001b[0murl\u001b[0m\u001b[1;33m,\u001b[0m \u001b[0mbody\u001b[0m\u001b[1;33m=\u001b[0m\u001b[0mdata\u001b[0m\u001b[1;33m)\u001b[0m\u001b[1;33m\u001b[0m\u001b[1;33m\u001b[0m\u001b[0m\n\u001b[0m\u001b[0;32m    375\u001b[0m \u001b[1;33m\u001b[0m\u001b[0m\n\u001b[0;32m    376\u001b[0m     \u001b[1;32mdef\u001b[0m \u001b[0m_request\u001b[0m\u001b[1;33m(\u001b[0m\u001b[0mself\u001b[0m\u001b[1;33m,\u001b[0m \u001b[0mmethod\u001b[0m\u001b[1;33m,\u001b[0m \u001b[0murl\u001b[0m\u001b[1;33m,\u001b[0m \u001b[0mbody\u001b[0m\u001b[1;33m=\u001b[0m\u001b[1;32mNone\u001b[0m\u001b[1;33m)\u001b[0m\u001b[1;33m:\u001b[0m\u001b[1;33m\u001b[0m\u001b[1;33m\u001b[0m\u001b[0m\n",
      "\u001b[1;32m~\\Anaconda3\\lib\\site-packages\\selenium\\webdriver\\remote\\remote_connection.py\u001b[0m in \u001b[0;36m_request\u001b[1;34m(self, method, url, body)\u001b[0m\n\u001b[0;32m    395\u001b[0m \u001b[1;33m\u001b[0m\u001b[0m\n\u001b[0;32m    396\u001b[0m         \u001b[1;32mif\u001b[0m \u001b[0mself\u001b[0m\u001b[1;33m.\u001b[0m\u001b[0mkeep_alive\u001b[0m\u001b[1;33m:\u001b[0m\u001b[1;33m\u001b[0m\u001b[1;33m\u001b[0m\u001b[0m\n\u001b[1;32m--> 397\u001b[1;33m             \u001b[0mresp\u001b[0m \u001b[1;33m=\u001b[0m \u001b[0mself\u001b[0m\u001b[1;33m.\u001b[0m\u001b[0m_conn\u001b[0m\u001b[1;33m.\u001b[0m\u001b[0mrequest\u001b[0m\u001b[1;33m(\u001b[0m\u001b[0mmethod\u001b[0m\u001b[1;33m,\u001b[0m \u001b[0murl\u001b[0m\u001b[1;33m,\u001b[0m \u001b[0mbody\u001b[0m\u001b[1;33m=\u001b[0m\u001b[0mbody\u001b[0m\u001b[1;33m,\u001b[0m \u001b[0mheaders\u001b[0m\u001b[1;33m=\u001b[0m\u001b[0mheaders\u001b[0m\u001b[1;33m)\u001b[0m\u001b[1;33m\u001b[0m\u001b[1;33m\u001b[0m\u001b[0m\n\u001b[0m\u001b[0;32m    398\u001b[0m \u001b[1;33m\u001b[0m\u001b[0m\n\u001b[0;32m    399\u001b[0m             \u001b[0mstatuscode\u001b[0m \u001b[1;33m=\u001b[0m \u001b[0mresp\u001b[0m\u001b[1;33m.\u001b[0m\u001b[0mstatus\u001b[0m\u001b[1;33m\u001b[0m\u001b[1;33m\u001b[0m\u001b[0m\n",
      "\u001b[1;32m~\\Anaconda3\\lib\\site-packages\\urllib3\\request.py\u001b[0m in \u001b[0;36mrequest\u001b[1;34m(self, method, url, fields, headers, **urlopen_kw)\u001b[0m\n\u001b[0;32m     70\u001b[0m             return self.request_encode_body(method, url, fields=fields,\n\u001b[0;32m     71\u001b[0m                                             \u001b[0mheaders\u001b[0m\u001b[1;33m=\u001b[0m\u001b[0mheaders\u001b[0m\u001b[1;33m,\u001b[0m\u001b[1;33m\u001b[0m\u001b[1;33m\u001b[0m\u001b[0m\n\u001b[1;32m---> 72\u001b[1;33m                                             **urlopen_kw)\n\u001b[0m\u001b[0;32m     73\u001b[0m \u001b[1;33m\u001b[0m\u001b[0m\n\u001b[0;32m     74\u001b[0m     def request_encode_url(self, method, url, fields=None, headers=None,\n",
      "\u001b[1;32m~\\Anaconda3\\lib\\site-packages\\urllib3\\request.py\u001b[0m in \u001b[0;36mrequest_encode_body\u001b[1;34m(self, method, url, fields, headers, encode_multipart, multipart_boundary, **urlopen_kw)\u001b[0m\n\u001b[0;32m    148\u001b[0m         \u001b[0mextra_kw\u001b[0m\u001b[1;33m.\u001b[0m\u001b[0mupdate\u001b[0m\u001b[1;33m(\u001b[0m\u001b[0murlopen_kw\u001b[0m\u001b[1;33m)\u001b[0m\u001b[1;33m\u001b[0m\u001b[1;33m\u001b[0m\u001b[0m\n\u001b[0;32m    149\u001b[0m \u001b[1;33m\u001b[0m\u001b[0m\n\u001b[1;32m--> 150\u001b[1;33m         \u001b[1;32mreturn\u001b[0m \u001b[0mself\u001b[0m\u001b[1;33m.\u001b[0m\u001b[0murlopen\u001b[0m\u001b[1;33m(\u001b[0m\u001b[0mmethod\u001b[0m\u001b[1;33m,\u001b[0m \u001b[0murl\u001b[0m\u001b[1;33m,\u001b[0m \u001b[1;33m**\u001b[0m\u001b[0mextra_kw\u001b[0m\u001b[1;33m)\u001b[0m\u001b[1;33m\u001b[0m\u001b[1;33m\u001b[0m\u001b[0m\n\u001b[0m",
      "\u001b[1;32m~\\Anaconda3\\lib\\site-packages\\urllib3\\poolmanager.py\u001b[0m in \u001b[0;36murlopen\u001b[1;34m(self, method, url, redirect, **kw)\u001b[0m\n\u001b[0;32m    322\u001b[0m             \u001b[0mresponse\u001b[0m \u001b[1;33m=\u001b[0m \u001b[0mconn\u001b[0m\u001b[1;33m.\u001b[0m\u001b[0murlopen\u001b[0m\u001b[1;33m(\u001b[0m\u001b[0mmethod\u001b[0m\u001b[1;33m,\u001b[0m \u001b[0murl\u001b[0m\u001b[1;33m,\u001b[0m \u001b[1;33m**\u001b[0m\u001b[0mkw\u001b[0m\u001b[1;33m)\u001b[0m\u001b[1;33m\u001b[0m\u001b[1;33m\u001b[0m\u001b[0m\n\u001b[0;32m    323\u001b[0m         \u001b[1;32melse\u001b[0m\u001b[1;33m:\u001b[0m\u001b[1;33m\u001b[0m\u001b[1;33m\u001b[0m\u001b[0m\n\u001b[1;32m--> 324\u001b[1;33m             \u001b[0mresponse\u001b[0m \u001b[1;33m=\u001b[0m \u001b[0mconn\u001b[0m\u001b[1;33m.\u001b[0m\u001b[0murlopen\u001b[0m\u001b[1;33m(\u001b[0m\u001b[0mmethod\u001b[0m\u001b[1;33m,\u001b[0m \u001b[0mu\u001b[0m\u001b[1;33m.\u001b[0m\u001b[0mrequest_uri\u001b[0m\u001b[1;33m,\u001b[0m \u001b[1;33m**\u001b[0m\u001b[0mkw\u001b[0m\u001b[1;33m)\u001b[0m\u001b[1;33m\u001b[0m\u001b[1;33m\u001b[0m\u001b[0m\n\u001b[0m\u001b[0;32m    325\u001b[0m \u001b[1;33m\u001b[0m\u001b[0m\n\u001b[0;32m    326\u001b[0m         \u001b[0mredirect_location\u001b[0m \u001b[1;33m=\u001b[0m \u001b[0mredirect\u001b[0m \u001b[1;32mand\u001b[0m \u001b[0mresponse\u001b[0m\u001b[1;33m.\u001b[0m\u001b[0mget_redirect_location\u001b[0m\u001b[1;33m(\u001b[0m\u001b[1;33m)\u001b[0m\u001b[1;33m\u001b[0m\u001b[1;33m\u001b[0m\u001b[0m\n",
      "\u001b[1;32m~\\Anaconda3\\lib\\site-packages\\urllib3\\connectionpool.py\u001b[0m in \u001b[0;36murlopen\u001b[1;34m(self, method, url, body, headers, retries, redirect, assert_same_host, timeout, pool_timeout, release_conn, chunked, body_pos, **response_kw)\u001b[0m\n\u001b[0;32m    598\u001b[0m                                                   \u001b[0mtimeout\u001b[0m\u001b[1;33m=\u001b[0m\u001b[0mtimeout_obj\u001b[0m\u001b[1;33m,\u001b[0m\u001b[1;33m\u001b[0m\u001b[1;33m\u001b[0m\u001b[0m\n\u001b[0;32m    599\u001b[0m                                                   \u001b[0mbody\u001b[0m\u001b[1;33m=\u001b[0m\u001b[0mbody\u001b[0m\u001b[1;33m,\u001b[0m \u001b[0mheaders\u001b[0m\u001b[1;33m=\u001b[0m\u001b[0mheaders\u001b[0m\u001b[1;33m,\u001b[0m\u001b[1;33m\u001b[0m\u001b[1;33m\u001b[0m\u001b[0m\n\u001b[1;32m--> 600\u001b[1;33m                                                   chunked=chunked)\n\u001b[0m\u001b[0;32m    601\u001b[0m \u001b[1;33m\u001b[0m\u001b[0m\n\u001b[0;32m    602\u001b[0m             \u001b[1;31m# If we're going to release the connection in ``finally:``, then\u001b[0m\u001b[1;33m\u001b[0m\u001b[1;33m\u001b[0m\u001b[1;33m\u001b[0m\u001b[0m\n",
      "\u001b[1;32m~\\Anaconda3\\lib\\site-packages\\urllib3\\connectionpool.py\u001b[0m in \u001b[0;36m_make_request\u001b[1;34m(self, conn, method, url, timeout, chunked, **httplib_request_kw)\u001b[0m\n\u001b[0;32m    378\u001b[0m             \u001b[1;32mexcept\u001b[0m \u001b[0mTypeError\u001b[0m\u001b[1;33m:\u001b[0m  \u001b[1;31m# Python 3\u001b[0m\u001b[1;33m\u001b[0m\u001b[1;33m\u001b[0m\u001b[0m\n\u001b[0;32m    379\u001b[0m                 \u001b[1;32mtry\u001b[0m\u001b[1;33m:\u001b[0m\u001b[1;33m\u001b[0m\u001b[1;33m\u001b[0m\u001b[0m\n\u001b[1;32m--> 380\u001b[1;33m                     \u001b[0mhttplib_response\u001b[0m \u001b[1;33m=\u001b[0m \u001b[0mconn\u001b[0m\u001b[1;33m.\u001b[0m\u001b[0mgetresponse\u001b[0m\u001b[1;33m(\u001b[0m\u001b[1;33m)\u001b[0m\u001b[1;33m\u001b[0m\u001b[1;33m\u001b[0m\u001b[0m\n\u001b[0m\u001b[0;32m    381\u001b[0m                 \u001b[1;32mexcept\u001b[0m \u001b[0mException\u001b[0m \u001b[1;32mas\u001b[0m \u001b[0me\u001b[0m\u001b[1;33m:\u001b[0m\u001b[1;33m\u001b[0m\u001b[1;33m\u001b[0m\u001b[0m\n\u001b[0;32m    382\u001b[0m                     \u001b[1;31m# Remove the TypeError from the exception chain in Python 3;\u001b[0m\u001b[1;33m\u001b[0m\u001b[1;33m\u001b[0m\u001b[1;33m\u001b[0m\u001b[0m\n",
      "\u001b[1;32m~\\Anaconda3\\lib\\http\\client.py\u001b[0m in \u001b[0;36mgetresponse\u001b[1;34m(self)\u001b[0m\n\u001b[0;32m   1334\u001b[0m         \u001b[1;32mtry\u001b[0m\u001b[1;33m:\u001b[0m\u001b[1;33m\u001b[0m\u001b[1;33m\u001b[0m\u001b[0m\n\u001b[0;32m   1335\u001b[0m             \u001b[1;32mtry\u001b[0m\u001b[1;33m:\u001b[0m\u001b[1;33m\u001b[0m\u001b[1;33m\u001b[0m\u001b[0m\n\u001b[1;32m-> 1336\u001b[1;33m                 \u001b[0mresponse\u001b[0m\u001b[1;33m.\u001b[0m\u001b[0mbegin\u001b[0m\u001b[1;33m(\u001b[0m\u001b[1;33m)\u001b[0m\u001b[1;33m\u001b[0m\u001b[1;33m\u001b[0m\u001b[0m\n\u001b[0m\u001b[0;32m   1337\u001b[0m             \u001b[1;32mexcept\u001b[0m \u001b[0mConnectionError\u001b[0m\u001b[1;33m:\u001b[0m\u001b[1;33m\u001b[0m\u001b[1;33m\u001b[0m\u001b[0m\n\u001b[0;32m   1338\u001b[0m                 \u001b[0mself\u001b[0m\u001b[1;33m.\u001b[0m\u001b[0mclose\u001b[0m\u001b[1;33m(\u001b[0m\u001b[1;33m)\u001b[0m\u001b[1;33m\u001b[0m\u001b[1;33m\u001b[0m\u001b[0m\n",
      "\u001b[1;32m~\\Anaconda3\\lib\\http\\client.py\u001b[0m in \u001b[0;36mbegin\u001b[1;34m(self)\u001b[0m\n\u001b[0;32m    304\u001b[0m         \u001b[1;31m# read until we get a non-100 response\u001b[0m\u001b[1;33m\u001b[0m\u001b[1;33m\u001b[0m\u001b[1;33m\u001b[0m\u001b[0m\n\u001b[0;32m    305\u001b[0m         \u001b[1;32mwhile\u001b[0m \u001b[1;32mTrue\u001b[0m\u001b[1;33m:\u001b[0m\u001b[1;33m\u001b[0m\u001b[1;33m\u001b[0m\u001b[0m\n\u001b[1;32m--> 306\u001b[1;33m             \u001b[0mversion\u001b[0m\u001b[1;33m,\u001b[0m \u001b[0mstatus\u001b[0m\u001b[1;33m,\u001b[0m \u001b[0mreason\u001b[0m \u001b[1;33m=\u001b[0m \u001b[0mself\u001b[0m\u001b[1;33m.\u001b[0m\u001b[0m_read_status\u001b[0m\u001b[1;33m(\u001b[0m\u001b[1;33m)\u001b[0m\u001b[1;33m\u001b[0m\u001b[1;33m\u001b[0m\u001b[0m\n\u001b[0m\u001b[0;32m    307\u001b[0m             \u001b[1;32mif\u001b[0m \u001b[0mstatus\u001b[0m \u001b[1;33m!=\u001b[0m \u001b[0mCONTINUE\u001b[0m\u001b[1;33m:\u001b[0m\u001b[1;33m\u001b[0m\u001b[1;33m\u001b[0m\u001b[0m\n\u001b[0;32m    308\u001b[0m                 \u001b[1;32mbreak\u001b[0m\u001b[1;33m\u001b[0m\u001b[1;33m\u001b[0m\u001b[0m\n",
      "\u001b[1;32m~\\Anaconda3\\lib\\http\\client.py\u001b[0m in \u001b[0;36m_read_status\u001b[1;34m(self)\u001b[0m\n\u001b[0;32m    265\u001b[0m \u001b[1;33m\u001b[0m\u001b[0m\n\u001b[0;32m    266\u001b[0m     \u001b[1;32mdef\u001b[0m \u001b[0m_read_status\u001b[0m\u001b[1;33m(\u001b[0m\u001b[0mself\u001b[0m\u001b[1;33m)\u001b[0m\u001b[1;33m:\u001b[0m\u001b[1;33m\u001b[0m\u001b[1;33m\u001b[0m\u001b[0m\n\u001b[1;32m--> 267\u001b[1;33m         \u001b[0mline\u001b[0m \u001b[1;33m=\u001b[0m \u001b[0mstr\u001b[0m\u001b[1;33m(\u001b[0m\u001b[0mself\u001b[0m\u001b[1;33m.\u001b[0m\u001b[0mfp\u001b[0m\u001b[1;33m.\u001b[0m\u001b[0mreadline\u001b[0m\u001b[1;33m(\u001b[0m\u001b[0m_MAXLINE\u001b[0m \u001b[1;33m+\u001b[0m \u001b[1;36m1\u001b[0m\u001b[1;33m)\u001b[0m\u001b[1;33m,\u001b[0m \u001b[1;34m\"iso-8859-1\"\u001b[0m\u001b[1;33m)\u001b[0m\u001b[1;33m\u001b[0m\u001b[1;33m\u001b[0m\u001b[0m\n\u001b[0m\u001b[0;32m    268\u001b[0m         \u001b[1;32mif\u001b[0m \u001b[0mlen\u001b[0m\u001b[1;33m(\u001b[0m\u001b[0mline\u001b[0m\u001b[1;33m)\u001b[0m \u001b[1;33m>\u001b[0m \u001b[0m_MAXLINE\u001b[0m\u001b[1;33m:\u001b[0m\u001b[1;33m\u001b[0m\u001b[1;33m\u001b[0m\u001b[0m\n\u001b[0;32m    269\u001b[0m             \u001b[1;32mraise\u001b[0m \u001b[0mLineTooLong\u001b[0m\u001b[1;33m(\u001b[0m\u001b[1;34m\"status line\"\u001b[0m\u001b[1;33m)\u001b[0m\u001b[1;33m\u001b[0m\u001b[1;33m\u001b[0m\u001b[0m\n",
      "\u001b[1;32m~\\Anaconda3\\lib\\socket.py\u001b[0m in \u001b[0;36mreadinto\u001b[1;34m(self, b)\u001b[0m\n\u001b[0;32m    587\u001b[0m         \u001b[1;32mwhile\u001b[0m \u001b[1;32mTrue\u001b[0m\u001b[1;33m:\u001b[0m\u001b[1;33m\u001b[0m\u001b[1;33m\u001b[0m\u001b[0m\n\u001b[0;32m    588\u001b[0m             \u001b[1;32mtry\u001b[0m\u001b[1;33m:\u001b[0m\u001b[1;33m\u001b[0m\u001b[1;33m\u001b[0m\u001b[0m\n\u001b[1;32m--> 589\u001b[1;33m                 \u001b[1;32mreturn\u001b[0m \u001b[0mself\u001b[0m\u001b[1;33m.\u001b[0m\u001b[0m_sock\u001b[0m\u001b[1;33m.\u001b[0m\u001b[0mrecv_into\u001b[0m\u001b[1;33m(\u001b[0m\u001b[0mb\u001b[0m\u001b[1;33m)\u001b[0m\u001b[1;33m\u001b[0m\u001b[1;33m\u001b[0m\u001b[0m\n\u001b[0m\u001b[0;32m    590\u001b[0m             \u001b[1;32mexcept\u001b[0m \u001b[0mtimeout\u001b[0m\u001b[1;33m:\u001b[0m\u001b[1;33m\u001b[0m\u001b[1;33m\u001b[0m\u001b[0m\n\u001b[0;32m    591\u001b[0m                 \u001b[0mself\u001b[0m\u001b[1;33m.\u001b[0m\u001b[0m_timeout_occurred\u001b[0m \u001b[1;33m=\u001b[0m \u001b[1;32mTrue\u001b[0m\u001b[1;33m\u001b[0m\u001b[1;33m\u001b[0m\u001b[0m\n",
      "\u001b[1;31mKeyboardInterrupt\u001b[0m: "
     ]
    }
   ],
   "source": [
    "x = 1\n",
    "while True:\n",
    "    driver.implicitly_wait(10)\n",
    "    for j in range(len(review_num)+1):\n",
    "        review = driver.find_elements_by_css_selector('#reviewList > ul > li:nth-child(%d) > button > div.reviewConTxt > p' % j)                                            \n",
    "        for one in review:\n",
    "            print(one.text)\n",
    "    for i in range(1,5):\n",
    "        if i == 1:\n",
    "            nxt_num = driver.find_element_by_css_selector('#reviewList > div > span:nth-child(%d) > a' %(i+1))                                                    \n",
    "        else :\n",
    "            nxt_num = driver.find_element_by_css_selector('#reviewList > div > span:nth-child(%d) > a' %(i+2))\n",
    "                                                        #reviewList > div > span:nth-child(4)\n",
    "        nxt_num.send_keys(Keys.ENTER)\n",
    "        print(\"next\", i)\n",
    "        review_num = driver.find_elements_by_css_selector('#reviewList > ul > li')    \n",
    "        for j in range(len(review_num)+1):\n",
    "            review = driver.find_elements_by_css_selector('#reviewList > ul > li:nth-child(%d) > button > div.reviewConTxt > p' % j)                                            \n",
    "            for one in review:\n",
    "                print(one.text)\n",
    "    driver.execute_script(\"javascript:goPage('%d');\" %(5*x+1))\n",
    "    x += 1\n",
    "                "
   ]
  },
  {
   "cell_type": "code",
   "execution_count": 91,
   "metadata": {},
   "outputs": [],
   "source": []
  },
  {
   "cell_type": "code",
   "execution_count": 80,
   "metadata": {},
   "outputs": [],
   "source": []
  },
  {
   "cell_type": "code",
   "execution_count": null,
   "metadata": {},
   "outputs": [],
   "source": [
    "#exam\n",
    "from selenium import webdriver as wd\n",
    "from selenium.webdriver.common.by import By\n",
    "from selenium.webdriver.support.ui import WebDriverWait\n",
    "from selenium.webdriver.support import expected_conditions as EC\n",
    "import time\n",
    "\n",
    "driver = wd.Chrome(executable_path='chromedriver.exe') #크롬브라우저 사용\n",
    "driver.get('https://datalab.naver.com/keyword/realtimeList.naver')\n",
    "txt = driver.find_element_by_css_selector('#content > div > div.selection_area > div.selection_content > div.field_list > div') \n",
    "print(txt.text)"
   ]
  },
  {
   "cell_type": "code",
   "execution_count": 4,
   "metadata": {},
   "outputs": [
    {
     "name": "stdout",
     "output_type": "stream",
     "text": [
      "서울특별시 2,781,345(42.34) 1,365,285(20.78) 1,492,767(22.72) \n",
      "부산광역시 872,127(38.71) 720,484(31.98) 378,907(16.82) \n",
      "광주광역시 583,847(61.14) 14,882(1.55) 287,222(30.08) \n",
      "대전광역시 404,545(42.93) 191,376(20.30) 218,769(23.21) \n",
      "세종특별자치시 77,767(51.08) 23,211(15.24) 32,010(21.02) \n",
      "제주특별자치도 169,493(45.51) 68,063(18.27) 77,861(20.90) \n"
     ]
    }
   ],
   "source": [
    "# 대통령선거 개표 현황 조회\n",
    "from selenium import webdriver as wd\n",
    "from selenium.webdriver.common.by import By\n",
    "from selenium.webdriver.support.ui import WebDriverWait\n",
    "from selenium.webdriver.support import expected_conditions as EC\n",
    "import time\n",
    "\n",
    "driver = wd.Chrome(executable_path='chromedriver.exe') #크롬브라우저 사용\n",
    "driver.get('http://info.nec.go.kr/main/showDocument.xhtml?electionId=0000000000')\n",
    "driver.find_element_by_css_selector('#presubmu > li:nth-child(3) > a').click()\n",
    "driver.find_element_by_css_selector('#header > div.selSecondMenu > ul > li:nth-child(5)').click()\n",
    "time.sleep(1)\n",
    "\n",
    "driver.find_element_by_css_selector('#electionType1').click()\n",
    "time.sleep(1)\n",
    "driver.find_element_by_css_selector('#electionName > option:nth-child(2)').click()\n",
    "time.sleep(1)\n",
    "driver.find_element_by_css_selector('#electionCode > option:nth-child(2)').click()\n",
    "time.sleep(1)\n",
    "driver.find_element_by_css_selector('#cityCode > option:nth-child(2)').click()\n",
    "time.sleep(1)\n",
    "driver.find_element_by_css_selector('#searchBtn').click()\n",
    "time.sleep(1)\n",
    "\n",
    "# tr이 행(가로줄) / td가 열(세로줄)\n",
    "tr_list = [2,3,6,7,9,18]\n",
    "for i in tr_list: #해당 list 요소 호출\n",
    "#     if i == 2 or i == 3 or i == 6 or i == 7 or i == 9 or i == 18: #2, 3, 6, 7, 9, 18번째 행만 해당시킴\n",
    "        trs0 = driver.find_element_by_css_selector('#table01 > tbody > tr:nth-child(%d) > td:nth-child(1)'% i) #해당 행의 1열만 호출\n",
    "        print(trs0.text, end =' ')\n",
    "        for j in range(4, 7):\n",
    "            trs = driver.find_element_by_css_selector('#table01 > tbody > tr:nth-child(%d)> td:nth-child(%d)'% (i, j)) #해당 행의 j열만 호출(4~6)\n",
    "            print(trs.text.replace('\\n', ''), end=' ') #줄바꿈 -> 띄어쓰기로 바꿔줌 / 줄 정리\n",
    "        print('')#줄 정리"
   ]
  },
  {
   "cell_type": "code",
   "execution_count": 3,
   "metadata": {},
   "outputs": [
    {
     "name": "stdout",
     "output_type": "stream",
     "text": [
      "[달랏4일] 낭만도시 달랏 직항+랑비앙 포함 3박4일\n",
      "[나트랑/달랏5일] 시원한 낭만도시 랑비앙관광 5일\n",
      "[대구출발_나트랑5일] 지금 핫한 그곳! 아름다운 나트랑/달랏 관광\n",
      "[나트랑 5일★연합] 나트랑 1박/ 달랏 2박 꽉찬 관광일정\n",
      "*출발확정*[관광형] 나트랑x달랏 3박5일 [4성(1박)+달랏(2박)]\n",
      "*출발확정*[관광형] 나트랑x달랏 3박5일 [5성(1박)+달랏(2박)]\n",
      "[부산출발_나트랑5일] 떠오르는 여행지 나트랑 + 봄의 도시 달랏을 동시에!! 실속 관광형\n",
      "□패키지+[35만원 상당 특전포함/봄의도시,달랏/노옵션/5성호텔] 나트랑 달랏 4박5일\n",
      "*출발확정*[증편기][관광형] 나트랑x달랏 3박5일 [5성(1박)+달랏(2박)]\n",
      "●연중 봄의 도시, 달랏● [5성호텔] 달랏 3색 골프(54홀) + 관광 4박 5일\n",
      "next\n",
      "<class 'selenium.webdriver.remote.webelement.WebElement'>\n",
      "[달랏골프팩18홀]나트랑x달랏 3박5일 [5성(1박)+달랏(2박)]\n",
      "[달랏골프팩18홀]나트랑x달랏 3박5일 [4성(1박)+달랏(2박)]\n",
      "[나트랑호텔UP] 나트랑x달랏 3박5일 [4성(1박)+달랏(2박)]\n",
      "[나트랑호텔UP][증편기] 나트랑x달랏 3박5일 [4성(1박)+달랏(2박)]\n",
      "[그린라이트/청주출발][관광형] 나트랑+달랏 3박5일 [나트랑1박+달랏2박] - 4성급\n",
      "[달랏직항] 달랏 패키지 3박4일 [5성호텔]\n",
      "[달랏직항] 달랏 패키지 3박4일 [4성호텔]\n",
      "[달랏In-나트랑Out] 두도시 여행 3박5일 [5성호텔]\n",
      "[달랏In-나트랑Out] 두도시 여행 3박4일 [4성호텔]\n",
      "[새벽출발x나트랑In-달랏Out] 두도시 여행 3박4일 [5성호텔]\n",
      "next\n",
      "<class 'selenium.webdriver.remote.webelement.WebElement'>\n",
      "[아침출발x나트랑In-달랏Out] 두도시 여행 3박4일 [5성호텔]\n",
      "[아침출발x나트랑In-달랏Out] 두도시 여행 3박4일 [4성호텔]\n",
      "□패키지+[35만원 상당 특전포함/봄의도시,달랏/노옵션/5성호텔] 나트랑 달랏 3박4일\n",
      "(무안출발)[관광형] 나트랑x달랏 3박5일 [5성(1박)+달랏(2박)]\n",
      "(무안출발)[관광형] 나트랑x달랏 3박4일 [5성(1박)+달랏(2박)]\n",
      "(무안출발)[관광형] 나트랑x달랏 3박5일 [4성(1박)+달랏(2박)]\n",
      "(무안출발)[관광형] 나트랑x달랏 3박4일 [4성(1박)+달랏(2박)]\n",
      "[모두의특가] 달랏/호치민+구찌 4박 6일 [4성호텔/중간항공탑승]\n",
      "[모두의특가] 달랏/호치민+구찌 4박 6일 [5성호텔/중간항공탑승]\n",
      "☆[트립페스타][봄의도시,달랏/전일 관광형/5성호텔] 나트랑 달랏 3박5일($30상당 지프차 옵션 포함)\n",
      "next\n",
      "<class 'selenium.webdriver.remote.webelement.WebElement'>\n",
      "♣시그니처♣[퍼펙트베트남][노쇼핑/노옵션/5성급] 나트랑x달랏 3박5일 [나트랑(1박)+달랏(2박)]($200상당 추천옵션 ALL포함)\n",
      "♣시그니처♣[퍼펙트베트남][노쇼핑/노옵션/4성급] 나트랑x달랏 3박5일 [나트랑(1박)+달랏(2박)]($200상당 추천옵션 ALL포함)\n",
      "(청주출발) [관광형] 나트랑+달랏 3박5일 [나트랑1박+달랏2박] - 5성급\n",
      "●청주출발● [퍼펙트베트남][노쇼핑,노옵션] 나트랑x달랏 3박5일 [나트랑1박+달랏2박]\n",
      "●청주출발● [관광형] 나트랑x달랏 3박5일 [나트랑1박+달랏2박]\n",
      "♣시그니처♣[퍼펙트베트남][노쇼핑,노옵션] 나트랑x달랏 4박6일 [5성(2박)+달랏(2박)]\n",
      "★[봄의도시,달랏/전일 관광형/5성호텔] 나트랑 달랏 3박4일($30상당 지프차 옵션 포함)\n",
      "★출발확정[봄의도시,달랏/전일 관광형/4성호텔] 나트랑 달랏 3박4일($30상당 지프차 옵션 포함)\n",
      "*출발확정*[증편기][관광형] 나트랑x달랏 3박5일 [4성(1박)+달랏(2박)]\n",
      "★[봄의도시,달랏/전일 관광형/4성호텔] 나트랑 달랏 3박5일($30상당 지프차 옵션 포함)\n",
      "next\n",
      "<class 'selenium.webdriver.remote.webelement.WebElement'>\n",
      "□패키지+[35만원 상당 특전포함/봄의도시,달랏/노옵션/4성호텔] 나트랑 달랏 4박5일\n",
      "□패키지+[35만원 상당 특전포함/봄의도시,달랏/노옵션/4성호텔] 나트랑 달랏 3박4일\n",
      "★[봄의도시,달랏/전일 관광형/5성호텔] 나트랑 달랏 4박5일($30상당 지프차 옵션 포함)\n",
      "★출발확정/[싸데이+][봄의도시,달랏/전일 관광형/4성호텔] 나트랑 달랏 4박5일($30상당 지프차 옵션 포함)\n",
      "[대구출발_나트랑 5일] 하루 자유시간으로 나트랑 여유롭게 즐기기! 빈펄랜드포함\n",
      "[올인클루시브] 나트랑 패키지 4박5일 [스완도르 리조트(디럭스 씨뷰)]\n",
      "[부산출발_나트랑4일] 2박 짧고 굵게 ! 빈펄랜드+몽키아일랜드+나트랑 시내관광\n",
      "[부산출발_나트랑5일] 실속있게 떠나자! 준특급 호텔+빈펄랜드+1일 자유+시내관광\n",
      "☆[전일 오후관광/오전자유/식사포함/5성 인터컨티넨탈] 나트랑 3박 4일\n",
      "☆[전일 오후관광/오전자유/식사포함/4성 노보텔 지정] 나트랑 3박 4일\n",
      "next\n",
      "<class 'selenium.webdriver.remote.webelement.WebElement'>\n"
     ]
    }
   ],
   "source": [
    "# 인터파크에서 달랏 검색 후 더보기 및 5페이지 까지 제목 출력\n",
    "from selenium import webdriver as wd\n",
    "from selenium.webdriver.common.by import By\n",
    "from selenium.webdriver.support.ui import WebDriverWait\n",
    "from selenium.webdriver.support import expected_conditions as EC\n",
    "\n",
    "driver = wd.Chrome(executable_path='chromedriver.exe') #크롬브라우저 사용\n",
    "driver.get('http://tour.interpark.com/')\n",
    "driver.find_element_by_id('SearchGNBText').send_keys('달랏')\n",
    "driver.find_element_by_class_name('search-btn').click()\n",
    "driver.implicitly_wait(10)\n",
    "driver.find_element_by_class_name('moreBtn').click()\n",
    "\n",
    "import time\n",
    "\n",
    "# 해당 줄에 range 마지막 범위 지정해줄 수있는 유동적인 코드 적어야함  a // 10 + 1 | if .. % 10 == 0: ..-= 1 \n",
    "    \n",
    "for i in range(1, 6): \n",
    "    driver.execute_script(\"searchModule.SetCategoryList(%d, '')\"% i)\n",
    "    time.sleep(3)\n",
    "    trs = driver.find_elements_by_css_selector('body > div.container > div > div > div.panelZone > div.oTravelBox > ul > li > div > div.title-row > div > h5')\n",
    "    for tr in trs:\n",
    "        print(tr.text)\n",
    "    print('next')    \n",
    "    print(type(tr))"
   ]
  },
  {
   "cell_type": "code",
   "execution_count": 5,
   "metadata": {},
   "outputs": [],
   "source": [
    "from selenium import webdriver as wd\n",
    "from selenium.webdriver.common.by import By\n",
    "from selenium.webdriver.support.ui import WebDriverWait\n",
    "from selenium.webdriver.support import expected_conditions as EC\n",
    "\n",
    "driver = wd.Chrome(executable_path='chromedriver.exe') #크롬브라우저 사용\n",
    "driver.get('http://ggoreb.com/http/control2.jsp')\n",
    "driver.find_element_by_name('no').send_keys('부산') #네임no 안에 해당하는 부산을 뽑음\n",
    "#driver.close"
   ]
  },
  {
   "cell_type": "code",
   "execution_count": 6,
   "metadata": {},
   "outputs": [
    {
     "ename": "WebDriverException",
     "evalue": "Message: Service phantomjs.exe unexpectedly exited. Status code was: 0\n",
     "output_type": "error",
     "traceback": [
      "\u001b[1;31m---------------------------------------------------------------------------\u001b[0m",
      "\u001b[1;31mWebDriverException\u001b[0m                        Traceback (most recent call last)",
      "\u001b[1;32m<ipython-input-6-2e8697097f12>\u001b[0m in \u001b[0;36m<module>\u001b[1;34m\u001b[0m\n\u001b[0;32m      3\u001b[0m \u001b[1;32mfrom\u001b[0m \u001b[0mselenium\u001b[0m\u001b[1;33m.\u001b[0m\u001b[0mwebdriver\u001b[0m\u001b[1;33m.\u001b[0m\u001b[0msupport\u001b[0m\u001b[1;33m.\u001b[0m\u001b[0mui\u001b[0m \u001b[1;32mimport\u001b[0m \u001b[0mWebDriverWait\u001b[0m\u001b[1;33m\u001b[0m\u001b[1;33m\u001b[0m\u001b[0m\n\u001b[0;32m      4\u001b[0m \u001b[1;32mfrom\u001b[0m \u001b[0mselenium\u001b[0m\u001b[1;33m.\u001b[0m\u001b[0mwebdriver\u001b[0m\u001b[1;33m.\u001b[0m\u001b[0msupport\u001b[0m \u001b[1;32mimport\u001b[0m \u001b[0mexpected_conditions\u001b[0m \u001b[1;32mas\u001b[0m \u001b[0mEC\u001b[0m\u001b[1;33m\u001b[0m\u001b[1;33m\u001b[0m\u001b[0m\n\u001b[1;32m----> 5\u001b[1;33m \u001b[0mdriver\u001b[0m \u001b[1;33m=\u001b[0m \u001b[0mwd\u001b[0m\u001b[1;33m.\u001b[0m\u001b[0mChrome\u001b[0m\u001b[1;33m(\u001b[0m\u001b[0mexecutable_path\u001b[0m\u001b[1;33m=\u001b[0m\u001b[1;34m'phantomjs.exe'\u001b[0m\u001b[1;33m)\u001b[0m \u001b[1;31m#팬텀js는 용량 적게 차지 (브라우저를 활용 x)\u001b[0m\u001b[1;33m\u001b[0m\u001b[1;33m\u001b[0m\u001b[0m\n\u001b[0m\u001b[0;32m      6\u001b[0m \u001b[1;31m# driver = wd.Chrome(executable_path='chromedriver.exe') #크롬브라우저 사용\u001b[0m\u001b[1;33m\u001b[0m\u001b[1;33m\u001b[0m\u001b[1;33m\u001b[0m\u001b[0m\n\u001b[0;32m      7\u001b[0m \u001b[0mdriver\u001b[0m\u001b[1;33m.\u001b[0m\u001b[0mget\u001b[0m\u001b[1;33m(\u001b[0m\u001b[1;34m'https://finance.naver.com'\u001b[0m\u001b[1;33m)\u001b[0m\u001b[1;33m\u001b[0m\u001b[1;33m\u001b[0m\u001b[0m\n",
      "\u001b[1;32m~\\Anaconda3\\lib\\site-packages\\selenium\\webdriver\\chrome\\webdriver.py\u001b[0m in \u001b[0;36m__init__\u001b[1;34m(self, executable_path, port, options, service_args, desired_capabilities, service_log_path, chrome_options, keep_alive)\u001b[0m\n\u001b[0;32m     71\u001b[0m             \u001b[0mservice_args\u001b[0m\u001b[1;33m=\u001b[0m\u001b[0mservice_args\u001b[0m\u001b[1;33m,\u001b[0m\u001b[1;33m\u001b[0m\u001b[1;33m\u001b[0m\u001b[0m\n\u001b[0;32m     72\u001b[0m             log_path=service_log_path)\n\u001b[1;32m---> 73\u001b[1;33m         \u001b[0mself\u001b[0m\u001b[1;33m.\u001b[0m\u001b[0mservice\u001b[0m\u001b[1;33m.\u001b[0m\u001b[0mstart\u001b[0m\u001b[1;33m(\u001b[0m\u001b[1;33m)\u001b[0m\u001b[1;33m\u001b[0m\u001b[1;33m\u001b[0m\u001b[0m\n\u001b[0m\u001b[0;32m     74\u001b[0m \u001b[1;33m\u001b[0m\u001b[0m\n\u001b[0;32m     75\u001b[0m         \u001b[1;32mtry\u001b[0m\u001b[1;33m:\u001b[0m\u001b[1;33m\u001b[0m\u001b[1;33m\u001b[0m\u001b[0m\n",
      "\u001b[1;32m~\\Anaconda3\\lib\\site-packages\\selenium\\webdriver\\common\\service.py\u001b[0m in \u001b[0;36mstart\u001b[1;34m(self)\u001b[0m\n\u001b[0;32m     96\u001b[0m         \u001b[0mcount\u001b[0m \u001b[1;33m=\u001b[0m \u001b[1;36m0\u001b[0m\u001b[1;33m\u001b[0m\u001b[1;33m\u001b[0m\u001b[0m\n\u001b[0;32m     97\u001b[0m         \u001b[1;32mwhile\u001b[0m \u001b[1;32mTrue\u001b[0m\u001b[1;33m:\u001b[0m\u001b[1;33m\u001b[0m\u001b[1;33m\u001b[0m\u001b[0m\n\u001b[1;32m---> 98\u001b[1;33m             \u001b[0mself\u001b[0m\u001b[1;33m.\u001b[0m\u001b[0massert_process_still_running\u001b[0m\u001b[1;33m(\u001b[0m\u001b[1;33m)\u001b[0m\u001b[1;33m\u001b[0m\u001b[1;33m\u001b[0m\u001b[0m\n\u001b[0m\u001b[0;32m     99\u001b[0m             \u001b[1;32mif\u001b[0m \u001b[0mself\u001b[0m\u001b[1;33m.\u001b[0m\u001b[0mis_connectable\u001b[0m\u001b[1;33m(\u001b[0m\u001b[1;33m)\u001b[0m\u001b[1;33m:\u001b[0m\u001b[1;33m\u001b[0m\u001b[1;33m\u001b[0m\u001b[0m\n\u001b[0;32m    100\u001b[0m                 \u001b[1;32mbreak\u001b[0m\u001b[1;33m\u001b[0m\u001b[1;33m\u001b[0m\u001b[0m\n",
      "\u001b[1;32m~\\Anaconda3\\lib\\site-packages\\selenium\\webdriver\\common\\service.py\u001b[0m in \u001b[0;36massert_process_still_running\u001b[1;34m(self)\u001b[0m\n\u001b[0;32m    109\u001b[0m             raise WebDriverException(\n\u001b[0;32m    110\u001b[0m                 \u001b[1;34m'Service %s unexpectedly exited. Status code was: %s'\u001b[0m\u001b[1;33m\u001b[0m\u001b[1;33m\u001b[0m\u001b[0m\n\u001b[1;32m--> 111\u001b[1;33m                 \u001b[1;33m%\u001b[0m \u001b[1;33m(\u001b[0m\u001b[0mself\u001b[0m\u001b[1;33m.\u001b[0m\u001b[0mpath\u001b[0m\u001b[1;33m,\u001b[0m \u001b[0mreturn_code\u001b[0m\u001b[1;33m)\u001b[0m\u001b[1;33m\u001b[0m\u001b[1;33m\u001b[0m\u001b[0m\n\u001b[0m\u001b[0;32m    112\u001b[0m             )\n\u001b[0;32m    113\u001b[0m \u001b[1;33m\u001b[0m\u001b[0m\n",
      "\u001b[1;31mWebDriverException\u001b[0m: Message: Service phantomjs.exe unexpectedly exited. Status code was: 0\n"
     ]
    }
   ],
   "source": [
    "from selenium import webdriver as wd\n",
    "from selenium.webdriver.common.by import By\n",
    "from selenium.webdriver.support.ui import WebDriverWait\n",
    "from selenium.webdriver.support import expected_conditions as EC\n",
    "driver = wd.PhantomJS(executable_path='phantomjs.exe') #팬텀js는 용량 적게 차지 (브라우저를 활용 x)\n",
    "# driver = wd.Chrome(executable_path='chromedriver.exe') #크롬브라우저 사용\n",
    "driver.get('https://finance.naver.com')\n",
    "driver.find_element_by_class_name('snb_search_text').send_keys('멀티캠퍼스')\n",
    "driver.find_element_by_class_name('snb_search_btn').click()\n",
    "driver.implicitly_wait(10)\n",
    "\n",
    "trs = driver.find_elements_by_css_selector('#tab_con1 > .first tr') #여러 요소를 들고오기때문에 s넣음\n",
    "print(trs) #list로 뽑아 옴\n",
    "for tr in trs:\n",
    "    print(tr.text) #리스트를 하나씩 뽑아서 text로 전환 (list형태에서는 text화가 안됨)\n",
    "driver.close() #브라우저 종료"
   ]
  },
  {
   "cell_type": "code",
   "execution_count": 8,
   "metadata": {},
   "outputs": [
    {
     "name": "stdout",
     "output_type": "stream",
     "text": [
      "[<selenium.webdriver.remote.webelement.WebElement (session=\"30c18b0111f116e18f1b35de43808d50\", element=\"0c617857-8b85-4a20-87bc-4e039f871349\")>, <selenium.webdriver.remote.webelement.WebElement (session=\"30c18b0111f116e18f1b35de43808d50\", element=\"a82cfce0-dd1e-4cb7-bdaf-8acc0e8105a1\")>, <selenium.webdriver.remote.webelement.WebElement (session=\"30c18b0111f116e18f1b35de43808d50\", element=\"b08f6b05-99b2-42f7-9b88-aa75e32fe513\")>, <selenium.webdriver.remote.webelement.WebElement (session=\"30c18b0111f116e18f1b35de43808d50\", element=\"858fa041-50bf-4d8b-894b-38a37eff4ade\")>]\n",
      "시가총액 2,104 억원\n",
      "시가총액순위 코스닥 261위\n",
      "상장주식수 5,926,779\n",
      "액면가l매매단위 500원 l 1주\n"
     ]
    }
   ],
   "source": [
    "from selenium import webdriver as wd\n",
    "from selenium.webdriver.common.by import By\n",
    "from selenium.webdriver.support.ui import WebDriverWait\n",
    "from selenium.webdriver.support import expected_conditions as EC\n",
    "# driver = wd.PhantomJS(executable_path='phantomjs.exe') #팬텀js는 용량 적게 차지 (브라우저를 활용 x)\n",
    "driver = wd.Chrome(executable_path='chromedriver.exe') #크롬브라우저 사용\n",
    "driver.get('https://finance.naver.com')\n",
    "driver.find_element_by_class_name('snb_search_text').send_keys('멀티캠퍼스')\n",
    "driver.find_element_by_class_name('snb_search_btn').click()\n",
    "driver.implicitly_wait(10)\n",
    "\n",
    "trs = driver.find_elements_by_css_selector('#tab_con1 > .first tr') #여러 요소를 들고오기때문에 s넣음\n",
    "print(trs) #list로 뽑아 옴\n",
    "for tr in trs:\n",
    "    print(tr.text) #리스트를 하나씩 뽑아서 text로 전환 (list형태에서는 text화가 안됨)\n",
    " #브라우저 종료"
   ]
  },
  {
   "cell_type": "code",
   "execution_count": 8,
   "metadata": {},
   "outputs": [
    {
     "data": {
      "text/plain": [
       "'내용'"
      ]
     },
     "execution_count": 8,
     "metadata": {},
     "output_type": "execute_result"
    }
   ],
   "source": [
    "from selenium import webdriver as wd\n",
    "driver = wd.Chrome(executable_path='chromedriver.exe')\n",
    "driver.get('http://ggoreb.com/http/wait.jsp')\n",
    "driver.find_element_by_css_selector('p:nth-child(2)').text"
   ]
  },
  {
   "cell_type": "code",
   "execution_count": null,
   "metadata": {},
   "outputs": [],
   "source": [
    "from selenium.webdriver.common.by import By\n",
    "from selenium.webdriver.support.ui import WebDriverWait\n",
    "from selenium.webdriver.support import expected_conditions as EC\n",
    "\n",
    "from selenium import webdriver as wd\n",
    "driver = wd.Chrome(executable_path='chromedriver.exe')\n",
    "driver.get('http://ggoreb.com/http/wait.jsp')\n",
    "\n",
    "\n",
    "try :\n",
    "    element = WebDriverWait(driver, 10).until(\n",
    "    EC.presence_of_element_located((By.CSS_SELECTOR, 'p:nth-of-type(2)'))\n",
    "    )\n",
    "    print(driver.find_elements_by_tag_name('p')[0].text)\n",
    "except Exception as e:\n",
    "    print('오류 발생', e)"
   ]
  },
  {
   "cell_type": "code",
   "execution_count": null,
   "metadata": {},
   "outputs": [],
   "source": [
    "from selenium.webdriver.common.by import By\n",
    "from selenium.webdriver.support.ui import WebDriverWait\n",
    "from selenium.webdriver.support import expected_conditions as EC\n",
    "\n",
    "from selenium import webdriver as wd\n",
    "driver = wd.Chrome(executable_path='chromedriver.exe')\n",
    "driver.get('http://ggoreb.com/http/control.jsp')\n",
    "driver.find_element_by_tag_name('input').send_keys('파이썬') #파이썬 자동입력\n",
    "driver.find_element_by_tag_name('button').click() #버튼 자동클릭"
   ]
  },
  {
   "cell_type": "code",
   "execution_count": 31,
   "metadata": {},
   "outputs": [],
   "source": [
    "driver.execute_script('alert(\"Hello\")') # hello는 자바스크립트 방식이라 바깥 따옴표랑 다른 따옴표를 써주어야함"
   ]
  },
  {
   "cell_type": "code",
   "execution_count": 16,
   "metadata": {},
   "outputs": [
    {
     "name": "stdout",
     "output_type": "stream",
     "text": [
      "0\n"
     ]
    }
   ],
   "source": [
    "import requests\n",
    "from bs4 import BeautifulSoup\n",
    "result = requests.get('http://ggoreb.com/http/wait.jsp')\n",
    "soup = BeautifulSoup(result.text, 'html.parser')\n",
    "print(len(soup.find_all('p'))) # → 0  p태그가 없으므로~"
   ]
  },
  {
   "cell_type": "code",
   "execution_count": 17,
   "metadata": {},
   "outputs": [],
   "source": [
    "import requests\n",
    "\n",
    "params = {'query':'배고프다', 'src_lang':'kr', 'target_lang':'vi'}\n",
    "headers = {'Authorization': 'KakaoAK 3d28d42b5f4d318cfe6bee77bb929850'}\n",
    "address ='https://kapi.kakao.com/v1/translation/translate'\n",
    "\n",
    "res = requests.get(address, params=params, headers=headers) #요청"
   ]
  },
  {
   "cell_type": "code",
   "execution_count": 5,
   "metadata": {},
   "outputs": [
    {
     "name": "stdout",
     "output_type": "stream",
     "text": [
      "[['đói']]\n"
     ]
    }
   ],
   "source": [
    "text = res.json()['translated_text'] #json 파싱\n",
    "print(text)"
   ]
  },
  {
   "cell_type": "code",
   "execution_count": null,
   "metadata": {},
   "outputs": [],
   "source": []
  }
 ],
 "metadata": {
  "kernelspec": {
   "display_name": "Python 3",
   "language": "python",
   "name": "python3"
  },
  "language_info": {
   "codemirror_mode": {
    "name": "ipython",
    "version": 3
   },
   "file_extension": ".py",
   "mimetype": "text/x-python",
   "name": "python",
   "nbconvert_exporter": "python",
   "pygments_lexer": "ipython3",
   "version": "3.7.4"
  }
 },
 "nbformat": 4,
 "nbformat_minor": 2
}
